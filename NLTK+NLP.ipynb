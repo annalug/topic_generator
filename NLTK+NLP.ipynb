{
 "cells": [
  {
   "cell_type": "code",
   "execution_count": 1,
   "id": "5583a737",
   "metadata": {},
   "outputs": [],
   "source": [
    "import nltk\n",
    "import pandas as pd\n",
    "import re"
   ]
  },
  {
   "cell_type": "code",
   "execution_count": 2,
   "id": "e19505e5",
   "metadata": {},
   "outputs": [],
   "source": [
    "text = pd.read_csv('Data/dataset.csv')"
   ]
  },
  {
   "cell_type": "code",
   "execution_count": 3,
   "id": "130d459d",
   "metadata": {
    "scrolled": true
   },
   "outputs": [
    {
     "data": {
      "text/html": [
       "<div>\n",
       "<style scoped>\n",
       "    .dataframe tbody tr th:only-of-type {\n",
       "        vertical-align: middle;\n",
       "    }\n",
       "\n",
       "    .dataframe tbody tr th {\n",
       "        vertical-align: top;\n",
       "    }\n",
       "\n",
       "    .dataframe thead th {\n",
       "        text-align: right;\n",
       "    }\n",
       "</style>\n",
       "<table border=\"1\" class=\"dataframe\">\n",
       "  <thead>\n",
       "    <tr style=\"text-align: right;\">\n",
       "      <th></th>\n",
       "      <th>movie_name</th>\n",
       "      <th>script</th>\n",
       "    </tr>\n",
       "  </thead>\n",
       "  <tbody>\n",
       "    <tr>\n",
       "      <th>0</th>\n",
       "      <td>12 Monkeys</td>\n",
       "      <td>Twelve MonkeysTWELVE MONKEYS              An o...</td>\n",
       "    </tr>\n",
       "    <tr>\n",
       "      <th>1</th>\n",
       "      <td>2001 A Space Odyssey</td>\n",
       "      <td>2001: A SPACE ODYSSEY    Screenplay   ...</td>\n",
       "    </tr>\n",
       "    <tr>\n",
       "      <th>2</th>\n",
       "      <td>2012</td>\n",
       "      <td>...</td>\n",
       "    </tr>\n",
       "    <tr>\n",
       "      <th>3</th>\n",
       "      <td>28 Days Later</td>\n",
       "      <td>28 DAYS LATER       ...</td>\n",
       "    </tr>\n",
       "    <tr>\n",
       "      <th>4</th>\n",
       "      <td>9</td>\n",
       "      <td>...</td>\n",
       "    </tr>\n",
       "  </tbody>\n",
       "</table>\n",
       "</div>"
      ],
      "text/plain": [
       "             movie_name                                             script\n",
       "0            12 Monkeys  Twelve MonkeysTWELVE MONKEYS              An o...\n",
       "1  2001 A Space Odyssey          2001: A SPACE ODYSSEY    Screenplay   ...\n",
       "2                  2012                                                ...\n",
       "3         28 Days Later                            28 DAYS LATER       ...\n",
       "4                     9                                                ..."
      ]
     },
     "execution_count": 3,
     "metadata": {},
     "output_type": "execute_result"
    }
   ],
   "source": [
    "text.head()"
   ]
  },
  {
   "cell_type": "code",
   "execution_count": 4,
   "id": "876f00b2",
   "metadata": {},
   "outputs": [],
   "source": [
    "text.dropna(inplace=True)"
   ]
  },
  {
   "cell_type": "code",
   "execution_count": 5,
   "id": "3cd1f177",
   "metadata": {},
   "outputs": [
    {
     "name": "stdout",
     "output_type": "stream",
     "text": [
      "<class 'pandas.core.frame.DataFrame'>\n",
      "Int64Index: 165 entries, 0 to 167\n",
      "Data columns (total 2 columns):\n",
      " #   Column      Non-Null Count  Dtype \n",
      "---  ------      --------------  ----- \n",
      " 0   movie_name  165 non-null    object\n",
      " 1   script      165 non-null    object\n",
      "dtypes: object(2)\n",
      "memory usage: 3.9+ KB\n"
     ]
    }
   ],
   "source": [
    "text.info()"
   ]
  },
  {
   "cell_type": "markdown",
   "id": "a5618dcf",
   "metadata": {},
   "source": [
    "# pre-processing"
   ]
  },
  {
   "cell_type": "code",
   "execution_count": 7,
   "id": "37f81347",
   "metadata": {},
   "outputs": [],
   "source": [
    "import nltk\n",
    "from nltk.corpus import stopwords\n",
    "from gensim.utils import simple_preprocess\n",
    "from nltk.stem import WordNetLemmatizer"
   ]
  },
  {
   "cell_type": "code",
   "execution_count": 8,
   "id": "c68761d2",
   "metadata": {},
   "outputs": [],
   "source": [
    "stop_words = stopwords.words('english')\n",
    "# stop_words.extend(['int','ext','im','one','contd'])"
   ]
  },
  {
   "cell_type": "code",
   "execution_count": 10,
   "id": "2f14f4c6",
   "metadata": {},
   "outputs": [
    {
     "name": "stderr",
     "output_type": "stream",
     "text": [
      "[nltk_data] Downloading package punkt to /home/anna/nltk_data...\n",
      "[nltk_data]   Package punkt is already up-to-date!\n"
     ]
    },
    {
     "data": {
      "text/plain": [
       "True"
      ]
     },
     "execution_count": 10,
     "metadata": {},
     "output_type": "execute_result"
    }
   ],
   "source": [
    "nltk.download('punkt')"
   ]
  },
  {
   "cell_type": "code",
   "execution_count": 11,
   "id": "de8eec9c",
   "metadata": {},
   "outputs": [],
   "source": [
    "def tokenize_list(texts):\n",
    "    word_list = []\n",
    "    for item in range(len(texts)):\n",
    "        \n",
    "        word_list.append(nltk.word_tokenize(texts[item]))\n",
    "    return word_list\n",
    "\n",
    "def remove_stopwords(texts):\n",
    "    return [[word for word in simple_preprocess(str(doc)) \n",
    "             if word not in stop_words] for doc in texts]\n",
    "\n",
    "def lemmatize(text):\n",
    "    lemmatizer = WordNetLemmatizer()\n",
    "    for item in range(len(text)):\n",
    "        text[item]=  [lemmatizer.lemmatize(w,pos='v') for w in text[item]]\n",
    "        \n",
    "    return text"
   ]
  },
  {
   "cell_type": "code",
   "execution_count": 12,
   "id": "178c2353",
   "metadata": {},
   "outputs": [],
   "source": [
    "text_list = tokenize_list(text.script.tolist())\n",
    "text_list = remove_stopwords(text_list)\n",
    "text_list = lemmatize(text_list)"
   ]
  },
  {
   "cell_type": "code",
   "execution_count": 13,
   "id": "752615ec",
   "metadata": {},
   "outputs": [
    {
     "data": {
      "text/plain": [
       "165"
      ]
     },
     "execution_count": 13,
     "metadata": {},
     "output_type": "execute_result"
    }
   ],
   "source": [
    "len(text_list)"
   ]
  },
  {
   "cell_type": "code",
   "execution_count": 14,
   "id": "28e4aad5",
   "metadata": {},
   "outputs": [
    {
     "name": "stdout",
     "output_type": "stream",
     "text": [
      "[(0, 3), (1, 1), (2, 1), (3, 4), (4, 1), (5, 1), (6, 1), (7, 1), (8, 1), (9, 1), (10, 1), (11, 2), (12, 1), (13, 4), (14, 2), (15, 2), (16, 1), (17, 1), (18, 1), (19, 2), (20, 3), (21, 1), (22, 2), (23, 1), (24, 1), (25, 1), (26, 1), (27, 1), (28, 1), (29, 15)]\n"
     ]
    }
   ],
   "source": [
    "import gensim.corpora as corpora\n",
    "\n",
    "# Create dictionary\n",
    "id2word = corpora.Dictionary(text_list)\n",
    "\n",
    "\n",
    "# Create corpus: Word frequency \n",
    "corpus = [id2word.doc2bow(text) for text in text_list]\n",
    "\n",
    "# View\n",
    "print(corpus[:1][0][:30])"
   ]
  },
  {
   "cell_type": "code",
   "execution_count": 52,
   "id": "24daf697",
   "metadata": {},
   "outputs": [
    {
     "name": "stderr",
     "output_type": "stream",
     "text": [
      "/home/anna/anaconda3/lib/python3.8/site-packages/ipykernel/ipkernel.py:287: DeprecationWarning: `should_run_async` will not call `transform_cell` automatically in the future. Please pass the result to `transformed_cell` argument and any exception that happen during thetransform in `preprocessing_exc_tuple` in IPython 7.17 and above.\n",
      "  and should_run_async(code)\n"
     ]
    }
   ],
   "source": [
    "from tqdm import tqdm\n",
    "from gensim.models.ldamulticore import LdaMulticore\n",
    "from gensim.models import CoherenceModel\n",
    "import matplotlib.pyplot as plt"
   ]
  },
  {
   "cell_type": "code",
   "execution_count": 53,
   "id": "33c6db94",
   "metadata": {},
   "outputs": [
    {
     "name": "stderr",
     "output_type": "stream",
     "text": [
      "/home/anna/anaconda3/lib/python3.8/site-packages/ipykernel/ipkernel.py:287: DeprecationWarning: `should_run_async` will not call `transform_cell` automatically in the future. Please pass the result to `transformed_cell` argument and any exception that happen during thetransform in `preprocessing_exc_tuple` in IPython 7.17 and above.\n",
      "  and should_run_async(code)\n",
      "100%|██████████| 14/14 [05:26<00:00, 23.31s/it]\n"
     ]
    },
    {
     "data": {
      "image/png": "[encoded data removed]",
      "text/plain": [
       "<Figure size 432x288 with 1 Axes>"
      ]
     },
     "metadata": {
      "needs_background": "light"
     },
     "output_type": "display_data"
    },
    {
     "name": "stdout",
     "output_type": "stream",
     "text": [
      "A quantidade de tópicos = 2  tem um valor de coerência de  0.2429\n",
      "A quantidade de tópicos = 4  tem um valor de coerência de  0.2398\n",
      "A quantidade de tópicos = 6  tem um valor de coerência de  0.2392\n",
      "A quantidade de tópicos = 8  tem um valor de coerência de  0.2404\n",
      "A quantidade de tópicos = 10  tem um valor de coerência de  0.2371\n",
      "A quantidade de tópicos = 12  tem um valor de coerência de  0.2405\n",
      "A quantidade de tópicos = 14  tem um valor de coerência de  0.2417\n",
      "A quantidade de tópicos = 16  tem um valor de coerência de  0.238\n",
      "A quantidade de tópicos = 18  tem um valor de coerência de  0.24\n",
      "A quantidade de tópicos = 20  tem um valor de coerência de  0.2377\n",
      "A quantidade de tópicos = 22  tem um valor de coerência de  0.2364\n",
      "A quantidade de tópicos = 24  tem um valor de coerência de  0.2411\n",
      "A quantidade de tópicos = 26  tem um valor de coerência de  0.2378\n",
      "A quantidade de tópicos = 28  tem um valor de coerência de  0.2412\n"
     ]
    }
   ],
   "source": [
    "def compute_coherence_values(dictionary, corpus, texts, limit, start=2, step=5):\n",
    "    coherence_values = []\n",
    "    model_list = []\n",
    "    for num_topics in tqdm(range(start, limit, step)):\n",
    "        model = LdaMulticore(corpus, id2word=id2word, num_topics=10)\n",
    "        model_list.append(model)\n",
    "        coherencemodel = CoherenceModel(model=model, texts=texts, dictionary=dictionary, coherence='c_v')\n",
    "        coherence_values.append(coherencemodel.get_coherence())\n",
    "    return model_list, coherence_values\n",
    "# Colocando parametros na função\n",
    "model_list, coherence_values = compute_coherence_values(dictionary=id2word, corpus=corpus, texts=text_list, start=2, limit=30, step=2)\n",
    "# Mostrando visualmente a quantidade de tópicos\n",
    "limit=30; start=2; step=2;\n",
    "x = range(start, limit, step)\n",
    "plt.plot(x, coherence_values)\n",
    "plt.xlabel(\"Num Tópicos\")\n",
    "plt.ylabel(\"Score de Coerência\")\n",
    "plt.legend((\"Valores de Coerência\"), loc='best')\n",
    "plt.show()\n",
    "# Lista dos valores de coerência, para melhor identificar o ponto de inflexão do gráfico\n",
    "for m, cv in zip(x, coherence_values):\n",
    "    print(\"A quantidade de tópicos =\", m, \" tem um valor de coerência de \", round(cv, 4))"
   ]
  },
  {
   "cell_type": "code",
   "execution_count": 17,
   "id": "5d366ace",
   "metadata": {},
   "outputs": [],
   "source": [
    "#https://medium.com/somos-tera/como-modelar-t%C3%B3picos-atrav%C3%A9s-de-latent-dirichlet-allocation-lda-atrav%C3%A9s-da-biblioteca-gensim-1fa17357ad4b"
   ]
  },
  {
   "cell_type": "code",
   "execution_count": 61,
   "id": "dd07630c",
   "metadata": {},
   "outputs": [
    {
     "name": "stderr",
     "output_type": "stream",
     "text": [
      "/home/anna/anaconda3/lib/python3.8/site-packages/ipykernel/ipkernel.py:287: DeprecationWarning: `should_run_async` will not call `transform_cell` automatically in the future. Please pass the result to `transformed_cell` argument and any exception that happen during thetransform in `preprocessing_exc_tuple` in IPython 7.17 and above.\n",
      "  and should_run_async(code)\n"
     ]
    },
    {
     "name": "stdout",
     "output_type": "stream",
     "text": [
      "[(0,\n",
      "  '0.008*\"look\" + 0.006*\"int\" + 0.006*\"get\" + 0.006*\"back\" + 0.006*\"see\" + '\n",
      "  '0.005*\"go\" + 0.005*\"continue\" + 0.005*\"one\" + 0.005*\"ext\" + 0.004*\"like\"'),\n",
      " (1,\n",
      "  '0.008*\"look\" + 0.006*\"int\" + 0.006*\"get\" + 0.006*\"go\" + 0.005*\"back\" + '\n",
      "  '0.005*\"see\" + 0.004*\"man\" + 0.004*\"know\" + 0.004*\"one\" + 0.004*\"like\"'),\n",
      " (2,\n",
      "  '0.008*\"look\" + 0.007*\"get\" + 0.006*\"int\" + 0.006*\"back\" + 0.006*\"go\" + '\n",
      "  '0.006*\"see\" + 0.005*\"one\" + 0.004*\"like\" + 0.004*\"ext\" + 0.004*\"come\"'),\n",
      " (3,\n",
      "  '0.008*\"look\" + 0.008*\"int\" + 0.006*\"get\" + 0.006*\"go\" + 0.006*\"back\" + '\n",
      "  '0.005*\"see\" + 0.004*\"ext\" + 0.004*\"one\" + 0.004*\"like\" + 0.004*\"sam\"')]\n"
     ]
    }
   ],
   "source": [
    "# number of topics\n",
    "num_topics = 4\n",
    "\n",
    "# Build LDA model\n",
    "lda_model = LdaMulticore(corpus=corpus,\n",
    "                        id2word=id2word,\n",
    "                        num_topics=num_topics, \n",
    "                        random_state=42,\n",
    "                        chunksize=100,\n",
    "                        passes=10,\n",
    "                        per_word_topics=True,\n",
    "                        alpha = 1,\n",
    "                        eta = 0.2)\n",
    "\n",
    "# Print the Keyword in the 10 topics\n",
    "pprint(lda_model.print_topics())\n",
    "doc_lda = lda_model[corpus]"
   ]
  },
  {
   "cell_type": "code",
   "execution_count": 62,
   "id": "b7b0c749",
   "metadata": {},
   "outputs": [
    {
     "name": "stderr",
     "output_type": "stream",
     "text": [
      "/home/anna/anaconda3/lib/python3.8/site-packages/ipykernel/ipkernel.py:287: DeprecationWarning: `should_run_async` will not call `transform_cell` automatically in the future. Please pass the result to `transformed_cell` argument and any exception that happen during thetransform in `preprocessing_exc_tuple` in IPython 7.17 and above.\n",
      "  and should_run_async(code)\n"
     ]
    },
    {
     "name": "stdout",
     "output_type": "stream",
     "text": [
      "\n",
      "Coherence Score:  0.24186394994275523\n"
     ]
    }
   ],
   "source": [
    "# Compute Coherence Score\n",
    "coherence_model_lda = CoherenceModel(model=lda_model, texts=text_list, dictionary=id2word, coherence='c_v')\n",
    "coherence_lda = coherence_model_lda.get_coherence()\n",
    "print('\\nCoherence Score: ', coherence_lda)"
   ]
  },
  {
   "cell_type": "code",
   "execution_count": 63,
   "id": "c89e84d5",
   "metadata": {},
   "outputs": [
    {
     "name": "stderr",
     "output_type": "stream",
     "text": [
      "/home/anna/anaconda3/lib/python3.8/site-packages/ipykernel/ipkernel.py:287: DeprecationWarning: `should_run_async` will not call `transform_cell` automatically in the future. Please pass the result to `transformed_cell` argument and any exception that happen during thetransform in `preprocessing_exc_tuple` in IPython 7.17 and above.\n",
      "  and should_run_async(code)\n",
      "/home/anna/anaconda3/lib/python3.8/site-packages/pyLDAvis/_prepare.py:246: FutureWarning: In a future version of pandas all arguments of DataFrame.drop except for the argument 'labels' will be keyword-only\n",
      "  default_term_info = default_term_info.sort_values(\n"
     ]
    },
    {
     "data": {
      "text/html": [
       "\n",
       "<link rel=\"stylesheet\" type=\"text/css\" href=\"https://cdn.jsdelivr.net/gh/bmabey/pyLDAvis@3.3.1/pyLDAvis/js/ldavis.v1.0.0.css\">\n",
       "\n",
       "\n",
       "<div id=\"ldavis_el117781401908284283041402828346\"></div>\n",
       "<script type=\"text/javascript\">\n",
       "\n",
       "var ldavis_el117781401908284283041402828346_data = {\"mdsDat\": {\"x\": [-0.02157266996170411, 0.06507626546823081, -0.0015227215316929456, -0.04198087397483375], \"y\": [0.05703695077246277, -0.010553494144342767, -0.0008451901869923338, -0.04563826644112767], \"topics\": [1, 2, 3, 4], \"cluster\": [1, 1, 1, 1], \"Freq\": [26.117866989606775, 18.91897102489086, 27.50730502039911, 27.45585696510326]}, \"tinfo\": {\"Term\": [\"logan\", \"sam\", \"kirk\", \"joe\", \"luke\", \"max\", \"picard\", \"david\", \"cris\", \"cooper\", \"viktor\", \"arthur\", \"eddie\", \"norman\", \"caleb\", \"spooner\", \"postman\", \"spock\", \"theodore\", \"rachel\", \"jenny\", \"colter\", \"conway\", \"angier\", \"jake\", \"truman\", \"paul\", \"quail\", \"jay\", \"peter\", \"plissken\", \"kable\", \"angier\", \"tchalla\", \"ryushi\", \"ester\", \"nakia\", \"bower\", \"killmonger\", \"borden\", \"okoye\", \"payton\", \"elliott\", \"hiroko\", \"gregory\", \"magneto\", \"gallo\", \"shuri\", \"loveless\", \"bumstead\", \"stuey\", \"klaue\", \"railly\", \"nadia\", \"sanger\", \"scheer\", \"riddick\", \"malloy\", \"gremlin\", \"humanz\", \"logan\", \"postman\", \"lilly\", \"silus\", \"schaefer\", \"corey\", \"merrill\", \"gordon\", \"macready\", \"peyton\", \"alex\", \"jake\", \"audrey\", \"cole\", \"lincoln\", \"laura\", \"eddie\", \"jackson\", \"cutter\", \"rick\", \"priest\", \"greer\", \"julie\", \"west\", \"billy\", \"continue\", \"look\", \"jack\", \"white\", \"see\", \"back\", \"turn\", \"get\", \"int\", \"ext\", \"hand\", \"like\", \"go\", \"one\", \"eye\", \"contd\", \"take\", \"face\", \"day\", \"head\", \"move\", \"night\", \"come\", \"know\", \"man\", \"around\", \"open\", \"cut\", \"make\", \"dont\", \"room\", \"door\", \"spooner\", \"jerome\", \"caleb\", \"ava\", \"roxanne\", \"quail\", \"ilia\", \"viktor\", \"colter\", \"melina\", \"jenny\", \"christina\", \"shermin\", \"lainey\", \"poole\", \"vger\", \"goodwin\", \"wez\", \"cris\", \"elaine\", \"pappagallo\", \"jeromes\", \"simone\", \"saavik\", \"theodore\", \"deckard\", \"rutledge\", \"zaius\", \"hal\", \"humungus\", \"conway\", \"buckaroo\", \"taylor\", \"otto\", \"sid\", \"eugene\", \"evey\", \"clive\", \"eli\", \"decker\", \"ferris\", \"solara\", \"finch\", \"samantha\", \"susan\", \"peter\", \"max\", \"parker\", \"kirk\", \"spock\", \"nathan\", \"man\", \"look\", \"go\", \"get\", \"int\", \"paul\", \"see\", \"know\", \"back\", \"come\", \"dont\", \"like\", \"one\", \"im\", \"take\", \"shoot\", \"hand\", \"ext\", \"turn\", \"think\", \"room\", \"door\", \"want\", \"open\", \"face\", \"night\", \"around\", \"day\", \"right\", \"head\", \"make\", \"oshea\", \"norma\", \"starla\", \"rorschach\", \"doolittle\", \"starck\", \"truman\", \"grabbers\", \"soran\", \"christof\", \"quentin\", \"kase\", \"zaphod\", \"lindsey\", \"tudor\", \"korben\", \"ryan\", \"trumans\", \"kylie\", \"yaz\", \"vfx\", \"forsythe\", \"trillian\", \"rheya\", \"murph\", \"shinzon\", \"talby\", \"coffey\", \"rollo\", \"mal\", \"picard\", \"terminator\", \"dredd\", \"nantz\", \"aurora\", \"rachel\", \"connor\", \"cooper\", \"robbie\", \"worf\", \"riker\", \"geordi\", \"arthur\", \"reed\", \"dan\", \"weir\", \"jay\", \"reese\", \"earl\", \"sue\", \"marcus\", \"marco\", \"klaatu\", \"kelvin\", \"lenny\", \"val\", \"kay\", \"jim\", \"miller\", \"grant\", \"ray\", \"ship\", \"look\", \"get\", \"back\", \"go\", \"int\", \"see\", \"one\", \"like\", \"come\", \"hand\", \"ext\", \"open\", \"know\", \"move\", \"door\", \"take\", \"im\", \"around\", \"turn\", \"head\", \"eye\", \"dont\", \"right\", \"wall\", \"room\", \"light\", \"face\", \"away\", \"two\", \"night\", \"continue\", \"valentina\", \"beth\", \"gerty\", \"tilda\", \"vince\", \"witwer\", \"cid\", \"joel\", \"krod\", \"loki\", \"henri\", \"rizzo\", \"plexor\", \"thor\", \"anakin\", \"obi\", \"leia\", \"padme\", \"precrime\", \"hellboy\", \"naboo\", \"natasha\", \"myers\", \"richardson\", \"beem\", \"coulson\", \"burke\", \"qui\", \"rhodes\", \"artoo\", \"threepio\", \"han\", \"luke\", \"ripcord\", \"beck\", \"jedi\", \"mulder\", \"joe\", \"jetson\", \"norman\", \"jill\", \"scully\", \"andrew\", \"mcconnell\", \"todd\", \"sam\", \"adam\", \"linda\", \"david\", \"sykes\", \"traveller\", \"anderson\", \"jimmy\", \"jar\", \"julius\", \"lou\", \"ripley\", \"int\", \"look\", \"go\", \"get\", \"back\", \"ext\", \"see\", \"like\", \"room\", \"one\", \"move\", \"day\", \"dont\", \"know\", \"door\", \"im\", \"time\", \"come\", \"turn\", \"eye\", \"take\", \"hand\", \"open\", \"around\", \"away\", \"head\", \"face\", \"contd\"], \"Freq\": [2147.0, 2777.0, 1793.0, 1411.0, 1380.0, 1348.0, 1172.0, 1907.0, 775.0, 1047.0, 697.0, 1016.0, 1145.0, 910.0, 627.0, 624.0, 810.0, 918.0, 610.0, 805.0, 574.0, 568.0, 575.0, 709.0, 838.0, 741.0, 1088.0, 542.0, 807.0, 699.0, 597.1009053630801, 526.9510457059139, 702.9024747602764, 351.73387025155705, 170.7544061563333, 273.15915975268825, 198.71922631900446, 658.2063430584982, 188.9726611713342, 545.1823115613671, 157.081356444156, 344.317112934202, 254.51527167473586, 193.6089763725927, 141.5296434164821, 211.88281233739485, 175.198143911264, 158.8035835368033, 243.56757635025664, 274.4123162836716, 124.04514027626672, 142.33864557045843, 197.20852317760497, 186.59933080413361, 98.94208423442723, 110.49578709037594, 281.89002896335455, 98.9170319886937, 115.26886068127692, 98.89886783496429, 2094.3123664655427, 794.8075141269393, 425.6973177949008, 375.1734860896684, 367.6280830243647, 282.57667819417605, 296.5755261543314, 579.886662040128, 462.07617194368294, 216.56948714463908, 396.0072261729929, 795.0446685834962, 319.54971106457856, 456.5804949824623, 678.1805172902456, 354.1121498404199, 1040.6523277090303, 359.2040655567564, 404.39892913490274, 623.8895625565029, 524.1690729027054, 628.7302074795828, 414.0913079588072, 766.6462727925256, 517.6168476662242, 2668.5223562972697, 4876.605321387384, 792.1460914376203, 1124.0204869450245, 3274.1438144618232, 3337.5787538501345, 2452.4527405405156, 3508.865498968762, 3536.280445297889, 2635.6252370687776, 2311.8540270103003, 2586.9676190905307, 3055.95055742111, 2653.2375270713956, 2109.095674562978, 1771.6379447457375, 2140.3110788843883, 1863.6985019229826, 1846.7390329660104, 1885.6787606684857, 1933.32748576356, 1739.2042495442292, 2005.7070803291838, 1981.814619212796, 1683.205592237769, 1695.3347569134849, 1714.036624017714, 1441.117833164518, 1480.893111938546, 1604.0207668636801, 1564.4038631828432, 1541.5944482363886, 619.1712126525497, 473.46964709952033, 621.1313424044372, 304.679984431765, 215.9865032004108, 536.9782255826525, 202.59385605721414, 689.6397399869448, 561.4821636039926, 147.99011658235693, 566.9027778550013, 193.4931075600859, 171.62359900472012, 124.1272148101367, 104.18528709019826, 96.55839344654676, 222.7699092913123, 88.01644036135812, 764.5735548584988, 460.806714139085, 81.32532190603702, 96.49777386159501, 344.9423534633617, 165.70829543064409, 600.9403698903113, 448.2662400089352, 129.62618300084534, 155.1380409700885, 324.6888949143053, 71.76145973795643, 565.1902268408824, 452.40352514191665, 447.9603146896543, 320.43235409951654, 332.7364112323644, 191.01594036459406, 303.8424596631054, 502.80506644789955, 534.7399147052269, 284.2791564131033, 375.62688967159175, 282.9116830485115, 219.79423363418297, 349.74352807787545, 398.17956819836877, 589.3269854881951, 1028.566358851634, 417.99077050098725, 1237.6522207268376, 673.0949853044739, 459.0000891181188, 1869.1536331317388, 3354.6501079964023, 2579.8358903359626, 2705.939213680973, 2734.6762848936064, 633.251760571064, 2310.9598618480622, 1847.7355097959742, 2319.5005398337603, 1709.356933014817, 1573.9826138310573, 1765.7897072301867, 1800.8617191071567, 1467.6746495234997, 1562.063156272038, 1065.3929076273923, 1414.76376169962, 1473.3515156527722, 1294.6905378422273, 1150.9327413442425, 1198.1118660018526, 1170.9391139476038, 1025.636118623689, 1160.1081355207168, 1135.536438589259, 1114.0855938598083, 1131.3767806961368, 1109.8602960624846, 1074.130111092036, 1111.7288650471003, 1039.3369209702996, 520.5491712393308, 415.1049907022819, 401.18797213554836, 346.8450944938762, 209.41167911645982, 196.75940275891062, 732.5087666539057, 109.75927345731749, 171.5064736370377, 228.4510406603997, 98.16161767108618, 152.1719333308625, 274.6649577861823, 326.75481129326147, 105.82027865473044, 248.48266068689466, 497.2035565541844, 153.02148356663508, 103.82307969655865, 119.21306339386766, 107.64543777905982, 97.03874182496415, 135.56145110072822, 227.07789248792585, 121.08290504883578, 221.21196914917374, 98.92054002000097, 162.44898702745368, 90.22941612805752, 469.3670475068155, 1148.1205355309046, 675.7920276951635, 446.308891331066, 538.3118788150666, 553.2957969167392, 787.9768666686646, 327.7248762879587, 1019.2264900267619, 299.57937800285936, 333.8113373365622, 344.10166413606106, 292.5456544696822, 980.8448320989693, 529.5372293106283, 452.2985536642669, 330.61776787473747, 770.8610482135894, 349.414953505975, 413.21204202605736, 474.9447241897092, 757.2410175634686, 496.75456384502786, 402.27142274617796, 386.6176518019451, 733.3023584909148, 499.61725509239716, 678.4043749665027, 1077.887801254954, 472.32689571797897, 964.7820489660793, 762.4059562744328, 1635.5108088438067, 4944.976491329024, 4205.681926941328, 3782.44871013236, 3758.4922102899054, 3931.4837668093637, 3406.0242281661194, 2998.938269460773, 2654.177499933899, 2320.545645041514, 2169.4721550164686, 2341.3012671549554, 1979.6000775855193, 2200.6118217086437, 1996.2655061627108, 1939.0674246650533, 2109.7058624493134, 1910.7867234369749, 1877.0285476011254, 2018.6778121381353, 1834.1788873833316, 1869.4932942321677, 1891.9150579651296, 1651.4032806913435, 1438.4673151103798, 1728.2892607962028, 1586.2449199329678, 1633.751665941834, 1572.3186585577319, 1563.1076625123594, 1589.3659799203385, 1569.8726818394384, 266.115561153655, 459.39137651018615, 219.29039084959942, 284.3285638372419, 548.2680104584207, 294.8554736377756, 169.55556979670436, 258.70673451909937, 232.50323250759712, 236.299766945934, 290.56499835295665, 141.16945426631054, 191.52756119243236, 179.8648574166401, 601.1159443383021, 556.9740776908769, 401.1494805736728, 307.2391447511141, 98.35893225141382, 386.381530694478, 159.19604241933516, 127.29797117625168, 228.7011198470826, 161.06553352121207, 82.80606214771917, 88.59960012566093, 175.5047973859382, 385.0377512750117, 110.78711292921163, 424.63358139464503, 383.8361092475726, 554.0696833437048, 1337.834178875558, 265.16653034784485, 529.5985947756302, 280.1951012035905, 661.4878272008226, 1365.3346711801198, 266.4490744757774, 881.596393060981, 318.7023555683858, 362.3889534673107, 438.6875545929329, 385.6335125551535, 498.95684822835256, 2364.4792238150276, 485.34966917179514, 457.4371393406101, 1610.3908345105297, 412.5629880010281, 399.9216280535655, 570.5724603201542, 559.586938413597, 579.2520667551009, 506.19384058935185, 354.9737798171363, 696.2631078974207, 4628.333040798454, 4957.773974668532, 3617.662164768431, 3783.8133741763727, 3435.9168207158136, 2723.4439712954436, 3228.340303103136, 2656.979024954525, 2109.734689781375, 2706.4612884225426, 2075.270144666341, 1932.1381127155635, 2086.5461632201504, 2226.367305761475, 1975.4199676860972, 1985.5876364026058, 1768.1375225041193, 2188.7956908934802, 2121.196792105778, 1973.0882708158322, 2075.589390612509, 2045.6902627715504, 1873.3894209910752, 1803.8670367714433, 1652.7541422291408, 1725.7345951049128, 1611.8789325499258, 1578.7673208599826], \"Total\": [2147.0, 2777.0, 1793.0, 1411.0, 1380.0, 1348.0, 1172.0, 1907.0, 775.0, 1047.0, 697.0, 1016.0, 1145.0, 910.0, 627.0, 624.0, 810.0, 918.0, 610.0, 805.0, 574.0, 568.0, 575.0, 709.0, 838.0, 741.0, 1088.0, 542.0, 807.0, 699.0, 602.0138210635059, 531.7212332139181, 709.3938556947594, 355.0462049664441, 172.50719178610356, 275.96892473180924, 200.81528125244554, 665.4395008851546, 191.05278937935608, 551.2099474897636, 158.84149776952708, 348.2085450166201, 257.43386445828673, 195.9298916886411, 143.2294984350996, 214.4803140290252, 177.38422655763478, 160.78645572017075, 246.67476549174827, 277.9331988492034, 125.65255299707621, 144.1943023336725, 199.828562805886, 189.097497917937, 100.2736537896413, 111.9841784954761, 285.74313031036456, 100.27276175095524, 116.86172028568124, 100.27026468011742, 2147.280831820817, 810.9118333397038, 432.1414408587984, 380.4338823749754, 373.57761721022734, 286.71107534404234, 301.31832267107944, 597.0389622412716, 474.97176077608526, 220.31528828064214, 408.58975820329, 838.9213346550787, 328.58143517940834, 474.98571134051014, 718.9823412694248, 366.7458629441559, 1145.5084727359542, 375.3962940241993, 426.2274025056814, 678.5944101532847, 589.1896724009939, 753.6498717764177, 476.2155890279485, 1099.3941555141998, 652.1703583952595, 6208.6732222837545, 18134.005895381342, 1248.867028829879, 2119.122376482397, 12219.46820757914, 12875.444824532067, 7887.0178826266565, 14204.300013767435, 14830.773537799314, 9173.721991171948, 7941.780206497939, 9663.913851209141, 13011.94082281541, 10159.498804061866, 6950.428199634562, 5395.563394345964, 7887.669488218249, 6244.865539004001, 6150.507335673208, 6557.32110820383, 6982.333856502621, 5960.799454651485, 8224.405349278995, 8256.52925647889, 6193.5547881568555, 6507.607121982191, 6727.134258115025, 5063.0135176126905, 5522.290613186175, 7156.464601880018, 6600.539679762273, 6627.020954535143, 624.6153806181292, 478.2688878238294, 627.4860869191938, 307.8434739520041, 218.31543665933629, 542.7903351173052, 204.83154530687548, 697.8108363528728, 568.7814796654259, 149.9587851001864, 574.569719253263, 196.16999005932206, 174.02884288551886, 125.88835271615973, 105.66995410907953, 97.96501127528703, 226.0206673042602, 89.30147823582314, 775.8103373663171, 467.71471148661203, 82.55971308299178, 97.96604337428701, 350.2225385641502, 168.25390222015088, 610.2034370507885, 455.20448542635694, 131.66785549452806, 157.66224479103914, 329.9917088668923, 72.93389333414385, 575.5859004832032, 460.01660030785473, 457.1359055660555, 326.18591554146985, 339.6504806900795, 194.22997531090948, 310.78797733112896, 520.778402385922, 556.468791559651, 292.438798485837, 390.7347723062581, 294.49347778393667, 226.04287857558987, 377.48474537521145, 437.3013281493638, 699.435807800237, 1348.239727448546, 477.00325661052955, 1793.7406736323026, 918.8418724753287, 600.698819943996, 6193.5547881568555, 18134.005895381342, 13011.94082281541, 14204.300013767435, 14830.773537799314, 1088.6389551388747, 12219.46820757914, 8256.52925647889, 12875.444824532067, 8224.405349278995, 7156.464601880018, 9663.913851209141, 10159.498804061866, 6747.67858855425, 7887.669488218249, 3611.307274743909, 7941.780206497939, 9173.721991171948, 7887.0178826266565, 5518.978151850315, 6600.539679762273, 6627.020954535143, 4284.5292815832745, 6727.134258115025, 6244.865539004001, 5960.799454651485, 6507.607121982191, 6150.507335673208, 5379.342242205334, 6557.32110820383, 5522.290613186175, 524.4934133893183, 418.94346071281734, 405.26823884311335, 350.53717413794556, 211.78059602348654, 199.0765892269942, 741.4077168132048, 111.12488637236737, 173.65489321627825, 231.3181360503384, 99.40479749918406, 154.1245679939212, 278.20701483599026, 330.9825455027933, 107.21767709657048, 251.84382262674742, 503.93382635683145, 155.09695455142608, 105.2665858210469, 120.89617980631779, 109.1669418604328, 98.4213723971244, 137.5028754471173, 230.34672341888904, 122.84843967738547, 224.4656204635578, 100.3764071622458, 164.8623319621735, 91.57823927717159, 476.5578124159865, 1172.1808289425182, 688.6325204868052, 453.14789326469554, 547.9392942646102, 563.4928556754938, 805.7917291333512, 332.94783845302754, 1047.9792301569214, 304.5557552233279, 339.7459408018176, 350.48594934516916, 297.7354343142662, 1016.9226242937505, 544.8040342118111, 464.73976224536955, 337.7954689386613, 807.4206917332676, 358.33985702762675, 428.6794602045192, 496.88504493129057, 812.396667798366, 522.5028112984842, 417.75948296690206, 406.22920736380655, 858.0302292960276, 562.6926933717361, 828.662486209211, 1503.7062449831117, 528.7471025200513, 1355.0357671639001, 1080.7729897750833, 3439.5343353539834, 18134.005895381342, 14204.300013767435, 12875.444824532067, 13011.94082281541, 14830.773537799314, 12219.46820757914, 10159.498804061866, 9663.913851209141, 8224.405349278995, 7941.780206497939, 9173.721991171948, 6727.134258115025, 8256.52925647889, 6982.333856502621, 6627.020954535143, 7887.669488218249, 6747.67858855425, 6507.607121982191, 7887.0178826266565, 6557.32110820383, 6950.428199634562, 7156.464601880018, 5379.342242205334, 3932.7895819497253, 6600.539679762273, 5278.3605188105375, 6244.865539004001, 5492.945210117825, 5431.7897536683495, 5960.799454651485, 6208.6732222837545, 268.22643711553843, 463.2181439286297, 221.18586688841845, 286.82872948163555, 553.3700665287023, 297.6064609405605, 171.20773377441319, 261.3621150238605, 234.91073458926044, 238.8172623617105, 293.69323101466597, 142.79127980298105, 193.74315291318703, 181.9828696386754, 608.2287630174262, 564.139992660819, 406.34475622965107, 311.3197925018085, 99.67190864412954, 391.6675911670578, 161.40277044013425, 129.06542651931272, 231.9463460337958, 163.36064539722997, 83.99677522409222, 89.87468065435628, 178.06225022738158, 390.6560828859977, 112.40544240748997, 430.8598264097472, 389.691211876785, 566.0111555221071, 1380.1675742959287, 269.1601072695191, 541.5579238308328, 284.82916858649935, 678.5744916879652, 1411.2884875570962, 271.13547288311617, 910.8704328344189, 325.95465583142425, 371.9603087328914, 453.2308225931627, 399.4393531423502, 525.7840682978473, 2777.211166598845, 513.8912136571136, 484.6206478238574, 1907.1264459897666, 434.68675078781564, 425.78465072495084, 650.7726701058045, 639.6414023981657, 677.0285922190862, 574.7246278339717, 372.88674313431704, 884.9690361860064, 14830.773537799314, 18134.005895381342, 13011.94082281541, 14204.300013767435, 12875.444824532067, 9173.721991171948, 12219.46820757914, 9663.913851209141, 6600.539679762273, 10159.498804061866, 6982.333856502621, 6150.507335673208, 7156.464601880018, 8256.52925647889, 6627.020954535143, 6747.67858855425, 5495.424107811903, 8224.405349278995, 7887.0178826266565, 6950.428199634562, 7887.669488218249, 7941.780206497939, 6727.134258115025, 6507.607121982191, 5492.945210117825, 6557.32110820383, 6244.865539004001, 5395.563394345964], \"Category\": [\"Default\", \"Default\", \"Default\", \"Default\", \"Default\", \"Default\", \"Default\", \"Default\", \"Default\", \"Default\", \"Default\", \"Default\", \"Default\", \"Default\", \"Default\", \"Default\", \"Default\", \"Default\", \"Default\", \"Default\", \"Default\", \"Default\", \"Default\", \"Default\", \"Default\", \"Default\", \"Default\", \"Default\", \"Default\", \"Default\", \"Topic1\", \"Topic1\", \"Topic1\", \"Topic1\", \"Topic1\", \"Topic1\", \"Topic1\", \"Topic1\", \"Topic1\", \"Topic1\", \"Topic1\", \"Topic1\", \"Topic1\", \"Topic1\", \"Topic1\", \"Topic1\", \"Topic1\", \"Topic1\", \"Topic1\", \"Topic1\", \"Topic1\", \"Topic1\", \"Topic1\", \"Topic1\", \"Topic1\", \"Topic1\", \"Topic1\", \"Topic1\", \"Topic1\", \"Topic1\", \"Topic1\", \"Topic1\", \"Topic1\", \"Topic1\", \"Topic1\", \"Topic1\", \"Topic1\", \"Topic1\", \"Topic1\", \"Topic1\", \"Topic1\", \"Topic1\", \"Topic1\", \"Topic1\", \"Topic1\", \"Topic1\", \"Topic1\", \"Topic1\", \"Topic1\", \"Topic1\", \"Topic1\", \"Topic1\", \"Topic1\", \"Topic1\", \"Topic1\", \"Topic1\", \"Topic1\", \"Topic1\", \"Topic1\", \"Topic1\", \"Topic1\", \"Topic1\", \"Topic1\", \"Topic1\", \"Topic1\", \"Topic1\", \"Topic1\", \"Topic1\", \"Topic1\", \"Topic1\", \"Topic1\", \"Topic1\", \"Topic1\", \"Topic1\", \"Topic1\", \"Topic1\", \"Topic1\", \"Topic1\", \"Topic1\", \"Topic1\", \"Topic1\", \"Topic1\", \"Topic1\", \"Topic1\", \"Topic1\", \"Topic1\", \"Topic1\", \"Topic2\", \"Topic2\", \"Topic2\", \"Topic2\", \"Topic2\", \"Topic2\", \"Topic2\", \"Topic2\", \"Topic2\", \"Topic2\", \"Topic2\", \"Topic2\", \"Topic2\", \"Topic2\", \"Topic2\", \"Topic2\", \"Topic2\", \"Topic2\", \"Topic2\", \"Topic2\", \"Topic2\", \"Topic2\", \"Topic2\", \"Topic2\", \"Topic2\", \"Topic2\", \"Topic2\", \"Topic2\", \"Topic2\", \"Topic2\", \"Topic2\", \"Topic2\", \"Topic2\", \"Topic2\", \"Topic2\", \"Topic2\", \"Topic2\", \"Topic2\", \"Topic2\", \"Topic2\", \"Topic2\", \"Topic2\", \"Topic2\", \"Topic2\", \"Topic2\", \"Topic2\", \"Topic2\", \"Topic2\", \"Topic2\", \"Topic2\", \"Topic2\", \"Topic2\", \"Topic2\", \"Topic2\", \"Topic2\", \"Topic2\", \"Topic2\", \"Topic2\", \"Topic2\", \"Topic2\", \"Topic2\", \"Topic2\", \"Topic2\", \"Topic2\", \"Topic2\", \"Topic2\", \"Topic2\", \"Topic2\", \"Topic2\", \"Topic2\", \"Topic2\", \"Topic2\", \"Topic2\", \"Topic2\", \"Topic2\", \"Topic2\", \"Topic2\", \"Topic2\", \"Topic2\", \"Topic2\", \"Topic2\", \"Topic2\", \"Topic3\", \"Topic3\", \"Topic3\", \"Topic3\", \"Topic3\", \"Topic3\", \"Topic3\", \"Topic3\", \"Topic3\", \"Topic3\", \"Topic3\", \"Topic3\", \"Topic3\", \"Topic3\", \"Topic3\", \"Topic3\", \"Topic3\", \"Topic3\", \"Topic3\", \"Topic3\", \"Topic3\", \"Topic3\", \"Topic3\", \"Topic3\", \"Topic3\", \"Topic3\", \"Topic3\", \"Topic3\", \"Topic3\", \"Topic3\", \"Topic3\", \"Topic3\", \"Topic3\", \"Topic3\", \"Topic3\", \"Topic3\", \"Topic3\", \"Topic3\", \"Topic3\", \"Topic3\", \"Topic3\", \"Topic3\", \"Topic3\", \"Topic3\", \"Topic3\", \"Topic3\", \"Topic3\", \"Topic3\", \"Topic3\", \"Topic3\", \"Topic3\", \"Topic3\", \"Topic3\", \"Topic3\", \"Topic3\", \"Topic3\", \"Topic3\", \"Topic3\", \"Topic3\", \"Topic3\", \"Topic3\", \"Topic3\", \"Topic3\", \"Topic3\", \"Topic3\", \"Topic3\", \"Topic3\", \"Topic3\", \"Topic3\", \"Topic3\", \"Topic3\", \"Topic3\", \"Topic3\", \"Topic3\", \"Topic3\", \"Topic3\", \"Topic3\", \"Topic3\", \"Topic3\", \"Topic3\", \"Topic3\", \"Topic3\", \"Topic3\", \"Topic3\", \"Topic3\", \"Topic3\", \"Topic3\", \"Topic3\", \"Topic3\", \"Topic3\", \"Topic3\", \"Topic3\", \"Topic3\", \"Topic4\", \"Topic4\", \"Topic4\", \"Topic4\", \"Topic4\", \"Topic4\", \"Topic4\", \"Topic4\", \"Topic4\", \"Topic4\", \"Topic4\", \"Topic4\", \"Topic4\", \"Topic4\", \"Topic4\", \"Topic4\", \"Topic4\", \"Topic4\", \"Topic4\", \"Topic4\", \"Topic4\", \"Topic4\", \"Topic4\", \"Topic4\", \"Topic4\", \"Topic4\", \"Topic4\", \"Topic4\", \"Topic4\", \"Topic4\", \"Topic4\", \"Topic4\", \"Topic4\", \"Topic4\", \"Topic4\", \"Topic4\", \"Topic4\", \"Topic4\", \"Topic4\", \"Topic4\", \"Topic4\", \"Topic4\", \"Topic4\", \"Topic4\", \"Topic4\", \"Topic4\", \"Topic4\", \"Topic4\", \"Topic4\", \"Topic4\", \"Topic4\", \"Topic4\", \"Topic4\", \"Topic4\", \"Topic4\", \"Topic4\", \"Topic4\", \"Topic4\", \"Topic4\", \"Topic4\", \"Topic4\", \"Topic4\", \"Topic4\", \"Topic4\", \"Topic4\", \"Topic4\", \"Topic4\", \"Topic4\", \"Topic4\", \"Topic4\", \"Topic4\", \"Topic4\", \"Topic4\", \"Topic4\", \"Topic4\", \"Topic4\", \"Topic4\", \"Topic4\", \"Topic4\", \"Topic4\", \"Topic4\", \"Topic4\", \"Topic4\", \"Topic4\", \"Topic4\"], \"logprob\": [30.0, 29.0, 28.0, 27.0, 26.0, 25.0, 24.0, 23.0, 22.0, 21.0, 20.0, 19.0, 18.0, 17.0, 16.0, 15.0, 14.0, 13.0, 12.0, 11.0, 10.0, 9.0, 8.0, 7.0, 6.0, 5.0, 4.0, 3.0, 2.0, 1.0, -6.8862, -7.0112, -6.7231, -7.4154, -8.1381, -7.6682, -7.9864, -6.7888, -8.0367, -6.9772, -8.2215, -7.4367, -7.7389, -8.0125, -8.3258, -7.9223, -8.1124, -8.2106, -7.7829, -7.6637, -8.4577, -8.3201, -7.994, -8.0493, -8.6838, -8.5733, -7.6368, -8.684, -8.531, -8.6842, -5.6313, -6.6002, -7.2246, -7.3509, -7.3712, -7.6344, -7.586, -6.9155, -7.1426, -7.9004, -7.2969, -6.5999, -7.5114, -7.1545, -6.7589, -7.4087, -6.3307, -7.3944, -7.2759, -6.8423, -7.0165, -6.8346, -7.2522, -6.6363, -7.0291, -5.389, -4.7861, -6.6036, -6.2536, -5.1845, -5.1653, -5.4735, -5.1153, -5.1075, -5.4014, -5.5325, -5.4201, -5.2535, -5.3948, -5.6243, -5.7986, -5.6096, -5.748, -5.7571, -5.7363, -5.7113, -5.8171, -5.6746, -5.6865, -5.8498, -5.8427, -5.8317, -6.0051, -5.9779, -5.898, -5.923, -5.9377, -6.5275, -6.7958, -6.5243, -7.2366, -7.5806, -6.6699, -7.6446, -6.4197, -6.6253, -7.9587, -6.6157, -7.6906, -7.8105, -8.1345, -8.3097, -8.3857, -7.5497, -8.4783, -6.3165, -6.8229, -8.5574, -8.3863, -7.1125, -7.8456, -6.5574, -6.8505, -8.0912, -7.9115, -7.173, -8.6825, -6.6187, -6.8413, -6.8511, -7.1862, -7.1485, -7.7035, -7.2393, -6.7356, -6.6741, -7.3059, -7.0273, -7.3107, -7.5632, -7.0986, -6.9689, -6.5769, -6.0199, -6.9204, -5.8349, -6.444, -6.8268, -5.4226, -4.8377, -5.1004, -5.0526, -5.0421, -6.505, -5.2104, -5.4341, -5.2067, -5.512, -5.5945, -5.4795, -5.4598, -5.6644, -5.6021, -5.9847, -5.7011, -5.6606, -5.7898, -5.9075, -5.8673, -5.8903, -6.0228, -5.8996, -5.921, -5.9401, -5.9247, -5.9439, -5.9766, -5.9422, -6.0095, -7.0753, -7.3016, -7.3357, -7.4813, -7.9858, -8.0482, -6.7337, -8.6318, -8.1855, -7.8988, -8.7435, -8.3051, -7.7146, -7.5409, -8.6684, -7.8148, -7.1211, -8.2996, -8.6874, -8.5492, -8.6513, -8.755, -8.4207, -7.9048, -8.5337, -7.931, -8.7358, -8.2398, -8.8278, -7.1787, -6.2843, -6.8142, -7.2291, -7.0417, -7.0142, -6.6607, -7.538, -6.4033, -7.6278, -7.5196, -7.4892, -7.6515, -6.4417, -7.0581, -7.2158, -7.5292, -6.6826, -7.4739, -7.3062, -7.1669, -6.7005, -7.122, -7.333, -7.3727, -6.7326, -7.1163, -6.8104, -6.3474, -7.1725, -6.4582, -6.6937, -5.9304, -4.824, -4.9859, -5.092, -5.0984, -5.0534, -5.1968, -5.3241, -5.4462, -5.5806, -5.6479, -5.5717, -5.7395, -5.6336, -5.7311, -5.7602, -5.6758, -5.7749, -5.7927, -5.7199, -5.8158, -5.7967, -5.7848, -5.9208, -6.0588, -5.8752, -5.961, -5.9315, -5.9698, -5.9757, -5.959, -5.9714, -7.7443, -7.1984, -7.9379, -7.6781, -7.0215, -7.6418, -8.1951, -7.7726, -7.8794, -7.8632, -7.6564, -8.3783, -8.0732, -8.1361, -6.9295, -7.0057, -7.3339, -7.6006, -8.7396, -7.3714, -8.2581, -8.4817, -7.8958, -8.2465, -8.9118, -8.8441, -8.1606, -7.3749, -8.6207, -7.277, -7.378, -7.011, -6.1295, -7.7479, -7.0561, -7.6928, -6.8338, -6.1091, -7.7431, -6.5465, -7.564, -7.4355, -7.2445, -7.3734, -7.1157, -5.5599, -7.1434, -7.2026, -5.944, -7.3059, -7.337, -6.9816, -7.0011, -6.9665, -7.1013, -7.4562, -6.7825, -4.8883, -4.8196, -5.1347, -5.0898, -5.1862, -5.4186, -5.2485, -5.4433, -5.6739, -5.4249, -5.6904, -5.7619, -5.685, -5.6201, -5.7397, -5.7346, -5.8506, -5.6372, -5.6685, -5.7409, -5.6903, -5.7048, -5.7928, -5.8306, -5.9181, -5.8749, -5.9431, -5.9639], \"loglift\": [30.0, 29.0, 28.0, 27.0, 26.0, 25.0, 24.0, 23.0, 22.0, 21.0, 20.0, 19.0, 18.0, 17.0, 16.0, 15.0, 14.0, 13.0, 12.0, 11.0, 10.0, 9.0, 8.0, 7.0, 6.0, 5.0, 4.0, 3.0, 2.0, 1.0, 1.3344, 1.3335, 1.3334, 1.3332, 1.3323, 1.3323, 1.3321, 1.3316, 1.3316, 1.3316, 1.3314, 1.3313, 1.3311, 1.3306, 1.3306, 1.3304, 1.3301, 1.3301, 1.3299, 1.3298, 1.3297, 1.3296, 1.3294, 1.3293, 1.3292, 1.3292, 1.329, 1.3289, 1.3288, 1.3288, 1.3176, 1.3225, 1.3275, 1.3286, 1.3265, 1.328, 1.3267, 1.3134, 1.315, 1.3254, 1.3113, 1.2888, 1.3147, 1.303, 1.2841, 1.3075, 1.2465, 1.2985, 1.29, 1.2585, 1.2256, 1.1613, 1.2028, 0.9821, 1.1115, 0.4981, 0.0292, 0.8873, 0.7085, 0.0256, -0.0075, 0.1744, -0.0557, -0.0911, 0.0953, 0.1085, 0.0246, -0.1062, -0.0001, 0.15, 0.2289, 0.0382, 0.1334, 0.1394, 0.0963, 0.0584, 0.1108, -0.0686, -0.0844, 0.0397, -0.0025, -0.0247, 0.086, 0.0264, -0.153, -0.0971, -0.1158, 1.6563, 1.6549, 1.6548, 1.6547, 1.6543, 1.6542, 1.654, 1.6532, 1.6521, 1.6518, 1.6516, 1.6513, 1.6511, 1.6509, 1.6509, 1.6505, 1.6505, 1.6505, 1.6504, 1.6501, 1.6499, 1.6499, 1.6498, 1.6498, 1.6497, 1.6496, 1.6494, 1.6489, 1.6488, 1.6488, 1.6468, 1.6483, 1.6447, 1.6472, 1.6444, 1.6483, 1.6424, 1.6299, 1.6252, 1.6367, 1.6256, 1.6249, 1.637, 1.5887, 1.5713, 1.4937, 1.3944, 1.5329, 1.2939, 1.3538, 1.396, 0.467, -0.0224, 0.0469, 0.0069, -0.0257, 1.1232, -0.0004, 0.168, -0.049, 0.094, 0.1506, -0.0348, -0.0651, 0.1395, 0.0457, 0.4443, -0.0602, -0.1638, -0.1419, 0.0974, -0.0414, -0.0683, 0.2353, -0.0926, -0.0396, -0.0122, -0.0845, -0.0473, 0.054, -0.1097, -0.0052, 1.2832, 1.2815, 1.2806, 1.2801, 1.2795, 1.279, 1.2786, 1.2784, 1.2783, 1.2782, 1.2781, 1.278, 1.2779, 1.2779, 1.2776, 1.2773, 1.2773, 1.2772, 1.2769, 1.2767, 1.2767, 1.2766, 1.2765, 1.2764, 1.2762, 1.2761, 1.2761, 1.276, 1.2759, 1.2755, 1.27, 1.2719, 1.2755, 1.273, 1.2725, 1.2684, 1.2749, 1.2629, 1.2742, 1.2731, 1.2723, 1.2731, 1.2546, 1.2623, 1.2636, 1.2692, 1.2444, 1.2655, 1.254, 1.2456, 1.2204, 1.2402, 1.2529, 1.2412, 1.1336, 1.1718, 1.0906, 0.9578, 1.1779, 0.951, 0.9418, 0.5473, -0.0087, 0.0736, 0.0658, 0.0489, -0.037, 0.0132, 0.0706, -0.0015, 0.0254, -0.0069, -0.0749, 0.0675, -0.0316, 0.0386, 0.0618, -0.028, 0.029, 0.0474, -0.0721, 0.0167, -0.0224, -0.0397, 0.1098, 0.2849, -0.0493, 0.0885, -0.0502, 0.0398, 0.0451, -0.0312, -0.0842, 1.2847, 1.2843, 1.284, 1.2838, 1.2833, 1.2833, 1.2829, 1.2824, 1.2823, 1.282, 1.2819, 1.2812, 1.2811, 1.2809, 1.2808, 1.2798, 1.2797, 1.2794, 1.2793, 1.279, 1.2788, 1.2788, 1.2785, 1.2784, 1.2783, 1.2783, 1.2781, 1.2781, 1.2781, 1.278, 1.2775, 1.2713, 1.2614, 1.2776, 1.2703, 1.2762, 1.2671, 1.2595, 1.2752, 1.2599, 1.2701, 1.2665, 1.26, 1.2574, 1.2402, 1.1317, 1.2354, 1.2349, 1.1235, 1.2404, 1.2299, 1.1611, 1.1589, 1.1366, 1.1656, 1.2434, 1.0528, 0.1281, -0.0042, 0.0126, -0.0302, -0.0284, 0.0781, -0.0385, 0.0014, 0.152, -0.0302, 0.0793, 0.1347, 0.0601, -0.018, 0.0822, 0.0693, 0.1586, -0.0312, -0.0206, 0.0334, -0.0425, -0.0638, 0.0142, 0.0096, 0.0916, -0.0423, -0.0618, 0.0637]}, \"token.table\": {\"Topic\": [1, 2, 3, 4, 1, 2, 3, 4, 1, 2, 3, 4, 1, 2, 3, 4, 1, 2, 3, 4, 1, 2, 3, 4, 1, 2, 3, 4, 1, 2, 3, 4, 1, 2, 3, 4, 1, 2, 3, 4, 1, 2, 3, 4, 1, 2, 3, 4, 1, 2, 3, 4, 1, 2, 3, 4, 1, 2, 3, 4, 1, 4, 1, 2, 3, 4, 1, 2, 3, 4, 1, 2, 3, 4, 1, 2, 3, 4, 1, 2, 3, 4, 1, 2, 3, 4, 1, 3, 4, 1, 2, 3, 4, 1, 2, 3, 4, 1, 2, 3, 4, 1, 2, 3, 4, 1, 2, 3, 4, 1, 2, 3, 4, 1, 2, 3, 4, 1, 2, 3, 4, 1, 2, 3, 4, 1, 2, 3, 4, 1, 2, 3, 4, 1, 2, 3, 4, 1, 2, 3, 4, 1, 2, 3, 4, 1, 2, 3, 4, 4, 1, 2, 3, 4, 1, 2, 3, 4, 1, 2, 3, 4, 1, 2, 3, 4, 1, 2, 3, 4, 1, 2, 3, 4, 1, 2, 3, 4, 1, 2, 3, 4, 1, 2, 3, 4, 1, 2, 3, 4, 1, 2, 3, 4, 1, 2, 3, 4, 1, 2, 3, 4, 1, 2, 3, 4, 1, 2, 3, 4, 1, 2, 3, 4, 1, 2, 3, 4, 1, 2, 3, 4, 1, 2, 3, 4, 1, 2, 3, 4, 1, 2, 3, 4, 1, 2, 3, 4, 1, 2, 3, 4, 1, 2, 3, 4, 1, 2, 3, 4, 3, 1, 2, 3, 4, 1, 2, 3, 4, 1, 3, 4, 1, 2, 3, 4, 1, 2, 3, 4, 1, 2, 3, 4, 1, 2, 3, 4, 1, 3, 1, 2, 3, 4, 1, 2, 3, 4, 1, 3, 4, 1, 2, 1, 2, 3, 4, 1, 2, 3, 4, 1, 2, 3, 4, 1, 2, 3, 4, 1, 2, 3, 4, 1, 2, 3, 4, 1, 2, 3, 4, 1, 2, 1, 2, 3, 1, 2, 3, 4, 1, 2, 3, 4, 1, 2, 3, 4, 1, 2, 3, 4, 1, 2, 3, 4, 1, 2, 3, 4, 1, 2, 3, 4, 1, 2, 3, 4, 1, 2, 3, 4, 1, 2, 3, 4, 1, 2, 1, 2, 3, 4, 1, 2, 3, 4, 1, 2, 3, 4, 1, 2, 3, 4, 1, 2, 3, 4, 1, 2, 3, 4, 1, 2, 3, 4, 1, 2, 3, 4, 1, 2, 3, 4, 2, 3, 4, 1, 2, 3, 4, 1, 2, 3, 4, 1, 2, 3, 4, 1, 2, 3, 4, 1, 2, 3, 4, 1, 2, 3, 4, 1, 2, 3, 4, 2, 3, 4, 1, 3, 4, 3, 4, 1, 2, 3, 4, 1, 2, 3, 4, 1, 2, 3, 4, 1, 2, 3, 4, 1, 2, 3, 4, 1, 2, 3, 4, 1, 2, 3, 4, 1, 2, 3, 4, 1, 2, 3, 4, 1, 2, 3, 4, 1, 2, 3, 4, 1, 2, 3, 4, 1, 2, 3, 4, 1, 2, 3, 4, 1, 2, 3, 4, 1, 2, 3, 4, 1, 2, 3, 4, 1, 2, 3, 4, 1, 2, 3, 4, 1, 2, 3, 4, 1, 1, 2, 3, 4, 1, 2, 3, 4, 1, 2, 3, 4, 1, 2, 3, 4, 1, 2, 3, 4, 1, 2, 3, 4, 1, 2, 3, 4, 1, 2, 3, 4, 1, 2, 3, 4, 1, 2, 3, 4, 2, 3, 4, 1, 2, 3, 4, 1, 2, 3, 4, 1, 2, 3, 4, 1, 2, 3, 4, 1, 2, 3, 4, 1, 2, 4, 1, 2, 3, 4, 1, 2, 3, 4, 1, 2, 3, 4, 1, 2, 3, 4, 1, 2, 3, 4, 1, 2, 3, 1, 2, 3, 4, 1, 2, 3, 4, 1, 2, 3, 4, 1, 2, 3, 4, 1, 2, 3, 4, 2, 1, 2, 3, 4, 1, 2, 3, 4, 1, 2, 3, 4, 1, 2, 3, 4, 1, 2, 3, 4, 1, 2, 3, 4, 1, 2, 3, 4, 1, 2, 3, 4, 2, 4, 1, 2, 3, 4, 3, 4, 1, 2, 3, 4, 1, 2, 3, 4, 3, 4, 1, 2, 3, 4, 1, 2, 3, 4, 1, 2, 3, 4, 1, 2, 3, 4, 1, 2, 3, 4, 1, 2, 3, 4, 1, 2, 3, 4, 1, 3, 4, 1, 2, 3, 4, 1, 2, 3, 4, 1, 2, 3, 4, 1, 2, 3, 4, 1, 2, 3, 4, 1, 2, 3, 4, 1, 2, 3, 4, 3, 4, 1, 2, 3, 4, 3, 1, 2, 3, 4, 1, 2, 3, 4, 1, 2, 3, 1, 2, 4, 1, 2, 3, 4, 1, 2, 3, 4, 1, 2, 3, 4, 1, 2, 3, 4, 1, 2, 3, 4, 1, 1, 2, 3, 4, 1, 2, 1, 2, 3, 4, 1, 2, 3, 4, 1, 2, 3, 4, 1, 2, 3, 4, 1, 2, 3, 4, 1, 2, 3, 4, 1, 2, 3, 4, 1, 2, 3, 4, 1, 2, 3, 4, 1, 2, 3, 4, 1, 2, 3, 4, 2, 3, 4, 1, 2, 3, 4, 1, 2, 3, 4, 1, 3, 4, 1, 2, 3, 4, 1, 3, 4, 1, 2, 3, 4, 1, 2, 3, 4, 1, 2, 3, 4, 1, 2, 3, 4, 2, 3, 4, 1, 2, 3, 4, 1, 2, 3, 4, 1, 2, 3, 4, 1, 2, 3, 4, 1, 2, 3, 4, 1, 2, 3, 4, 1, 2, 3, 4, 2, 3, 4, 1, 2, 3, 4, 1, 2, 3, 4, 1, 2, 3, 4, 2, 3, 4, 1, 2, 3, 4, 1, 2, 3, 4, 3, 1, 2, 3, 4, 1, 2, 3, 4, 1, 2, 3, 4, 2, 3, 4, 2, 3, 2, 3, 1, 2, 3, 4, 1, 2, 3, 4, 1, 2, 3, 4, 1, 2, 3, 4, 1, 2, 3, 4, 1, 2, 3, 4, 2, 1, 2, 3, 4, 1, 2, 3, 4, 1, 2, 3, 4, 3, 4, 1, 2, 3, 4, 1, 2, 3, 4], \"Freq\": [0.029189057141592874, 0.021405308570501443, 0.005837811428318575, 0.9437795142448363, 0.9691872888379496, 0.014684655891484084, 0.004894885297161361, 0.012237213242903404, 0.0016441182344599991, 0.0032882364689199983, 0.0065764729378399965, 0.9881150589104595, 0.055318856574212025, 0.019976253762909898, 0.047635682050015914, 0.8774185306631963, 0.011031906372546491, 0.011031906372546491, 0.011031906372546491, 0.9686013795095819, 0.9909868747192666, 0.0028193083206807016, 0.0028193083206807016, 0.0028193083206807016, 0.2604644023875415, 0.1737966012391206, 0.2884316715524574, 0.27721403062367245, 0.005900153912070725, 0.005900153912070725, 0.9646751646235635, 0.0236006156482829, 0.002320940451405653, 0.004641880902811306, 0.00696282135421696, 0.9863996918474026, 0.9738833839631785, 0.012173542299539732, 0.012173542299539732, 0.003043385574884933, 0.005323936177333986, 0.005323936177333986, 0.981378902021898, 0.005323936177333986, 0.0032484040904369148, 0.9907632475832591, 0.0032484040904369148, 0.0032484040904369148, 0.2641570131315538, 0.14873623689075086, 0.28618526853397835, 0.30093145603477495, 0.2592531788602739, 0.18018794935764992, 0.29373742434078964, 0.2668645663762436, 0.007386098188177348, 0.001846524547044337, 0.012925671829310358, 0.9786580099334985, 0.011905218948371923, 0.9881331727148697, 0.0021588100835576835, 0.0021588100835576835, 0.004317620167115367, 0.9908938283529767, 0.7942709958094367, 0.16406756091044347, 0.036800200578043396, 0.006133366763007233, 0.9887339705713875, 0.005442572315071858, 0.0036283815433812384, 0.0036283815433812384, 0.9888201694139606, 0.004508298644744501, 0.004508298644744501, 0.0030055324298296675, 0.00217383459494891, 0.9825732369169073, 0.00869533837979564, 0.00434766918989782, 0.9858484021862484, 0.0035979868692928773, 0.0035979868692928773, 0.007195973738585755, 0.00561601349372493, 0.00561601349372493, 0.9884183748955877, 0.003187321666077921, 0.9896633773171946, 0.004780982499116882, 0.003187321666077921, 0.005097619670050443, 0.9838405963197355, 0.005097619670050443, 0.005097619670050443, 0.004323050570416081, 0.004323050570416081, 0.9856555300548664, 0.004323050570416081, 0.005840857640914869, 0.005840857640914869, 0.005840857640914869, 0.9929457989555278, 0.026882835263251414, 0.9658618669582473, 0.005760607556411017, 0.0019202025188036725, 0.006065666960415451, 0.006065666960415451, 0.9826380475873031, 0.006065666960415451, 0.9621342054906228, 0.016842611912308493, 0.0021053264890385616, 0.018947938401347057, 0.007032577787787532, 0.9863190347372014, 0.001758144446946883, 0.003516288893893766, 0.24390821157372294, 0.2077961782549813, 0.28220885297238835, 0.26615906038628095, 0.0030034734709385434, 0.0030034734709385434, 0.9851392984678422, 0.009010420412815629, 0.3284179742669481, 0.09248339117336743, 0.2865317089259039, 0.29264784501552543, 0.4298825053991574, 0.1211208857475333, 0.25287206199950435, 0.1961771793091696, 0.008686800694392462, 0.9816084784663481, 0.006949440555513969, 0.0034747202777569847, 0.004771086922449135, 0.018130130305306715, 0.9723475147951337, 0.004771086922449135, 0.9870563934804779, 0.0034878317790829607, 0.0069756635581659215, 0.0034878317790829607, 0.9902677745502076, 0.009022823830581141, 0.9860657471992247, 0.002577949665880326, 0.002577949665880326, 0.2846131054138405, 0.14003517816683755, 0.3015990367570676, 0.27375000978735803, 0.9478508364900703, 0.004692330873713219, 0.03753864698970575, 0.009384661747426437, 0.006455225577225485, 0.01291045115445097, 0.9725873203019729, 0.008606967436300645, 0.08494455118099142, 0.047715766404137154, 0.022547010498658218, 0.8442020209962727, 0.3003004303868268, 0.1804729170164471, 0.20518632547275337, 0.31412042853673494, 0.00219681490849848, 0.9841730790073191, 0.0109840745424924, 0.00219681490849848, 0.006839037810151792, 0.9711433690415544, 0.013678075620303584, 0.006839037810151792, 0.22413301668237498, 0.21994100265464975, 0.26437635134853704, 0.29162444252875097, 0.004721867908470234, 0.004721867908470234, 0.986870392870279, 0.004721867908470234, 0.23268373686743002, 0.17670081444342448, 0.29258999078206666, 0.2980222959229405, 0.006620355174524935, 0.0022067850581749785, 0.9842261359460404, 0.006620355174524935, 0.006998235928002537, 0.004665490618668357, 0.9634238127550159, 0.023327453093341787, 0.9087667396415287, 0.020951394573868094, 0.03142709186080214, 0.03928386482600268, 0.0021380554757868125, 0.9856435743377205, 0.0021380554757868125, 0.00855222190314725, 0.0035940919425049354, 0.9614195946200702, 0.032346827482544416, 0.0035940919425049354, 0.9905456709690923, 0.003884492827329774, 0.003884492827329774, 0.003884492827329774, 0.9892418150532909, 0.003623596392136597, 0.003623596392136597, 0.003623596392136597, 0.010297071792335568, 0.9833703561680468, 0.005148535896167784, 0.005148535896167784, 0.012870510739668032, 0.9781588162147704, 0.003217627684917008, 0.006435255369834016, 0.2873424769724518, 0.16056732495463638, 0.2551854091777351, 0.2968260867966564, 0.3034345423654454, 0.14373215164678993, 0.268904295723574, 0.2838674026017183, 0.2984852097067395, 0.18190944110882837, 0.2616549531442126, 0.2581320590382318, 0.01535568478993008, 0.9622895801689516, 0.0051185615966433595, 0.017914965588251758, 0.013271818244859172, 0.9732666712896726, 0.004423939414953057, 0.008847878829906114, 0.9855582952919083, 0.9865589708628343, 0.00563747983350191, 0.00563747983350191, 0.00563747983350191, 0.003358686554400772, 0.010076059663202316, 0.9840951604394261, 0.003358686554400772, 0.004521084525280585, 0.004521084525280585, 0.9901175110364482, 0.2470378685749331, 0.19050569175371015, 0.29610751645088873, 0.26639820310274914, 0.23486119723519996, 0.1982794138962094, 0.28881164241161045, 0.27805229437073087, 0.008848748319584767, 0.9866354376337014, 0.004424374159792383, 0.004424374159792383, 0.9714608872806094, 0.008374662821384564, 0.005024797692830738, 0.01674932564276913, 0.008998884342154548, 0.9898772776370003, 0.08339263268047148, 0.18671093865627686, 0.7121583233332299, 0.01844969749567953, 0.8346050647064966, 0.1499369989059366, 0.009288132675588992, 0.00796125657907628, 0.9914158853550917, 0.0069818020095429, 0.0069818020095429, 0.9840690323475466, 0.008557122020413449, 0.009091137502518588, 0.9848732294395137, 0.003030379167506196, 0.003030379167506196, 0.0017667496307163196, 0.0070669985228652785, 0.012367247415014238, 0.978779295416841, 0.29111860815643437, 0.17817163950750634, 0.2731125696761705, 0.2576248582560834, 0.28761745366418545, 0.16958144669913797, 0.27968738601278686, 0.2632172455060361, 0.005106370925509997, 0.005106370925509997, 0.0025531854627549983, 0.9855295886234293, 0.0034049133394908363, 0.0034049133394908363, 0.0034049133394908363, 0.9908297817918335, 0.9901500905655174, 0.005103866446214007, 0.005103866446214007, 0.005103866446214007, 0.9873315914327161, 0.9871953451070375, 0.004882060517103532, 0.991058284972017, 0.004882060517103532, 0.20510757615924533, 0.21755630187989317, 0.2832085101447383, 0.2943234438238882, 0.23842316727362656, 0.18441384685898432, 0.26505697696624037, 0.31205385128459945, 0.634174801413455, 0.03042757885569607, 0.08487693049220482, 0.25062716267981233, 0.9563227067363048, 0.01598310930478504, 0.018646960855582546, 0.00799155465239252, 0.9476454670530737, 0.025032144412722702, 0.023840137535926384, 0.0035760206303889572, 0.06942099719296761, 0.033971977349750104, 0.04135718981708709, 0.8552076037176223, 0.002477023465557534, 0.03467832851780548, 0.9548925459724293, 0.00866958212945137, 0.0035108763788576362, 0.0035108763788576362, 0.0070217527577152725, 0.9830453860801381, 0.0034808656512551536, 0.9868254121308361, 0.0052212984768827304, 0.0052212984768827304, 0.004181748072930684, 0.9889834192481067, 0.004181748072930684, 0.002090874036465342, 0.010207618533489416, 0.9799313792149839, 0.01106457951849506, 0.0036881931728316867, 0.0036881931728316867, 0.9810593839732287, 0.009203734158506779, 0.009203734158506779, 0.0030679113861689263, 0.9786637321878874, 0.23475329784506188, 0.021280752212583513, 0.7168953401614071, 0.02660094026572939, 0.053154783090222146, 0.05940828698318946, 0.012507007785934623, 0.8754905450154237, 0.009920012898449725, 0.015588591697563855, 0.007085723498892661, 0.9672012575988482, 0.0038261092274552, 0.0038261092274552, 0.0038261092274552, 0.9909622899108967, 0.8693541529059496, 0.004199778516453863, 0.004199778516453863, 0.12179357697716202, 0.0034799274350528903, 0.11135767792169249, 0.0034799274350528903, 0.8804216410683813, 0.991120848822641, 0.0018806847226236073, 0.0037613694452472146, 0.0018806847226236073, 0.006488258251205225, 0.9862152541831942, 0.006488258251205225, 0.0036202917954253756, 0.006033819659042292, 0.8181859457661349, 0.17256724224860956, 0.002461664454137662, 0.002461664454137662, 0.9526641437512753, 0.04184829572034025, 0.9892553812691002, 0.0052341554564502655, 0.0052341554564502655, 0.0052341554564502655, 0.0022299767512658614, 0.6901778045167841, 0.305506814923423, 0.0022299767512658614, 0.002393721844201026, 0.03111838397461334, 0.9622761813688125, 0.002393721844201026, 0.984782322892379, 0.006935086780932247, 0.006935086780932247, 0.006935086780932247, 0.24005244073285714, 0.22382286098603432, 0.2665769031549034, 0.2696048098240868, 0.003970714824647812, 0.9847372765126573, 0.007941429649295624, 0.004256936158104874, 0.004256936158104874, 0.9918661248384355, 0.9879678265313925, 0.009499690639724927, 0.007943546630200957, 0.9849997821449186, 0.007943546630200957, 0.007943546630200957, 0.9652460621046005, 0.0027266837912559337, 0.027266837912559336, 0.0027266837912559337, 0.0024609644511687434, 0.004921928902337487, 0.004921928902337487, 0.9868467449186661, 0.02214374197001029, 0.11887693057584471, 0.8542822560009233, 0.004661840414739008, 0.27129636084855696, 0.17562271404093038, 0.3004720868057342, 0.252540537018943, 0.2676969227821, 0.18274169525828704, 0.2746299316056024, 0.27494036483650547, 0.9857883547419256, 0.004628114341511388, 0.006942171512267082, 0.004628114341511388, 0.9429995162369816, 0.011126837949698898, 0.04033478756765851, 0.004172564231137087, 0.04539633236592146, 0.0061904089589892896, 0.00412693930599286, 0.9430056314193684, 0.003021307357706452, 0.006042614715412904, 0.9879675059700098, 0.003021307357706452, 0.9751868358198694, 0.002328526351050309, 0.012108337025461607, 0.01024551594462136, 0.004187301998652882, 0.004187301998652882, 0.004187301998652882, 0.9882032716820801, 0.2689422308637361, 0.18501152030917256, 0.272692091782074, 0.2734089769576386, 0.02413601493137052, 0.013408897184094734, 0.010727117747275786, 0.9520317000707261, 0.989156712133014, 0.0040539209513648115, 0.0040539209513648115, 0.0040539209513648115, 0.0195628418627163, 0.005071847890333855, 0.005796397588952977, 0.9694474967523854, 0.9726894063030401, 0.021053883253312557, 0.002105388325331256, 0.004210776650662512, 0.9884357031075143, 0.004662432561827898, 0.004662432561827898, 0.004662432561827898, 0.26818581341294406, 0.1881465632248811, 0.27742111151156673, 0.2661938863720647, 0.006295143887770966, 0.006295143887770966, 0.9841408277881943, 0.0020983812959236552, 0.9873070041282361, 0.271734094161593, 0.30176531312419325, 0.1887445965982782, 0.23766642103735286, 0.02488024890754825, 0.0019138653005806347, 0.9511910543885754, 0.02105251830638698, 0.0061546288878193455, 0.032004070216660595, 0.9318108136158489, 0.02954221866153286, 0.048952718612513074, 0.7632173856405448, 0.1780098858636839, 0.010383910008714895, 0.022531580649722875, 0.007510526883240958, 0.0025035089610803193, 0.9663544589770032, 0.0066684989434390735, 0.9869378436289828, 0.0066684989434390735, 0.0066684989434390735, 0.9856685692632328, 0.009956248174376089, 0.0033187493914586964, 0.0033187493914586964, 0.03593400306014817, 0.06430295284447567, 0.8926762865468387, 0.0056737899568655, 0.2768415317465527, 0.13992456105348267, 0.2858643028277906, 0.2971785713264857, 0.0029473551164957102, 0.019157808257222117, 0.004421032674743566, 0.9741008660018322, 0.008140111527880356, 0.9849534948735231, 0.008140111527880356, 0.0043113418991058165, 0.0043113418991058165, 0.0043113418991058165, 0.9872972948952319, 0.0061956805157251564, 0.0061956805157251564, 0.0061956805157251564, 0.9851132020002998, 0.9889078494372926, 0.005288277269718142, 0.005288277269718142, 0.005288277269718142, 0.9909604426459779, 0.00497970071681396, 0.00497970071681396, 0.00497970071681396, 0.005475059064756986, 0.0036500393765046576, 0.9818605922797529, 0.009125098441261643, 0.007748008331653132, 0.007748008331653132, 0.9839970581199476, 0.036624010684840516, 0.7641100411064453, 0.0399534662016442, 0.1598138648065768, 0.2917393905347677, 0.18688768318328422, 0.2665749807704117, 0.25466382681528316, 0.0023869569375746685, 0.0023869569375746685, 0.9905871290934875, 0.0023869569375746685, 0.0021957019658399284, 0.005489254914599821, 0.025250572607159176, 0.9683045669354083, 0.0017726096589667515, 0.003545219317933503, 0.007090438635867006, 0.9873435800444806, 0.9884066960121528, 0.00629558405103282, 0.00629558405103282, 0.26113492911080466, 0.1772725244359439, 0.2951917272534124, 0.2663517218898746, 0.2547890281708561, 0.17243598172590024, 0.2943303826011056, 0.27842464980397513, 0.0038132032718501464, 0.0019066016359250732, 0.9933394523169631, 0.0019066016359250732, 0.0030657362944074276, 0.9810356142103769, 0.0030657362944074276, 0.009197208883222284, 0.003212131140021208, 0.003212131140021208, 0.006424262280042416, 0.9861242599865109, 0.9811080607629546, 0.10062824380084207, 0.8763042897656663, 0.016771373966807012, 0.008385686983403506, 0.02020872016029733, 0.5814599937031005, 0.009185781891044242, 0.38855857399117144, 0.9879137227479031, 0.002871842217290416, 0.005743684434580832, 0.002871842217290416, 0.018586409009978624, 0.8421073005290315, 0.007148618849991778, 0.13296431060984706, 0.9849520734284266, 0.009077899294271212, 0.004538949647135606, 0.004538949647135606, 0.006824885548774238, 0.010237328323161357, 0.9793710762491031, 0.0025593320807903394, 0.005161472728009556, 0.005161472728009556, 0.005161472728009556, 0.9910027637778347, 0.99167158479078, 0.0033221828636207035, 0.0033221828636207035, 0.0033221828636207035, 0.9841965095645288, 0.009463427976582006, 0.9803778503586862, 0.0024663593719715378, 0.012331796859857688, 0.006165898429928844, 0.010032917133857833, 0.9832258791180677, 0.8893570687766116, 0.011880724201214277, 0.08146782309404076, 0.015275216830132643, 0.003684663986450256, 0.9893322803618937, 0.003684663986450256, 0.003684663986450256, 0.9858679104577867, 0.010059876637324354, 0.007679388934218817, 0.0025597963114062723, 0.005119592622812545, 0.985521579891415, 0.004964061872789509, 0.008687108277381641, 0.9779201889395333, 0.008687108277381641, 0.9858450525482001, 0.0050042896068436555, 0.0050042896068436555, 0.0050042896068436555, 0.07309583117583321, 0.05829161220351256, 0.705050928556771, 0.16284640869552716, 0.005506567153710995, 0.016519701461132984, 0.9728268638222758, 0.007342089538281326, 0.01674388121312841, 0.00558129373770947, 0.9739357572303026, 0.002790646868854735, 0.004341281634735844, 0.004341281634735844, 0.9854709310850367, 0.008682563269471689, 0.008896366391004627, 0.008896366391004627, 0.9874966694015136, 0.006121425374932783, 0.006121425374932783, 0.006121425374932783, 0.9855494853641782, 0.9195478044964258, 0.05010356627063858, 0.008841805812465632, 0.02210451453116408, 0.9869003664014638, 0.003499646689366893, 0.006999293378733786, 0.003499646689366893, 0.22121663698276678, 0.199652662285287, 0.306914846771889, 0.2721522323888828, 0.0028531814238726295, 0.011412725695490518, 0.9814944098121845, 0.0028531814238726295, 0.0037152608168589648, 0.0074305216337179295, 0.0037152608168589648, 0.9845441164676256, 0.004519932151794815, 0.0022599660758974077, 0.2056569129066641, 0.7864681944122979, 0.007003228778254308, 0.9874552577338573, 0.006566942064625963, 0.0032834710323129813, 0.9850413096938944, 0.006566942064625963, 0.9827662194684168, 0.2369503216222358, 0.18150031029631616, 0.26179677478466973, 0.3196708303215585, 0.002852764481996063, 0.002852764481996063, 0.9899092752526338, 0.002852764481996063, 0.004580528135353158, 0.989394077236282, 0.004580528135353158, 0.007594868134246773, 0.9873328574520804, 0.007594868134246773, 0.007937550112318979, 0.0019843875280797446, 0.9862406014556331, 0.003968775056159489, 0.9912630205703402, 0.005796859769417195, 0.005796859769417195, 0.005796859769417195, 0.0059433985589918475, 0.9866041607926468, 0.0059433985589918475, 0.0059433985589918475, 0.08137659920069183, 0.0028805875823253745, 0.06409307370673958, 0.8512136305771482, 0.021192909377167488, 0.9271897852510775, 0.002649113672145936, 0.05033315977077278, 0.9872982210031637, 0.9850697232562288, 0.005353639800305591, 0.008030459700458386, 0.005353639800305591, 0.9822816176165792, 0.008929832887423446, 0.0026884588933872256, 0.016130753360323352, 0.005376917786774451, 0.9732221194061756, 0.2679331002284778, 0.18912443330116438, 0.27873553432443354, 0.2641686156192811, 0.005746173929673419, 0.9883419159038281, 0.005746173929673419, 0.005746173929673419, 0.004455025219162018, 0.008910050438324036, 0.9845605734348061, 0.004455025219162018, 0.16019610397152592, 0.10786343842728878, 0.47564578239095534, 0.256430061166762, 0.2093424742023955, 0.2949070569121048, 0.2680469775501572, 0.22761840448990622, 0.9888892648813663, 0.006219429338876517, 0.006219429338876517, 0.006219429338876517, 0.0029442031054049025, 0.9804196340998326, 0.01177681242161961, 0.005888406210809805, 0.9857166182437466, 0.002628577648649991, 0.007885732945949972, 0.005257155297299982, 0.005710654740267837, 0.9850879426962019, 0.005710654740267837, 0.0028553273701339187, 0.0033956609413729627, 0.9609720464085484, 0.033956609413729626, 0.0033956609413729627, 0.005758547781055333, 0.9904702183415174, 0.005758547781055333, 0.003264979633457607, 0.7324437644389898, 0.26228669722109443, 0.002176653088971738, 0.0032019704638409138, 0.9910098585587629, 0.0032019704638409138, 0.0032019704638409138, 0.005023192349652749, 0.9895688928815914, 0.005023192349652749, 0.00246750153146622, 0.00246750153146622, 0.9894681141179542, 0.00493500306293244, 0.9868482338188969, 0.007958453498539492, 0.007958453498539492, 0.012075227582729286, 0.02012537930454881, 0.9559555169660684, 0.012075227582729286, 0.006860258148988117, 0.9101275810990902, 0.06860258148988117, 0.013720516297976234, 0.04370963680297332, 0.0023005072001564906, 0.004601014400312981, 0.9501094736646307, 0.2713095424696105, 0.19803060997080915, 0.2675061376686347, 0.2631956122275287, 0.009962500434824552, 0.9862875430476307, 0.009962500434824552, 0.010937666324435123, 0.9800149026693871, 0.002187533264887025, 0.0065625997946610745, 0.9914202576345464, 0.0028165348228254158, 0.0028165348228254158, 0.0028165348228254158, 0.007260766593575076, 0.002904306637430031, 0.9816556434513504, 0.008712919912290092, 0.0032775954354933206, 0.9849174283657428, 0.0032775954354933206, 0.008193988588733301, 0.2346448861309286, 0.2085530995650184, 0.2828422140929572, 0.27378256597979395, 0.005495022701782244, 0.005495022701782244, 0.005495022701782244, 0.9891040863208039, 0.0025661343379644553, 0.005132268675928911, 0.007698403013893366, 0.9853955857783508, 0.003486401107055163, 0.003486401107055163, 0.9901379144036663, 0.21708970528846286, 0.18488109017022486, 0.2762298177937021, 0.32172221202850154, 0.007607685818532773, 0.00570576436389958, 0.03803842909266387, 0.9490588058619635, 0.007045815284539098, 0.016440235663924562, 0.03522907642269549, 0.9394420379385464, 0.007272575186142877, 0.9890702253154313, 0.007272575186142877, 0.0067439276481927055, 0.002697571059277082, 0.9886597932250506, 0.002697571059277082, 0.006447579856691681, 0.006447579856691681, 0.9864797180738273, 0.006447579856691681, 0.9886429446193492, 0.3108906352806946, 0.16419387140640274, 0.25599029063283946, 0.2689229353304866, 0.24724815593111044, 0.1793147459991821, 0.28775045995556636, 0.2857253447543436, 0.007108675920476985, 0.0035543379602384923, 0.888584490059623, 0.10307580084691627, 0.003728193278611274, 0.003728193278611274, 0.991699412110599, 0.009160282251732167, 0.9893104831870742, 0.990149429242903, 0.010207726074669103, 0.002866106250876031, 0.9888066565522308, 0.005732212501752062, 0.002866106250876031, 0.003614217900411611, 0.003614217900411611, 0.0018071089502058055, 0.9902957047127815, 0.25427243923491033, 0.1426468384107847, 0.3656437676198011, 0.23723618580617137, 0.25977182716060465, 0.2394662126386167, 0.24763513802102563, 0.2532366868546775, 0.014801856329541016, 0.0029603712659082033, 0.9798828890156154, 0.0029603712659082033, 0.6976569742098228, 0.045479594146663804, 0.23012674638211886, 0.027287756487998284, 0.9854260168864589, 0.530408254131017, 0.11702957920328488, 0.17365679494680983, 0.17884762305663296, 0.003360142104575227, 0.003360142104575227, 0.003360142104575227, 0.9912419208496919, 0.0029433758579718405, 0.008830127573915521, 0.9830875365625947, 0.005886751715943681, 0.9843156350402835, 0.00827155995832171, 0.006342672599425248, 0.9831142529109135, 0.006342672599425248, 0.006342672599425248, 0.0035944456705720527, 0.007188891341144105, 0.9884725594073145, 0.0035944456705720527], \"Term\": [\"adam\", \"adam\", \"adam\", \"adam\", \"alex\", \"alex\", \"alex\", \"alex\", \"anakin\", \"anakin\", \"anakin\", \"anakin\", \"anderson\", \"anderson\", \"anderson\", \"anderson\", \"andrew\", \"andrew\", \"andrew\", \"andrew\", \"angier\", \"angier\", \"angier\", \"angier\", \"around\", \"around\", \"around\", \"around\", \"arthur\", \"arthur\", \"arthur\", \"arthur\", \"artoo\", \"artoo\", \"artoo\", \"artoo\", \"audrey\", \"audrey\", \"audrey\", \"audrey\", \"aurora\", \"aurora\", \"aurora\", \"aurora\", \"ava\", \"ava\", \"ava\", \"ava\", \"away\", \"away\", \"away\", \"away\", \"back\", \"back\", \"back\", \"back\", \"beck\", \"beck\", \"beck\", \"beck\", \"beem\", \"beem\", \"beth\", \"beth\", \"beth\", \"beth\", \"billy\", \"billy\", \"billy\", \"billy\", \"borden\", \"borden\", \"borden\", \"borden\", \"bower\", \"bower\", \"bower\", \"bower\", \"buckaroo\", \"buckaroo\", \"buckaroo\", \"buckaroo\", \"bumstead\", \"bumstead\", \"bumstead\", \"bumstead\", \"burke\", \"burke\", \"burke\", \"caleb\", \"caleb\", \"caleb\", \"caleb\", \"christina\", \"christina\", \"christina\", \"christina\", \"christof\", \"christof\", \"christof\", \"christof\", \"cid\", \"cid\", \"cid\", \"cid\", \"clive\", \"clive\", \"clive\", \"clive\", \"coffey\", \"coffey\", \"coffey\", \"coffey\", \"cole\", \"cole\", \"cole\", \"cole\", \"colter\", \"colter\", \"colter\", \"colter\", \"come\", \"come\", \"come\", \"come\", \"connor\", \"connor\", \"connor\", \"connor\", \"contd\", \"contd\", \"contd\", \"contd\", \"continue\", \"continue\", \"continue\", \"continue\", \"conway\", \"conway\", \"conway\", \"conway\", \"cooper\", \"cooper\", \"cooper\", \"cooper\", \"corey\", \"corey\", \"corey\", \"corey\", \"coulson\", \"cris\", \"cris\", \"cris\", \"cris\", \"cut\", \"cut\", \"cut\", \"cut\", \"cutter\", \"cutter\", \"cutter\", \"cutter\", \"dan\", \"dan\", \"dan\", \"dan\", \"david\", \"david\", \"david\", \"david\", \"day\", \"day\", \"day\", \"day\", \"deckard\", \"deckard\", \"deckard\", \"deckard\", \"decker\", \"decker\", \"decker\", \"decker\", \"dont\", \"dont\", \"dont\", \"dont\", \"doolittle\", \"doolittle\", \"doolittle\", \"doolittle\", \"door\", \"door\", \"door\", \"door\", \"dredd\", \"dredd\", \"dredd\", \"dredd\", \"earl\", \"earl\", \"earl\", \"earl\", \"eddie\", \"eddie\", \"eddie\", \"eddie\", \"elaine\", \"elaine\", \"elaine\", \"elaine\", \"eli\", \"eli\", \"eli\", \"eli\", \"elliott\", \"elliott\", \"elliott\", \"elliott\", \"ester\", \"ester\", \"ester\", \"ester\", \"eugene\", \"eugene\", \"eugene\", \"eugene\", \"evey\", \"evey\", \"evey\", \"evey\", \"ext\", \"ext\", \"ext\", \"ext\", \"eye\", \"eye\", \"eye\", \"eye\", \"face\", \"face\", \"face\", \"face\", \"ferris\", \"ferris\", \"ferris\", \"ferris\", \"finch\", \"finch\", \"finch\", \"finch\", \"forsythe\", \"gallo\", \"gallo\", \"gallo\", \"gallo\", \"geordi\", \"geordi\", \"geordi\", \"geordi\", \"gerty\", \"gerty\", \"gerty\", \"get\", \"get\", \"get\", \"get\", \"go\", \"go\", \"go\", \"go\", \"goodwin\", \"goodwin\", \"goodwin\", \"goodwin\", \"gordon\", \"gordon\", \"gordon\", \"gordon\", \"grabbers\", \"grabbers\", \"grant\", \"grant\", \"grant\", \"grant\", \"greer\", \"greer\", \"greer\", \"greer\", \"gregory\", \"gregory\", \"gregory\", \"gremlin\", \"gremlin\", \"hal\", \"hal\", \"hal\", \"hal\", \"han\", \"han\", \"han\", \"han\", \"hand\", \"hand\", \"hand\", \"hand\", \"head\", \"head\", \"head\", \"head\", \"hellboy\", \"hellboy\", \"hellboy\", \"hellboy\", \"henri\", \"henri\", \"henri\", \"henri\", \"hiroko\", \"hiroko\", \"hiroko\", \"hiroko\", \"humanz\", \"humungus\", \"ilia\", \"ilia\", \"ilia\", \"im\", \"im\", \"im\", \"im\", \"int\", \"int\", \"int\", \"int\", \"jack\", \"jack\", \"jack\", \"jack\", \"jackson\", \"jackson\", \"jackson\", \"jackson\", \"jake\", \"jake\", \"jake\", \"jake\", \"jar\", \"jar\", \"jar\", \"jar\", \"jay\", \"jay\", \"jay\", \"jay\", \"jedi\", \"jedi\", \"jedi\", \"jedi\", \"jenny\", \"jenny\", \"jenny\", \"jenny\", \"jerome\", \"jerome\", \"jerome\", \"jerome\", \"jeromes\", \"jeromes\", \"jetson\", \"jetson\", \"jetson\", \"jetson\", \"jill\", \"jill\", \"jill\", \"jill\", \"jim\", \"jim\", \"jim\", \"jim\", \"jimmy\", \"jimmy\", \"jimmy\", \"jimmy\", \"joe\", \"joe\", \"joe\", \"joe\", \"joel\", \"joel\", \"joel\", \"joel\", \"julie\", \"julie\", \"julie\", \"julie\", \"julius\", \"julius\", \"julius\", \"julius\", \"kable\", \"kable\", \"kable\", \"kable\", \"kase\", \"kase\", \"kase\", \"kay\", \"kay\", \"kay\", \"kay\", \"kelvin\", \"kelvin\", \"kelvin\", \"kelvin\", \"killmonger\", \"killmonger\", \"killmonger\", \"killmonger\", \"kirk\", \"kirk\", \"kirk\", \"kirk\", \"klaatu\", \"klaatu\", \"klaatu\", \"klaatu\", \"klaue\", \"klaue\", \"klaue\", \"klaue\", \"know\", \"know\", \"know\", \"know\", \"korben\", \"korben\", \"korben\", \"krod\", \"krod\", \"krod\", \"kylie\", \"kylie\", \"lainey\", \"lainey\", \"lainey\", \"lainey\", \"laura\", \"laura\", \"laura\", \"laura\", \"leia\", \"leia\", \"leia\", \"leia\", \"lenny\", \"lenny\", \"lenny\", \"lenny\", \"light\", \"light\", \"light\", \"light\", \"like\", \"like\", \"like\", \"like\", \"lilly\", \"lilly\", \"lilly\", \"lilly\", \"lincoln\", \"lincoln\", \"lincoln\", \"lincoln\", \"linda\", \"linda\", \"linda\", \"linda\", \"lindsey\", \"lindsey\", \"lindsey\", \"lindsey\", \"logan\", \"logan\", \"logan\", \"logan\", \"loki\", \"loki\", \"loki\", \"loki\", \"look\", \"look\", \"look\", \"look\", \"lou\", \"lou\", \"lou\", \"lou\", \"loveless\", \"loveless\", \"loveless\", \"loveless\", \"luke\", \"luke\", \"luke\", \"luke\", \"macready\", \"macready\", \"macready\", \"macready\", \"magneto\", \"magneto\", \"magneto\", \"magneto\", \"make\", \"make\", \"make\", \"make\", \"mal\", \"mal\", \"mal\", \"mal\", \"malloy\", \"man\", \"man\", \"man\", \"man\", \"marco\", \"marco\", \"marco\", \"marco\", \"marcus\", \"marcus\", \"marcus\", \"marcus\", \"max\", \"max\", \"max\", \"max\", \"mcconnell\", \"mcconnell\", \"mcconnell\", \"mcconnell\", \"melina\", \"melina\", \"melina\", \"melina\", \"merrill\", \"merrill\", \"merrill\", \"merrill\", \"miller\", \"miller\", \"miller\", \"miller\", \"move\", \"move\", \"move\", \"move\", \"mulder\", \"mulder\", \"mulder\", \"mulder\", \"murph\", \"murph\", \"murph\", \"myers\", \"myers\", \"myers\", \"myers\", \"naboo\", \"naboo\", \"naboo\", \"naboo\", \"nadia\", \"nadia\", \"nadia\", \"nadia\", \"nakia\", \"nakia\", \"nakia\", \"nakia\", \"nantz\", \"nantz\", \"nantz\", \"nantz\", \"natasha\", \"natasha\", \"natasha\", \"nathan\", \"nathan\", \"nathan\", \"nathan\", \"night\", \"night\", \"night\", \"night\", \"norma\", \"norma\", \"norma\", \"norma\", \"norman\", \"norman\", \"norman\", \"norman\", \"obi\", \"obi\", \"obi\", \"obi\", \"okoye\", \"okoye\", \"okoye\", \"one\", \"one\", \"one\", \"one\", \"open\", \"open\", \"open\", \"open\", \"oshea\", \"oshea\", \"oshea\", \"oshea\", \"otto\", \"otto\", \"otto\", \"otto\", \"padme\", \"padme\", \"padme\", \"padme\", \"pappagallo\", \"parker\", \"parker\", \"parker\", \"parker\", \"paul\", \"paul\", \"paul\", \"paul\", \"payton\", \"payton\", \"payton\", \"payton\", \"peter\", \"peter\", \"peter\", \"peter\", \"peyton\", \"peyton\", \"peyton\", \"peyton\", \"picard\", \"picard\", \"picard\", \"picard\", \"plexor\", \"plexor\", \"plexor\", \"plexor\", \"plissken\", \"plissken\", \"plissken\", \"plissken\", \"poole\", \"poole\", \"postman\", \"postman\", \"postman\", \"postman\", \"precrime\", \"precrime\", \"priest\", \"priest\", \"priest\", \"priest\", \"quail\", \"quail\", \"quail\", \"quail\", \"quentin\", \"quentin\", \"qui\", \"qui\", \"qui\", \"qui\", \"rachel\", \"rachel\", \"rachel\", \"rachel\", \"railly\", \"railly\", \"railly\", \"railly\", \"ray\", \"ray\", \"ray\", \"ray\", \"reed\", \"reed\", \"reed\", \"reed\", \"reese\", \"reese\", \"reese\", \"reese\", \"rheya\", \"rheya\", \"rheya\", \"rheya\", \"rhodes\", \"rhodes\", \"rhodes\", \"richardson\", \"richardson\", \"richardson\", \"richardson\", \"rick\", \"rick\", \"rick\", \"rick\", \"riddick\", \"riddick\", \"riddick\", \"riddick\", \"right\", \"right\", \"right\", \"right\", \"riker\", \"riker\", \"riker\", \"riker\", \"ripcord\", \"ripcord\", \"ripcord\", \"ripcord\", \"ripley\", \"ripley\", \"ripley\", \"ripley\", \"rizzo\", \"rizzo\", \"robbie\", \"robbie\", \"robbie\", \"robbie\", \"rollo\", \"room\", \"room\", \"room\", \"room\", \"rorschach\", \"rorschach\", \"rorschach\", \"rorschach\", \"roxanne\", \"roxanne\", \"roxanne\", \"rutledge\", \"rutledge\", \"rutledge\", \"ryan\", \"ryan\", \"ryan\", \"ryan\", \"ryushi\", \"ryushi\", \"ryushi\", \"ryushi\", \"saavik\", \"saavik\", \"saavik\", \"saavik\", \"sam\", \"sam\", \"sam\", \"sam\", \"samantha\", \"samantha\", \"samantha\", \"samantha\", \"sanger\", \"schaefer\", \"schaefer\", \"schaefer\", \"schaefer\", \"scheer\", \"scheer\", \"scully\", \"scully\", \"scully\", \"scully\", \"see\", \"see\", \"see\", \"see\", \"shermin\", \"shermin\", \"shermin\", \"shermin\", \"shinzon\", \"shinzon\", \"shinzon\", \"shinzon\", \"ship\", \"ship\", \"ship\", \"ship\", \"shoot\", \"shoot\", \"shoot\", \"shoot\", \"shuri\", \"shuri\", \"shuri\", \"shuri\", \"sid\", \"sid\", \"sid\", \"sid\", \"silus\", \"silus\", \"silus\", \"silus\", \"simone\", \"simone\", \"simone\", \"simone\", \"solara\", \"solara\", \"solara\", \"solara\", \"soran\", \"soran\", \"soran\", \"spock\", \"spock\", \"spock\", \"spock\", \"spooner\", \"spooner\", \"spooner\", \"spooner\", \"starck\", \"starck\", \"starck\", \"starla\", \"starla\", \"starla\", \"starla\", \"stuey\", \"stuey\", \"stuey\", \"sue\", \"sue\", \"sue\", \"sue\", \"susan\", \"susan\", \"susan\", \"susan\", \"sykes\", \"sykes\", \"sykes\", \"sykes\", \"take\", \"take\", \"take\", \"take\", \"talby\", \"talby\", \"talby\", \"taylor\", \"taylor\", \"taylor\", \"taylor\", \"tchalla\", \"tchalla\", \"tchalla\", \"tchalla\", \"terminator\", \"terminator\", \"terminator\", \"terminator\", \"theodore\", \"theodore\", \"theodore\", \"theodore\", \"think\", \"think\", \"think\", \"think\", \"thor\", \"thor\", \"thor\", \"thor\", \"threepio\", \"threepio\", \"threepio\", \"threepio\", \"tilda\", \"tilda\", \"tilda\", \"time\", \"time\", \"time\", \"time\", \"todd\", \"todd\", \"todd\", \"todd\", \"traveller\", \"traveller\", \"traveller\", \"traveller\", \"trillian\", \"trillian\", \"trillian\", \"truman\", \"truman\", \"truman\", \"truman\", \"trumans\", \"trumans\", \"trumans\", \"trumans\", \"tudor\", \"turn\", \"turn\", \"turn\", \"turn\", \"two\", \"two\", \"two\", \"two\", \"val\", \"val\", \"val\", \"val\", \"valentina\", \"valentina\", \"valentina\", \"vfx\", \"vfx\", \"vger\", \"vger\", \"viktor\", \"viktor\", \"viktor\", \"viktor\", \"vince\", \"vince\", \"vince\", \"vince\", \"wall\", \"wall\", \"wall\", \"wall\", \"want\", \"want\", \"want\", \"want\", \"weir\", \"weir\", \"weir\", \"weir\", \"west\", \"west\", \"west\", \"west\", \"wez\", \"white\", \"white\", \"white\", \"white\", \"witwer\", \"witwer\", \"witwer\", \"witwer\", \"worf\", \"worf\", \"worf\", \"worf\", \"yaz\", \"yaz\", \"zaius\", \"zaius\", \"zaius\", \"zaius\", \"zaphod\", \"zaphod\", \"zaphod\", \"zaphod\"]}, \"R\": 30, \"lambda.step\": 0.01, \"plot.opts\": {\"xlab\": \"PC1\", \"ylab\": \"PC2\"}, \"topic.order\": [1, 2, 3, 4]};\n",
       "\n",
       "function LDAvis_load_lib(url, callback){\n",
       "  var s = document.createElement('script');\n",
       "  s.src = url;\n",
       "  s.async = true;\n",
       "  s.onreadystatechange = s.onload = callback;\n",
       "  s.onerror = function(){console.warn(\"failed to load library \" + url);};\n",
       "  document.getElementsByTagName(\"head\")[0].appendChild(s);\n",
       "}\n",
       "\n",
       "if(typeof(LDAvis) !== \"undefined\"){\n",
       "   // already loaded: just create the visualization\n",
       "   !function(LDAvis){\n",
       "       new LDAvis(\"#\" + \"ldavis_el117781401908284283041402828346\", ldavis_el117781401908284283041402828346_data);\n",
       "   }(LDAvis);\n",
       "}else if(typeof define === \"function\" && define.amd){\n",
       "   // require.js is available: use it to load d3/LDAvis\n",
       "   require.config({paths: {d3: \"https://d3js.org/d3.v5\"}});\n",
       "   require([\"d3\"], function(d3){\n",
       "      window.d3 = d3;\n",
       "      LDAvis_load_lib(\"https://cdn.jsdelivr.net/gh/bmabey/pyLDAvis@3.3.1/pyLDAvis/js/ldavis.v3.0.0.js\", function(){\n",
       "        new LDAvis(\"#\" + \"ldavis_el117781401908284283041402828346\", ldavis_el117781401908284283041402828346_data);\n",
       "      });\n",
       "    });\n",
       "}else{\n",
       "    // require.js not available: dynamically load d3 & LDAvis\n",
       "    LDAvis_load_lib(\"https://d3js.org/d3.v5.js\", function(){\n",
       "         LDAvis_load_lib(\"https://cdn.jsdelivr.net/gh/bmabey/pyLDAvis@3.3.1/pyLDAvis/js/ldavis.v3.0.0.js\", function(){\n",
       "                 new LDAvis(\"#\" + \"ldavis_el117781401908284283041402828346\", ldavis_el117781401908284283041402828346_data);\n",
       "            })\n",
       "         });\n",
       "}\n",
       "</script>"
      ],
      "text/plain": [
       "PreparedData(topic_coordinates=              x         y  topics  cluster       Freq\n",
       "topic                                                \n",
       "0     -0.021573  0.057037       1        1  26.117867\n",
       "1      0.065076 -0.010553       2        1  18.918971\n",
       "2     -0.001523 -0.000845       3        1  27.507305\n",
       "3     -0.041981 -0.045638       4        1  27.455857, topic_info=         Term         Freq        Total Category  logprob  loglift\n",
       "23647   logan  2147.000000  2147.000000  Default  30.0000  30.0000\n",
       "14016     sam  2777.000000  2777.000000  Default  29.0000  29.0000\n",
       "38252    kirk  1793.000000  1793.000000  Default  28.0000  28.0000\n",
       "2373      joe  1411.000000  1411.000000  Default  27.0000  27.0000\n",
       "23652    luke  1380.000000  1380.000000  Default  26.0000  26.0000\n",
       "...       ...          ...          ...      ...      ...      ...\n",
       "280    around  1803.867037  6507.607122   Topic4  -5.8306   0.0096\n",
       "365      away  1652.754142  5492.945210   Topic4  -5.9181   0.0916\n",
       "1935     head  1725.734595  6557.321108   Topic4  -5.8749  -0.0423\n",
       "1486     face  1611.878933  6244.865539   Topic4  -5.9431  -0.0618\n",
       "5481    contd  1578.767321  5395.563394   Topic4  -5.9639   0.0637\n",
       "\n",
       "[377 rows x 6 columns], token_table=       Topic      Freq    Term\n",
       "term                          \n",
       "7111       1  0.029189    adam\n",
       "7111       2  0.021405    adam\n",
       "7111       3  0.005838    adam\n",
       "7111       4  0.943780    adam\n",
       "8259       1  0.969187    alex\n",
       "...      ...       ...     ...\n",
       "65893      4  0.006343   zaius\n",
       "47133      1  0.003594  zaphod\n",
       "47133      2  0.007189  zaphod\n",
       "47133      3  0.988473  zaphod\n",
       "47133      4  0.003594  zaphod\n",
       "\n",
       "[996 rows x 3 columns], R=30, lambda_step=0.01, plot_opts={'xlab': 'PC1', 'ylab': 'PC2'}, topic_order=[1, 2, 3, 4])"
      ]
     },
     "execution_count": 63,
     "metadata": {},
     "output_type": "execute_result"
    }
   ],
   "source": [
    "import pickle \n",
    "import pyLDAvis\n",
    "import pyLDAvis.gensim_models\n",
    "import os\n",
    "\n",
    "# Visualize the topics\n",
    "pyLDAvis.enable_notebook()\n",
    "\n",
    "LDAvis_data_filepath = os.path.join('Data/prepared_'+str(num_topics))\n",
    "\n",
    "# # this is a bit time consuming - make the if statement True\n",
    "# # if you want to execute visualization prep yourself\n",
    "if 1 == 1:\n",
    "    LDAvis_prepared = pyLDAvis.gensim_models.prepare(lda_model, corpus, id2word, sort_topics=False)\n",
    "    with open(LDAvis_data_filepath, 'wb') as f:\n",
    "        pickle.dump(LDAvis_prepared, f)\n",
    "\n",
    "# load the pre-prepared pyLDAvis data from disk\n",
    "with open(LDAvis_data_filepath, 'rb') as f:\n",
    "    LDAvis_prepared = pickle.load(f)\n",
    "\n",
    "pyLDAvis.save_html(LDAvis_prepared, 'Data/prepared_'+ str(num_topics) +'.html')\n",
    "\n",
    "LDAvis_prepared"
   ]
  },
  {
   "cell_type": "code",
   "execution_count": null,
   "id": "59ede63a",
   "metadata": {},
   "outputs": [],
   "source": [
    "topic_scores = [[topic_score[1] for topic_score in sent] for sent in doc_lda]"
   ]
  }
 ],
 "metadata": {
  "kernelspec": {
   "display_name": "Python 3",
   "language": "python",
   "name": "python3"
  },
  "language_info": {
   "codemirror_mode": {
    "name": "ipython",
    "version": 3
   },
   "file_extension": ".py",
   "mimetype": "text/x-python",
   "name": "python",
   "nbconvert_exporter": "python",
   "pygments_lexer": "ipython3",
   "version": "3.8.8"
  }
 },
 "nbformat": 4,
 "nbformat_minor": 5
}
