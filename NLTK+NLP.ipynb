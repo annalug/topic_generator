{
 "cells": [
  {
   "cell_type": "code",
   "execution_count": 75,
   "id": "5583a737",
   "metadata": {},
   "outputs": [
    {
     "name": "stderr",
     "output_type": "stream",
     "text": [
      "/home/anna/anaconda3/lib/python3.8/site-packages/ipykernel/ipkernel.py:287: DeprecationWarning: `should_run_async` will not call `transform_cell` automatically in the future. Please pass the result to `transformed_cell` argument and any exception that happen during thetransform in `preprocessing_exc_tuple` in IPython 7.17 and above.\n",
      "  and should_run_async(code)\n"
     ]
    }
   ],
   "source": [
    "import nltk\n",
    "import pandas as pd\n",
    "import re"
   ]
  },
  {
   "cell_type": "code",
   "execution_count": 76,
   "id": "e19505e5",
   "metadata": {},
   "outputs": [
    {
     "name": "stderr",
     "output_type": "stream",
     "text": [
      "/home/anna/anaconda3/lib/python3.8/site-packages/ipykernel/ipkernel.py:287: DeprecationWarning: `should_run_async` will not call `transform_cell` automatically in the future. Please pass the result to `transformed_cell` argument and any exception that happen during thetransform in `preprocessing_exc_tuple` in IPython 7.17 and above.\n",
      "  and should_run_async(code)\n"
     ]
    }
   ],
   "source": [
    "text = pd.read_csv('Data/dataset.csv')"
   ]
  },
  {
   "cell_type": "code",
   "execution_count": 77,
   "id": "130d459d",
   "metadata": {
    "scrolled": true
   },
   "outputs": [
    {
     "name": "stderr",
     "output_type": "stream",
     "text": [
      "/home/anna/anaconda3/lib/python3.8/site-packages/ipykernel/ipkernel.py:287: DeprecationWarning: `should_run_async` will not call `transform_cell` automatically in the future. Please pass the result to `transformed_cell` argument and any exception that happen during thetransform in `preprocessing_exc_tuple` in IPython 7.17 and above.\n",
      "  and should_run_async(code)\n"
     ]
    },
    {
     "data": {
      "text/html": [
       "<div>\n",
       "<style scoped>\n",
       "    .dataframe tbody tr th:only-of-type {\n",
       "        vertical-align: middle;\n",
       "    }\n",
       "\n",
       "    .dataframe tbody tr th {\n",
       "        vertical-align: top;\n",
       "    }\n",
       "\n",
       "    .dataframe thead th {\n",
       "        text-align: right;\n",
       "    }\n",
       "</style>\n",
       "<table border=\"1\" class=\"dataframe\">\n",
       "  <thead>\n",
       "    <tr style=\"text-align: right;\">\n",
       "      <th></th>\n",
       "      <th>movie_name</th>\n",
       "      <th>script</th>\n",
       "    </tr>\n",
       "  </thead>\n",
       "  <tbody>\n",
       "    <tr>\n",
       "      <th>0</th>\n",
       "      <td>12 Monkeys</td>\n",
       "      <td>Twelve MonkeysTWELVE MONKEYS              An o...</td>\n",
       "    </tr>\n",
       "    <tr>\n",
       "      <th>1</th>\n",
       "      <td>2001 A Space Odyssey</td>\n",
       "      <td>2001: A SPACE ODYSSEY    Screenplay   ...</td>\n",
       "    </tr>\n",
       "    <tr>\n",
       "      <th>2</th>\n",
       "      <td>2012</td>\n",
       "      <td>...</td>\n",
       "    </tr>\n",
       "    <tr>\n",
       "      <th>3</th>\n",
       "      <td>28 Days Later</td>\n",
       "      <td>28 DAYS LATER       ...</td>\n",
       "    </tr>\n",
       "    <tr>\n",
       "      <th>4</th>\n",
       "      <td>9</td>\n",
       "      <td>...</td>\n",
       "    </tr>\n",
       "  </tbody>\n",
       "</table>\n",
       "</div>"
      ],
      "text/plain": [
       "             movie_name                                             script\n",
       "0            12 Monkeys  Twelve MonkeysTWELVE MONKEYS              An o...\n",
       "1  2001 A Space Odyssey          2001: A SPACE ODYSSEY    Screenplay   ...\n",
       "2                  2012                                                ...\n",
       "3         28 Days Later                            28 DAYS LATER       ...\n",
       "4                     9                                                ..."
      ]
     },
     "execution_count": 77,
     "metadata": {},
     "output_type": "execute_result"
    }
   ],
   "source": [
    "text.head()"
   ]
  },
  {
   "cell_type": "code",
   "execution_count": 78,
   "id": "876f00b2",
   "metadata": {},
   "outputs": [
    {
     "name": "stderr",
     "output_type": "stream",
     "text": [
      "/home/anna/anaconda3/lib/python3.8/site-packages/ipykernel/ipkernel.py:287: DeprecationWarning: `should_run_async` will not call `transform_cell` automatically in the future. Please pass the result to `transformed_cell` argument and any exception that happen during thetransform in `preprocessing_exc_tuple` in IPython 7.17 and above.\n",
      "  and should_run_async(code)\n"
     ]
    }
   ],
   "source": [
    "text.dropna(inplace=True)"
   ]
  },
  {
   "cell_type": "code",
   "execution_count": 79,
   "id": "3cd1f177",
   "metadata": {},
   "outputs": [
    {
     "name": "stderr",
     "output_type": "stream",
     "text": [
      "/home/anna/anaconda3/lib/python3.8/site-packages/ipykernel/ipkernel.py:287: DeprecationWarning: `should_run_async` will not call `transform_cell` automatically in the future. Please pass the result to `transformed_cell` argument and any exception that happen during thetransform in `preprocessing_exc_tuple` in IPython 7.17 and above.\n",
      "  and should_run_async(code)\n"
     ]
    },
    {
     "name": "stdout",
     "output_type": "stream",
     "text": [
      "<class 'pandas.core.frame.DataFrame'>\n",
      "Int64Index: 165 entries, 0 to 167\n",
      "Data columns (total 2 columns):\n",
      " #   Column      Non-Null Count  Dtype \n",
      "---  ------      --------------  ----- \n",
      " 0   movie_name  165 non-null    object\n",
      " 1   script      165 non-null    object\n",
      "dtypes: object(2)\n",
      "memory usage: 3.9+ KB\n"
     ]
    }
   ],
   "source": [
    "text.info()"
   ]
  },
  {
   "cell_type": "markdown",
   "id": "a5618dcf",
   "metadata": {},
   "source": [
    "# pre-processing"
   ]
  },
  {
   "cell_type": "code",
   "execution_count": 80,
   "id": "37f81347",
   "metadata": {},
   "outputs": [
    {
     "name": "stderr",
     "output_type": "stream",
     "text": [
      "/home/anna/anaconda3/lib/python3.8/site-packages/ipykernel/ipkernel.py:287: DeprecationWarning: `should_run_async` will not call `transform_cell` automatically in the future. Please pass the result to `transformed_cell` argument and any exception that happen during thetransform in `preprocessing_exc_tuple` in IPython 7.17 and above.\n",
      "  and should_run_async(code)\n"
     ]
    }
   ],
   "source": [
    "import nltk\n",
    "from nltk.corpus import stopwords\n",
    "from gensim.utils import simple_preprocess\n",
    "from nltk.stem import WordNetLemmatizer"
   ]
  },
  {
   "cell_type": "code",
   "execution_count": 123,
   "id": "9d6739ac",
   "metadata": {},
   "outputs": [
    {
     "name": "stderr",
     "output_type": "stream",
     "text": [
      "/home/anna/anaconda3/lib/python3.8/site-packages/ipykernel/ipkernel.py:287: DeprecationWarning: `should_run_async` will not call `transform_cell` automatically in the future. Please pass the result to `transformed_cell` argument and any exception that happen during thetransform in `preprocessing_exc_tuple` in IPython 7.17 and above.\n",
      "  and should_run_async(code)\n"
     ]
    },
    {
     "data": {
      "image/png": "[encoded data removed]",
      "text/plain": [
       "<PIL.Image.Image image mode=RGB size=400x200 at 0x7F2AEE2A4970>"
      ]
     },
     "execution_count": 123,
     "metadata": {},
     "output_type": "execute_result"
    }
   ],
   "source": [
    "# Import the wordcloud library\n",
    "from wordcloud import WordCloud\n",
    "# Join the different processed titles together.\n",
    "long_string = ','.join(list(text['script'].values))\n",
    "# Create a WordCloud object\n",
    "wordcloud = WordCloud(background_color=\"white\", max_words=5000, contour_width=3, contour_color='steelblue')\n",
    "# Generate a word cloud\n",
    "wordcloud.generate(long_string)\n",
    "# Visualize the word cloud\n",
    "wordcloud.to_image()"
   ]
  },
  {
   "cell_type": "code",
   "execution_count": 124,
   "id": "c68761d2",
   "metadata": {},
   "outputs": [
    {
     "name": "stderr",
     "output_type": "stream",
     "text": [
      "/home/anna/anaconda3/lib/python3.8/site-packages/ipykernel/ipkernel.py:287: DeprecationWarning: `should_run_async` will not call `transform_cell` automatically in the future. Please pass the result to `transformed_cell` argument and any exception that happen during thetransform in `preprocessing_exc_tuple` in IPython 7.17 and above.\n",
      "  and should_run_async(code)\n"
     ]
    }
   ],
   "source": [
    "stop_words = stopwords.words('english')\n",
    "stop_words.extend(['int','ext','im','one','contd','hand','door','room','cut','dont','look'])"
   ]
  },
  {
   "cell_type": "code",
   "execution_count": 125,
   "id": "6177fcf3",
   "metadata": {},
   "outputs": [
    {
     "name": "stderr",
     "output_type": "stream",
     "text": [
      "/home/anna/anaconda3/lib/python3.8/site-packages/ipykernel/ipkernel.py:287: DeprecationWarning: `should_run_async` will not call `transform_cell` automatically in the future. Please pass the result to `transformed_cell` argument and any exception that happen during thetransform in `preprocessing_exc_tuple` in IPython 7.17 and above.\n",
      "  and should_run_async(code)\n"
     ]
    }
   ],
   "source": [
    "#stop_words"
   ]
  },
  {
   "cell_type": "code",
   "execution_count": 126,
   "id": "2f14f4c6",
   "metadata": {},
   "outputs": [
    {
     "name": "stderr",
     "output_type": "stream",
     "text": [
      "/home/anna/anaconda3/lib/python3.8/site-packages/ipykernel/ipkernel.py:287: DeprecationWarning: `should_run_async` will not call `transform_cell` automatically in the future. Please pass the result to `transformed_cell` argument and any exception that happen during thetransform in `preprocessing_exc_tuple` in IPython 7.17 and above.\n",
      "  and should_run_async(code)\n",
      "[nltk_data] Downloading package punkt to /home/anna/nltk_data...\n",
      "[nltk_data]   Package punkt is already up-to-date!\n"
     ]
    },
    {
     "data": {
      "text/plain": [
       "True"
      ]
     },
     "execution_count": 126,
     "metadata": {},
     "output_type": "execute_result"
    }
   ],
   "source": [
    "nltk.download('punkt')"
   ]
  },
  {
   "cell_type": "code",
   "execution_count": 127,
   "id": "de8eec9c",
   "metadata": {},
   "outputs": [
    {
     "name": "stderr",
     "output_type": "stream",
     "text": [
      "/home/anna/anaconda3/lib/python3.8/site-packages/ipykernel/ipkernel.py:287: DeprecationWarning: `should_run_async` will not call `transform_cell` automatically in the future. Please pass the result to `transformed_cell` argument and any exception that happen during thetransform in `preprocessing_exc_tuple` in IPython 7.17 and above.\n",
      "  and should_run_async(code)\n"
     ]
    }
   ],
   "source": [
    "def tokenize_list(texts):\n",
    "    word_list = []\n",
    "    for item in range(len(texts)):\n",
    "        \n",
    "        word_list.append(nltk.word_tokenize(texts[item]))\n",
    "    return word_list\n",
    "\n",
    "def remove_stopwords(texts):\n",
    "    return [[word for word in simple_preprocess(str(doc)) \n",
    "             if word not in stop_words] for doc in texts]\n",
    "\n",
    "def lemmatize(text):\n",
    "    lemmatizer = WordNetLemmatizer()\n",
    "    for item in range(len(text)):\n",
    "        text[item]=  [lemmatizer.lemmatize(w,pos='v') for w in text[item]]\n",
    "        \n",
    "    return text"
   ]
  },
  {
   "cell_type": "code",
   "execution_count": 128,
   "id": "178c2353",
   "metadata": {},
   "outputs": [
    {
     "name": "stderr",
     "output_type": "stream",
     "text": [
      "/home/anna/anaconda3/lib/python3.8/site-packages/ipykernel/ipkernel.py:287: DeprecationWarning: `should_run_async` will not call `transform_cell` automatically in the future. Please pass the result to `transformed_cell` argument and any exception that happen during thetransform in `preprocessing_exc_tuple` in IPython 7.17 and above.\n",
      "  and should_run_async(code)\n"
     ]
    }
   ],
   "source": [
    "text_list = tokenize_list(text.script.tolist())\n",
    "text_list = remove_stopwords(text_list)\n",
    "text_list = lemmatize(text_list)"
   ]
  },
  {
   "cell_type": "code",
   "execution_count": 129,
   "id": "752615ec",
   "metadata": {},
   "outputs": [
    {
     "name": "stderr",
     "output_type": "stream",
     "text": [
      "/home/anna/anaconda3/lib/python3.8/site-packages/ipykernel/ipkernel.py:287: DeprecationWarning: `should_run_async` will not call `transform_cell` automatically in the future. Please pass the result to `transformed_cell` argument and any exception that happen during thetransform in `preprocessing_exc_tuple` in IPython 7.17 and above.\n",
      "  and should_run_async(code)\n"
     ]
    },
    {
     "data": {
      "text/plain": [
       "165"
      ]
     },
     "execution_count": 129,
     "metadata": {},
     "output_type": "execute_result"
    }
   ],
   "source": [
    "len(text_list)"
   ]
  },
  {
   "cell_type": "code",
   "execution_count": 130,
   "id": "28e4aad5",
   "metadata": {},
   "outputs": [
    {
     "name": "stderr",
     "output_type": "stream",
     "text": [
      "/home/anna/anaconda3/lib/python3.8/site-packages/ipykernel/ipkernel.py:287: DeprecationWarning: `should_run_async` will not call `transform_cell` automatically in the future. Please pass the result to `transformed_cell` argument and any exception that happen during thetransform in `preprocessing_exc_tuple` in IPython 7.17 and above.\n",
      "  and should_run_async(code)\n"
     ]
    },
    {
     "name": "stdout",
     "output_type": "stream",
     "text": [
      "[(0, 3), (1, 1), (2, 1), (3, 4), (4, 1), (5, 1), (6, 1), (7, 1), (8, 1), (9, 1), (10, 1), (11, 2), (12, 1), (13, 4), (14, 2), (15, 2), (16, 1), (17, 1), (18, 1), (19, 2), (20, 3), (21, 1), (22, 2), (23, 1), (24, 1), (25, 1), (26, 1), (27, 1), (28, 1), (29, 15)]\n"
     ]
    }
   ],
   "source": [
    "import gensim.corpora as corpora\n",
    "\n",
    "# Create dictionary\n",
    "id2word = corpora.Dictionary(text_list)\n",
    "\n",
    "\n",
    "# Create corpus: Word frequency \n",
    "corpus = [id2word.doc2bow(text) for text in text_list]\n",
    "\n",
    "# View\n",
    "print(corpus[:1][0][:30])"
   ]
  },
  {
   "cell_type": "code",
   "execution_count": 131,
   "id": "24daf697",
   "metadata": {},
   "outputs": [
    {
     "name": "stderr",
     "output_type": "stream",
     "text": [
      "/home/anna/anaconda3/lib/python3.8/site-packages/ipykernel/ipkernel.py:287: DeprecationWarning: `should_run_async` will not call `transform_cell` automatically in the future. Please pass the result to `transformed_cell` argument and any exception that happen during thetransform in `preprocessing_exc_tuple` in IPython 7.17 and above.\n",
      "  and should_run_async(code)\n"
     ]
    }
   ],
   "source": [
    "from tqdm import tqdm\n",
    "from gensim.models.ldamulticore import LdaMulticore\n",
    "from gensim.models import CoherenceModel\n",
    "import matplotlib.pyplot as plt"
   ]
  },
  {
   "cell_type": "code",
   "execution_count": 132,
   "id": "dd07630c",
   "metadata": {},
   "outputs": [
    {
     "name": "stderr",
     "output_type": "stream",
     "text": [
      "/home/anna/anaconda3/lib/python3.8/site-packages/ipykernel/ipkernel.py:287: DeprecationWarning: `should_run_async` will not call `transform_cell` automatically in the future. Please pass the result to `transformed_cell` argument and any exception that happen during thetransform in `preprocessing_exc_tuple` in IPython 7.17 and above.\n",
      "  and should_run_async(code)\n"
     ]
    },
    {
     "name": "stdout",
     "output_type": "stream",
     "text": [
      "[(0,\n",
      "  '0.006*\"go\" + 0.006*\"get\" + 0.005*\"look\" + 0.005*\"see\" + 0.004*\"back\" + '\n",
      "  '0.004*\"like\" + 0.004*\"come\" + 0.004*\"know\" + 0.004*\"take\" + 0.004*\"turn\"'),\n",
      " (1,\n",
      "  '0.007*\"look\" + 0.007*\"see\" + 0.007*\"back\" + 0.007*\"get\" + 0.006*\"go\" + '\n",
      "  '0.004*\"like\" + 0.004*\"know\" + 0.004*\"take\" + 0.004*\"come\" + 0.004*\"turn\"'),\n",
      " (2,\n",
      "  '0.007*\"get\" + 0.006*\"back\" + 0.006*\"go\" + 0.005*\"look\" + 0.005*\"like\" + '\n",
      "  '0.004*\"see\" + 0.004*\"come\" + 0.004*\"know\" + 0.003*\"turn\" + 0.003*\"open\"')]\n"
     ]
    }
   ],
   "source": [
    "from pprint import pprint\n",
    "# number of topics\n",
    "num_topics = 3\n",
    "\n",
    "# Build LDA model\n",
    "lda_model = LdaMulticore(corpus=corpus,\n",
    "                        id2word=id2word,\n",
    "                        num_topics=num_topics, \n",
    "                        random_state=42)\n",
    "\n",
    "# Print the Keyword in the 10 topics\n",
    "pprint(lda_model.print_topics())\n",
    "doc_lda = lda_model[corpus]"
   ]
  },
  {
   "cell_type": "code",
   "execution_count": 133,
   "id": "b7b0c749",
   "metadata": {},
   "outputs": [
    {
     "name": "stderr",
     "output_type": "stream",
     "text": [
      "/home/anna/anaconda3/lib/python3.8/site-packages/ipykernel/ipkernel.py:287: DeprecationWarning: `should_run_async` will not call `transform_cell` automatically in the future. Please pass the result to `transformed_cell` argument and any exception that happen during thetransform in `preprocessing_exc_tuple` in IPython 7.17 and above.\n",
      "  and should_run_async(code)\n"
     ]
    },
    {
     "name": "stdout",
     "output_type": "stream",
     "text": [
      "\n",
      "Coherence Score:  0.24055847702347447\n"
     ]
    }
   ],
   "source": [
    "# Compute Coherence Score\n",
    "coherence_model_lda = CoherenceModel(model=lda_model, texts=text_list, dictionary=id2word, coherence='c_v')\n",
    "coherence_lda = coherence_model_lda.get_coherence()\n",
    "print('\\nCoherence Score: ', coherence_lda)"
   ]
  },
  {
   "cell_type": "code",
   "execution_count": 134,
   "id": "c89e84d5",
   "metadata": {},
   "outputs": [
    {
     "name": "stderr",
     "output_type": "stream",
     "text": [
      "/home/anna/anaconda3/lib/python3.8/site-packages/ipykernel/ipkernel.py:287: DeprecationWarning: `should_run_async` will not call `transform_cell` automatically in the future. Please pass the result to `transformed_cell` argument and any exception that happen during thetransform in `preprocessing_exc_tuple` in IPython 7.17 and above.\n",
      "  and should_run_async(code)\n",
      "/home/anna/anaconda3/lib/python3.8/site-packages/pyLDAvis/_prepare.py:246: FutureWarning: In a future version of pandas all arguments of DataFrame.drop except for the argument 'labels' will be keyword-only\n",
      "  default_term_info = default_term_info.sort_values(\n"
     ]
    },
    {
     "data": {
      "text/html": [
       "\n",
       "<link rel=\"stylesheet\" type=\"text/css\" href=\"https://cdn.jsdelivr.net/gh/bmabey/pyLDAvis@3.3.1/pyLDAvis/js/ldavis.v1.0.0.css\">\n",
       "\n",
       "\n",
       "<div id=\"ldavis_el59591398223612440484505158067\"></div>\n",
       "<script type=\"text/javascript\">\n",
       "\n",
       "var ldavis_el59591398223612440484505158067_data = {\"mdsDat\": {\"x\": [-0.0038420762700637654, 0.0029601782735031324, 0.000881897996560634], \"y\": [-0.0011342677771111961, -0.0025782142331723587, 0.003712482010283554], \"topics\": [1, 2, 3], \"cluster\": [1, 1, 1], \"Freq\": [42.67094459211207, 32.2074020372294, 25.12165337065855]}, \"tinfo\": {\"Term\": [\"back\", \"get\", \"look\", \"see\", \"sam\", \"like\", \"close\", \"go\", \"face\", \"hear\", \"say\", \"rush\", \"postman\", \"jimmy\", \"david\", \"viktor\", \"open\", \"star\", \"cris\", \"begin\", \"try\", \"grab\", \"luke\", \"angier\", \"time\", \"anton\", \"ill\", \"arthur\", \"come\", \"walk\", \"shipcard\", \"aurora\", \"gus\", \"xanadu\", \"excelsior\", \"auroras\", \"vern\", \"guss\", \"jims\", \"mocha\", \"vienna\", \"bartop\", \"friendtell\", \"jim\", \"subdeck\", \"hibernation\", \"mdt\", \"infomat\", \"durant\", \"ejections\", \"westlake\", \"omega\", \"gennadys\", \"darkman\", \"paulys\", \"sr\", \"peytons\", \"sweeper\", \"gennady\", \"hastings\", \"eddie\", \"lenny\", \"colter\", \"willie\", \"reese\", \"concourse\", \"gregory\", \"cobb\", \"jake\", \"goodwin\", \"peyton\", \"spreg\", \"julie\", \"two\", \"max\", \"smith\", \"picard\", \"man\", \"continue\", \"across\", \"around\", \"black\", \"run\", \"next\", \"move\", \"take\", \"pull\", \"turn\", \"think\", \"feel\", \"day\", \"shoot\", \"come\", \"face\", \"go\", \"know\", \"eye\", \"head\", \"wall\", \"like\", \"open\", \"see\", \"right\", \"look\", \"hes\", \"get\", \"hold\", \"behind\", \"stand\", \"light\", \"back\", \"away\", \"night\", \"make\", \"time\", \"ackerman\", \"kylie\", \"borden\", \"brenda\", \"angier\", \"bordens\", \"starla\", \"kylies\", \"magician\", \"wheelsy\", \"gerty\", \"merrit\", \"pardy\", \"diseased\", \"tubule\", \"jaffe\", \"fallon\", \"layton\", \"magicians\", \"stagehands\", \"angiers\", \"olivia\", \"teslas\", \"shelby\", \"normans\", \"cutter\", \"buttles\", \"warders\", \"stagehand\", \"haggards\", \"norman\", \"beth\", \"edmunds\", \"barnes\", \"paul\", \"sam\", \"jill\", \"cooper\", \"ethan\", \"mulder\", \"vince\", \"reverend\", \"harry\", \"clive\", \"see\", \"ruth\", \"bill\", \"grant\", \"back\", \"look\", \"ray\", \"get\", \"go\", \"jack\", \"hear\", \"begin\", \"way\", \"well\", \"make\", \"night\", \"us\", \"day\", \"take\", \"try\", \"watch\", \"know\", \"give\", \"like\", \"away\", \"time\", \"turn\", \"come\", \"eye\", \"say\", \"move\", \"head\", \"around\", \"light\", \"open\", \"think\", \"man\", \"face\", \"pull\", \"continue\", \"right\", \"regina\", \"anton\", \"wass\", \"simones\", \"jimmy\", \"tilda\", \"wendi\", \"tildas\", \"duckies\", \"viktor\", \"gary\", \"balvenie\", \"dayviktor\", \"garys\", \"krod\", \"duckie\", \"sanitation\", \"holn\", \"antons\", \"cris\", \"benning\", \"mone\", \"milkshake\", \"blorp\", \"recreation\", \"valentinas\", \"postman\", \"sayer\", \"hepburn\", \"dayelaine\", \"abby\", \"valentina\", \"draft\", \"simone\", \"arlington\", \"theodore\", \"plissken\", \"hellboy\", \"sinclair\", \"elaine\", \"ferris\", \"beem\", \"luke\", \"arthur\", \"rush\", \"flynn\", \"malcolm\", \"samantha\", \"get\", \"close\", \"back\", \"david\", \"like\", \"ill\", \"face\", \"logan\", \"grab\", \"open\", \"star\", \"feet\", \"go\", \"walk\", \"come\", \"right\", \"look\", \"continue\", \"say\", \"know\", \"turn\", \"time\", \"man\", \"head\", \"eye\", \"night\", \"youre\", \"move\", \"take\", \"see\", \"think\", \"make\", \"try\", \"light\", \"around\", \"stand\", \"away\", \"two\", \"day\"], \"Freq\": [12485.0, 13847.0, 12923.0, 12020.0, 2658.0, 9521.0, 4457.0, 12845.0, 6179.0, 3602.0, 4093.0, 1655.0, 765.0, 600.0, 1834.0, 673.0, 6641.0, 4796.0, 750.0, 3243.0, 4190.0, 2724.0, 1328.0, 675.0, 5394.0, 448.0, 1870.0, 996.0, 8135.0, 3721.0, 11.141753388374351, 424.391392897057, 131.8861332748634, 4.402045845541034, 23.225545281765623, 35.1315863929288, 36.57414384628251, 11.346605557968148, 62.49769750807845, 2.8109199563937177, 7.670462792590108, 4.864640914140018, 1.3940805564537448, 1042.780077489274, 11.497464010402231, 66.53511099066147, 36.26839463897127, 14.709565028785079, 124.36873072905257, 3.3240611737374093, 17.21914898320628, 1.9798751335773621, 9.165809791490497, 94.1850453550018, 12.435780454412493, 22.80684644961294, 31.36826578391898, 5.212118430878963, 58.157301067973016, 7.132312645115914, 756.4631226848538, 563.1646251564187, 379.56096680320974, 163.8988081525731, 228.74219182377624, 68.57325841366108, 92.09753358571034, 97.7960951186231, 501.6921459799876, 143.53486130938882, 137.2473193710172, 46.93126068406843, 284.0794701505683, 2834.32219880755, 758.8585143762273, 465.6263498699871, 645.0109922816838, 3046.358944603159, 3034.0483503313753, 1609.0187119394302, 3075.8398486644774, 1218.355898329594, 2147.84098117912, 1128.2839687125809, 3212.4106778029804, 3579.9983521829, 2402.5959557812175, 3561.0193231118587, 2578.4300580528475, 949.3695419360871, 2840.5462140034924, 1755.3363737074728, 3635.420430950618, 2836.9583177840527, 5456.765853210074, 3629.758148432469, 3090.9661707986893, 2930.322399072346, 1868.6645499650022, 4055.317748350378, 2939.2638817270927, 4819.291316145056, 2388.4567332572583, 5006.215571378982, 2182.7026591948306, 5197.6139931395355, 1977.3140110779034, 1989.5494650410344, 2153.283194645146, 2274.3466482323365, 4098.026129709009, 2325.43092621876, 2451.771969632791, 2235.551985172261, 2212.5971560661706, 17.49709299434562, 64.56186831180452, 327.57768187584895, 35.39849606961409, 418.03086166260164, 27.042480046764577, 236.21900424103978, 27.21096824823869, 19.21018345243172, 10.694989049537844, 125.62457680621695, 16.16375109914052, 7.755579247531377, 39.79514287041277, 7.185655964226787, 8.864083590226176, 45.20487749627916, 8.254889902195066, 8.19803245581983, 3.267243329136344, 31.347621717285328, 93.86261186079201, 6.990553034601606, 23.424507972698848, 14.547650676296719, 233.41525715690764, 6.9476129822959285, 4.214125069177513, 13.139817586166936, 3.7574237314683696, 495.99828205406925, 246.85714973003775, 30.745764168540862, 208.3916286133042, 568.854058834236, 1358.7903293226077, 165.27026264368104, 513.5828595981837, 67.63628819742372, 327.30473179736407, 267.5939027883528, 56.51832397955147, 527.4543546701576, 258.8527744831301, 4943.530276887278, 162.02085598564258, 304.40952409664504, 613.8446905145074, 4908.2821088711935, 5060.308475805692, 466.66497495883067, 4721.196300095938, 4410.542997509398, 537.0492548243989, 1398.2866136704645, 1261.4958458778463, 1525.5190793214372, 1369.2292458953577, 1901.4818181506264, 2012.8659709124256, 1416.4334110151344, 2072.026133135895, 2525.999999916848, 1501.1323612244034, 1533.18915022604, 2596.734667377618, 1146.9813107892585, 2910.4416822822195, 1824.421107461937, 1819.4610668763212, 2433.6519842848193, 2508.5032414448997, 2198.3430829397785, 1451.9609519397286, 2130.1854649398674, 2027.798283212621, 1954.9866583394817, 1678.1841744845879, 1944.2475249570084, 1584.9883452892554, 1643.3359185266656, 1618.0378856789114, 1528.656328824982, 1584.9474653899767, 1533.3811080139578, 8.14278366005416, 238.485069468133, 3.405193033014941, 23.934234502918322, 313.8328111412086, 136.33054372370034, 34.480283553399424, 3.2605158434823136, 2.7585538563141325, 331.89903548769433, 58.77241233822074, 3.1077671720719047, 10.741582237450437, 3.1114100467382446, 106.03206662314614, 7.048932202080029, 20.7492095383416, 3.4892285071916977, 7.370608939864642, 350.20462665704275, 4.330261164820546, 3.4659558575225002, 47.31529360154018, 1.2857486626678738, 15.418086097617012, 3.4038711709324865, 349.73506186026486, 11.56445393777587, 3.8387522266898753, 2.543150645293061, 89.41990829065095, 112.94859255279044, 159.77089510603264, 150.07061526256413, 67.00150546908438, 251.71107105854145, 244.04588183048483, 160.28083749705803, 47.9513667432266, 186.39261651659152, 155.09872065188213, 34.887769571350766, 500.60910145034956, 378.3745129385725, 595.3019801117423, 219.94197045216907, 93.46233091005685, 145.29991506731957, 3929.108249645444, 1388.6367298054208, 3479.3988315736087, 604.1398682709722, 2556.1251080985485, 607.2195932589783, 1724.6016299180772, 667.8895201548017, 831.0478323258005, 1757.7595905834692, 1331.0808086799223, 730.8836714885985, 2978.3531857859207, 1052.3453430508662, 1991.9014928851088, 1392.3572029452941, 2856.7592509017945, 1554.470140304007, 1118.3400710958451, 1943.3389837621532, 1819.759914310746, 1362.1447428812562, 1487.249181113554, 1527.0054361815517, 1592.4596747597166, 1402.7353316953909, 1095.1484916958625, 1574.1258838659426, 1715.5453278038542, 2257.691489042666, 1321.474753725722, 1295.318138719755, 1090.6551885663653, 1250.3123867946438, 1426.306016217485, 1187.605904158061, 1262.3639722639557, 1184.776479293896, 1204.8572037307522], \"Total\": [12485.0, 13847.0, 12923.0, 12020.0, 2658.0, 9521.0, 4457.0, 12845.0, 6179.0, 3602.0, 4093.0, 1655.0, 765.0, 600.0, 1834.0, 673.0, 6641.0, 4796.0, 750.0, 3243.0, 4190.0, 2724.0, 1328.0, 675.0, 5394.0, 448.0, 1870.0, 996.0, 8135.0, 3721.0, 15.182938058436084, 581.9512207869672, 181.605201102231, 6.0820535505440825, 32.33821844141159, 49.25577153657116, 51.291236206278406, 16.091941198725053, 89.34807537686342, 4.036850472562349, 11.059919757084776, 7.042513630806721, 2.020648813226953, 1541.5941848442249, 17.026092871298566, 98.9393579297417, 54.03516288535543, 21.966583964309827, 186.05420430727872, 5.005223111240484, 26.02395640361498, 3.0096354711207804, 13.966328162511251, 143.72536334396221, 19.001486129785093, 34.892868945396295, 48.003033224681324, 7.978534179180714, 89.6179667126592, 10.992674152714438, 1168.9845531617184, 875.7984859413256, 590.1400586976627, 253.009194243505, 363.3953899354278, 106.63687393293334, 146.10813048786315, 155.5826011711299, 849.7019559148355, 233.30989876043202, 223.46518228165996, 73.56445797822484, 482.4096919780658, 5434.971081170747, 1370.5296772426577, 832.552720161658, 1178.3351103107511, 6176.944044243379, 6173.465956025359, 3140.5074457599594, 6457.132523221444, 2367.0340605186807, 4410.508370073543, 2199.3496988276056, 6916.722026608791, 7821.543679903602, 5069.913801808858, 7814.431221707424, 5484.893157067824, 1833.4794225044616, 6117.42955087014, 3605.598981830798, 8135.825165280627, 6179.597833381042, 12845.662036505393, 8169.83179957224, 6881.768928498184, 6485.126118466519, 3906.7845797220098, 9521.884538731145, 6641.270997267571, 12020.513082075002, 5314.195044216511, 12923.283298086468, 4774.547960788101, 13847.918542880918, 4256.970101642404, 4311.288952554328, 4808.153029007342, 5202.843209511568, 12485.70707015381, 5412.216005944652, 5867.373272240608, 5432.351942042642, 5394.202965823748, 27.053535852625036, 100.54053439917854, 526.9454179917724, 57.22279690363721, 675.8849564585103, 43.82705135510817, 387.0700169096278, 44.860182773423944, 31.766260318719688, 17.804459108520373, 209.3305724651322, 27.10643515361311, 13.022794125430032, 67.36586002400728, 12.166533134067963, 15.054623615948827, 76.92548462729407, 14.105660699790473, 14.091335877880761, 5.63689007168965, 54.11301495934343, 163.32850307694903, 12.181519581613584, 40.93566527939001, 25.605232465883237, 411.48929881694875, 12.287820925490294, 7.45738597073453, 23.296157815073965, 6.66582846630577, 883.0979968551875, 448.4023800936475, 55.10507520977341, 382.41103556557397, 1065.7817457333283, 2658.9208520215248, 313.7448290831143, 1026.7879407907155, 125.7927149024224, 659.0410869046159, 534.5048645985976, 104.36080411649648, 1098.570735991714, 519.2548679313778, 12020.513082075002, 316.9328878820812, 623.0341624849639, 1319.125299472829, 12485.70707015381, 12923.283298086468, 1038.5564963737852, 13847.918542880918, 12845.662036505393, 1223.972999164484, 3602.174733478378, 3243.530543299843, 4061.2119794506834, 3663.2350264735624, 5432.351942042642, 5867.373272240608, 3876.6287027133367, 6117.42955087014, 7821.543679903602, 4190.249476514367, 4300.806110284715, 8169.83179957224, 3047.382814830062, 9521.884538731145, 5412.216005944652, 5394.202965823748, 7814.431221707424, 8135.825165280627, 6881.768928498184, 4093.3283950827436, 6916.722026608791, 6485.126118466519, 6457.132523221444, 5202.843209511568, 6641.270997267571, 5484.893157067824, 6176.944044243379, 6179.597833381042, 5069.913801808858, 6173.465956025359, 5314.195044216511, 14.666213897883102, 448.9144194911055, 6.439742125135206, 45.43834074953663, 600.8710069106078, 269.15835124917544, 68.49069722977703, 6.498071217097172, 5.566351922188078, 673.7934362845494, 121.97324059842907, 6.468121208045581, 22.426657727700594, 6.497260114449483, 222.39188559370547, 14.799209075165109, 43.678553294688285, 7.411169943634249, 15.685276403132356, 750.1321505510953, 9.29788085278662, 7.484333796631139, 102.19154670904544, 2.7981743675526793, 33.57145801538197, 7.450628387411793, 765.8999112219352, 25.32940225177045, 8.408892232142762, 5.621826828665334, 197.83540675185805, 252.3358201409012, 362.98854455032773, 342.9534924350539, 153.1708443853169, 595.5810198515301, 583.4209441317838, 380.3888648052317, 109.90817905066977, 455.22972121570547, 382.1360099538098, 79.89735991043406, 1328.062929031807, 996.5758529988159, 1655.4440742006364, 569.9197624779009, 229.14879011197849, 371.2555532579901, 13847.918542880918, 4457.311442473101, 12485.70707015381, 1834.8555589260263, 9521.884538731145, 1870.3250692789902, 6179.597833381042, 2106.752707347197, 2724.898530773441, 6641.270997267571, 4796.013628351894, 2389.544288750125, 12845.662036505393, 3721.9145053372213, 8135.825165280627, 5314.195044216511, 12923.283298086468, 6173.465956025359, 4093.3283950827436, 8169.83179957224, 7814.431221707424, 5394.202965823748, 6176.944044243379, 6485.126118466519, 6881.768928498184, 5867.373272240608, 4176.530462686635, 6916.722026608791, 7821.543679903602, 12020.513082075002, 5484.893157067824, 5432.351942042642, 4190.249476514367, 5202.843209511568, 6457.132523221444, 4808.153029007342, 5412.216005944652, 5434.971081170747, 6117.42955087014], \"Category\": [\"Default\", \"Default\", \"Default\", \"Default\", \"Default\", \"Default\", \"Default\", \"Default\", \"Default\", \"Default\", \"Default\", \"Default\", \"Default\", \"Default\", \"Default\", \"Default\", \"Default\", \"Default\", \"Default\", \"Default\", \"Default\", \"Default\", \"Default\", \"Default\", \"Default\", \"Default\", \"Default\", \"Default\", \"Default\", \"Default\", \"Topic1\", \"Topic1\", \"Topic1\", \"Topic1\", \"Topic1\", \"Topic1\", \"Topic1\", \"Topic1\", \"Topic1\", \"Topic1\", \"Topic1\", \"Topic1\", \"Topic1\", \"Topic1\", \"Topic1\", \"Topic1\", \"Topic1\", \"Topic1\", \"Topic1\", \"Topic1\", \"Topic1\", \"Topic1\", \"Topic1\", \"Topic1\", \"Topic1\", \"Topic1\", \"Topic1\", \"Topic1\", \"Topic1\", \"Topic1\", \"Topic1\", \"Topic1\", \"Topic1\", \"Topic1\", \"Topic1\", \"Topic1\", \"Topic1\", \"Topic1\", \"Topic1\", \"Topic1\", \"Topic1\", \"Topic1\", \"Topic1\", \"Topic1\", \"Topic1\", \"Topic1\", \"Topic1\", \"Topic1\", \"Topic1\", \"Topic1\", \"Topic1\", \"Topic1\", \"Topic1\", \"Topic1\", \"Topic1\", \"Topic1\", \"Topic1\", \"Topic1\", \"Topic1\", \"Topic1\", \"Topic1\", \"Topic1\", \"Topic1\", \"Topic1\", \"Topic1\", \"Topic1\", \"Topic1\", \"Topic1\", \"Topic1\", \"Topic1\", \"Topic1\", \"Topic1\", \"Topic1\", \"Topic1\", \"Topic1\", \"Topic1\", \"Topic1\", \"Topic1\", \"Topic1\", \"Topic1\", \"Topic1\", \"Topic1\", \"Topic1\", \"Topic1\", \"Topic1\", \"Topic2\", \"Topic2\", \"Topic2\", \"Topic2\", \"Topic2\", \"Topic2\", \"Topic2\", \"Topic2\", \"Topic2\", \"Topic2\", \"Topic2\", \"Topic2\", \"Topic2\", \"Topic2\", \"Topic2\", \"Topic2\", \"Topic2\", \"Topic2\", \"Topic2\", \"Topic2\", \"Topic2\", \"Topic2\", \"Topic2\", \"Topic2\", \"Topic2\", \"Topic2\", \"Topic2\", \"Topic2\", \"Topic2\", \"Topic2\", \"Topic2\", \"Topic2\", \"Topic2\", \"Topic2\", \"Topic2\", \"Topic2\", \"Topic2\", \"Topic2\", \"Topic2\", \"Topic2\", \"Topic2\", \"Topic2\", \"Topic2\", \"Topic2\", \"Topic2\", \"Topic2\", \"Topic2\", \"Topic2\", \"Topic2\", \"Topic2\", \"Topic2\", \"Topic2\", \"Topic2\", \"Topic2\", \"Topic2\", \"Topic2\", \"Topic2\", \"Topic2\", \"Topic2\", \"Topic2\", \"Topic2\", \"Topic2\", \"Topic2\", \"Topic2\", \"Topic2\", \"Topic2\", \"Topic2\", \"Topic2\", \"Topic2\", \"Topic2\", \"Topic2\", \"Topic2\", \"Topic2\", \"Topic2\", \"Topic2\", \"Topic2\", \"Topic2\", \"Topic2\", \"Topic2\", \"Topic2\", \"Topic2\", \"Topic2\", \"Topic2\", \"Topic2\", \"Topic2\", \"Topic3\", \"Topic3\", \"Topic3\", \"Topic3\", \"Topic3\", \"Topic3\", \"Topic3\", \"Topic3\", \"Topic3\", \"Topic3\", \"Topic3\", \"Topic3\", \"Topic3\", \"Topic3\", \"Topic3\", \"Topic3\", \"Topic3\", \"Topic3\", \"Topic3\", \"Topic3\", \"Topic3\", \"Topic3\", \"Topic3\", \"Topic3\", \"Topic3\", \"Topic3\", \"Topic3\", \"Topic3\", \"Topic3\", \"Topic3\", \"Topic3\", \"Topic3\", \"Topic3\", \"Topic3\", \"Topic3\", \"Topic3\", \"Topic3\", \"Topic3\", \"Topic3\", \"Topic3\", \"Topic3\", \"Topic3\", \"Topic3\", \"Topic3\", \"Topic3\", \"Topic3\", \"Topic3\", \"Topic3\", \"Topic3\", \"Topic3\", \"Topic3\", \"Topic3\", \"Topic3\", \"Topic3\", \"Topic3\", \"Topic3\", \"Topic3\", \"Topic3\", \"Topic3\", \"Topic3\", \"Topic3\", \"Topic3\", \"Topic3\", \"Topic3\", \"Topic3\", \"Topic3\", \"Topic3\", \"Topic3\", \"Topic3\", \"Topic3\", \"Topic3\", \"Topic3\", \"Topic3\", \"Topic3\", \"Topic3\", \"Topic3\", \"Topic3\", \"Topic3\", \"Topic3\", \"Topic3\", \"Topic3\", \"Topic3\", \"Topic3\", \"Topic3\", \"Topic3\", \"Topic3\", \"Topic3\"], \"logprob\": [30.0, 29.0, 28.0, 27.0, 26.0, 25.0, 24.0, 23.0, 22.0, 21.0, 20.0, 19.0, 18.0, 17.0, 16.0, 15.0, 14.0, 13.0, 12.0, 11.0, 10.0, 9.0, 8.0, 7.0, 6.0, 5.0, 4.0, 3.0, 2.0, 1.0, -11.3208, -7.6809, -8.8496, -12.2495, -10.5863, -10.1724, -10.1322, -11.3026, -9.5964, -12.698, -11.6941, -12.1495, -13.3993, -6.7819, -11.2894, -9.5338, -10.1406, -11.043, -8.9083, -12.5303, -10.8855, -13.0485, -11.516, -9.1863, -11.2109, -10.6045, -10.2857, -12.0805, -9.6684, -11.7669, -7.1029, -7.398, -7.7925, -8.6323, -8.2989, -9.5036, -9.2087, -9.1486, -7.5135, -8.7649, -8.8097, -9.8828, -8.0823, -5.782, -7.0997, -7.5881, -7.2623, -5.7098, -5.7139, -6.3481, -5.7002, -6.6263, -6.0593, -6.7031, -5.6567, -5.5484, -5.9472, -5.5537, -5.8766, -6.8757, -5.7798, -6.2611, -5.533, -5.781, -5.1269, -5.5346, -5.6953, -5.7487, -6.1985, -5.4237, -5.7456, -5.2511, -5.9531, -5.2131, -6.0432, -5.1756, -6.142, -6.1359, -6.0568, -6.0021, -5.4133, -5.9799, -5.927, -6.0193, -6.0296, -10.5882, -9.2826, -7.6585, -9.8835, -7.4146, -10.1528, -7.9854, -10.1466, -10.4948, -11.0804, -8.6169, -10.6674, -11.4018, -9.7665, -11.4781, -11.2682, -9.639, -11.3394, -11.3463, -12.2663, -10.0051, -8.9084, -11.5056, -10.2964, -10.7728, -7.9974, -11.5118, -12.0118, -10.8746, -12.1265, -7.2436, -7.9414, -10.0245, -8.1108, -7.1066, -6.2359, -8.3426, -7.2088, -9.2361, -7.6593, -7.8607, -9.4156, -7.1821, -7.8939, -4.9444, -8.3625, -7.7318, -7.0305, -4.9515, -4.921, -7.3046, -4.9904, -5.0585, -7.1641, -6.2072, -6.3102, -6.1201, -6.2282, -5.8998, -5.8429, -6.1943, -5.8139, -5.6158, -6.1362, -6.1151, -5.5882, -6.4053, -5.4741, -5.9412, -5.9439, -5.6531, -5.6228, -5.7547, -6.1695, -5.7862, -5.8355, -5.8721, -6.0247, -5.8776, -6.0819, -6.0457, -6.0612, -6.1181, -6.0819, -6.115, -11.1046, -7.7274, -11.9764, -10.0264, -7.4529, -8.2867, -9.6613, -12.0199, -12.187, -7.3969, -9.1281, -12.0678, -10.8276, -12.0667, -8.538, -11.2489, -10.1692, -11.9521, -11.2042, -7.3432, -11.7361, -11.9587, -9.3449, -12.9504, -10.4662, -11.9768, -7.3446, -10.7538, -11.8566, -12.2683, -8.7084, -8.4748, -8.128, -8.1906, -8.997, -7.6735, -7.7044, -8.1248, -9.3316, -7.9739, -8.1577, -9.6496, -6.9859, -7.2659, -6.8127, -7.8084, -8.6642, -8.2229, -4.9256, -5.9657, -5.0471, -6.7979, -5.3555, -6.7928, -5.749, -6.6976, -6.479, -5.7299, -6.008, -6.6075, -5.2026, -6.243, -5.6049, -5.963, -5.2443, -5.8528, -6.1821, -5.6296, -5.6953, -5.9849, -5.8971, -5.8707, -5.8287, -5.9556, -6.2031, -5.8403, -5.7543, -5.4796, -6.0152, -6.0352, -6.2072, -6.0706, -5.9389, -6.122, -6.061, -6.1244, -6.1076], \"loglift\": [30.0, 29.0, 28.0, 27.0, 26.0, 25.0, 24.0, 23.0, 22.0, 21.0, 20.0, 19.0, 18.0, 17.0, 16.0, 15.0, 14.0, 13.0, 12.0, 11.0, 10.0, 9.0, 8.0, 7.0, 6.0, 5.0, 4.0, 3.0, 2.0, 1.0, 0.5422, 0.5359, 0.5318, 0.5284, 0.5207, 0.5137, 0.5135, 0.5023, 0.4942, 0.4897, 0.4857, 0.4817, 0.4805, 0.4607, 0.459, 0.4549, 0.453, 0.4506, 0.4489, 0.4424, 0.4387, 0.4329, 0.4305, 0.429, 0.4277, 0.4264, 0.4262, 0.4259, 0.4192, 0.4191, 0.4164, 0.4101, 0.4103, 0.4175, 0.3888, 0.4101, 0.3902, 0.3874, 0.3248, 0.3659, 0.3642, 0.4022, 0.3221, 0.2006, 0.2605, 0.2705, 0.2491, 0.1448, 0.1413, 0.1829, 0.11, 0.1875, 0.1321, 0.1842, 0.0847, 0.0701, 0.1049, 0.0657, 0.0968, 0.1935, 0.0845, 0.1318, 0.0461, 0.0731, -0.0045, 0.0404, 0.0513, 0.0573, 0.1142, -0.0019, 0.0365, -0.0623, 0.0519, -0.0967, 0.0689, -0.1283, 0.0848, 0.0783, 0.0483, 0.0241, -0.2624, 0.0069, -0.0209, -0.0362, -0.0395, 0.6972, 0.69, 0.6576, 0.6527, 0.6525, 0.6501, 0.6391, 0.633, 0.63, 0.6233, 0.6224, 0.616, 0.6147, 0.6066, 0.6064, 0.6033, 0.6013, 0.5972, 0.5913, 0.5876, 0.587, 0.579, 0.5776, 0.5748, 0.5676, 0.566, 0.5628, 0.5622, 0.5603, 0.5597, 0.5561, 0.5361, 0.5495, 0.5259, 0.5051, 0.4616, 0.492, 0.4402, 0.5125, 0.4331, 0.4411, 0.5197, 0.3993, 0.4368, 0.2444, 0.462, 0.4167, 0.368, 0.1993, 0.1954, 0.333, 0.0569, 0.064, 0.3092, 0.1867, 0.1886, 0.1538, 0.1489, 0.0832, 0.0631, 0.1261, 0.0504, 0.0027, 0.1064, 0.1015, -0.0132, 0.1558, -0.0523, 0.0456, 0.0462, -0.0336, -0.0436, -0.0082, 0.0965, -0.0448, -0.0296, -0.0618, 0.0015, -0.0955, -0.1084, -0.1911, -0.2071, -0.066, -0.2267, -0.1099, 0.793, 0.7489, 0.7443, 0.7404, 0.7319, 0.7012, 0.6951, 0.6918, 0.6794, 0.6733, 0.6513, 0.6485, 0.6453, 0.6451, 0.6407, 0.6397, 0.6371, 0.6281, 0.6262, 0.6197, 0.6173, 0.6116, 0.6114, 0.6038, 0.6033, 0.5981, 0.5976, 0.5974, 0.5973, 0.5882, 0.5873, 0.5776, 0.5608, 0.555, 0.5546, 0.5202, 0.5099, 0.5172, 0.552, 0.4885, 0.4797, 0.5528, 0.4058, 0.413, 0.3587, 0.4293, 0.4846, 0.4433, 0.1217, 0.2152, 0.1037, 0.2705, 0.0663, 0.2565, 0.1052, 0.2327, 0.1939, 0.0522, 0.0996, 0.1968, -0.0802, 0.1182, -0.0257, 0.0421, -0.1279, 0.0023, 0.0839, -0.0546, -0.0758, 0.0052, -0.0425, -0.0648, -0.0822, -0.0495, 0.0428, -0.0988, -0.1357, -0.2908, -0.0418, -0.0522, 0.0355, -0.0444, -0.1287, -0.0169, -0.0742, -0.1419, -0.2433]}, \"token.table\": {\"Topic\": [1, 2, 3, 1, 2, 3, 1, 2, 3, 1, 2, 3, 1, 2, 3, 1, 2, 3, 1, 2, 3, 1, 2, 3, 1, 2, 3, 1, 2, 3, 1, 2, 3, 1, 2, 3, 1, 2, 3, 1, 2, 3, 1, 2, 3, 1, 2, 3, 1, 2, 3, 1, 2, 3, 1, 2, 3, 1, 2, 3, 1, 2, 3, 1, 2, 3, 1, 2, 3, 1, 2, 3, 1, 2, 3, 1, 2, 3, 1, 2, 3, 1, 2, 3, 1, 2, 3, 1, 2, 3, 1, 2, 3, 1, 2, 3, 1, 2, 3, 1, 2, 3, 1, 2, 3, 1, 2, 3, 1, 2, 3, 1, 2, 3, 1, 2, 3, 1, 2, 3, 1, 2, 3, 1, 2, 3, 1, 2, 3, 1, 2, 3, 1, 2, 3, 1, 2, 3, 1, 2, 3, 1, 2, 3, 1, 2, 3, 1, 2, 3, 1, 2, 3, 1, 2, 3, 1, 2, 3, 1, 2, 3, 1, 2, 3, 1, 2, 3, 1, 2, 3, 1, 2, 3, 1, 2, 3, 1, 2, 3, 1, 2, 3, 1, 2, 3, 1, 1, 2, 3, 1, 2, 3, 1, 2, 3, 1, 2, 3, 1, 2, 3, 1, 2, 3, 1, 2, 3, 1, 2, 3, 1, 2, 3, 1, 2, 3, 1, 2, 3, 1, 2, 3, 1, 2, 3, 1, 2, 3, 1, 2, 3, 1, 2, 3, 1, 2, 3, 1, 2, 3, 1, 2, 3, 1, 2, 3, 1, 2, 3, 1, 2, 3, 1, 2, 3, 1, 2, 3, 1, 2, 3, 1, 2, 3, 1, 2, 3, 1, 2, 3, 1, 2, 3, 1, 2, 3, 1, 2, 3, 1, 2, 3, 1, 2, 3, 1, 2, 3, 1, 2, 3, 1, 2, 3, 1, 2, 3, 1, 2, 3, 1, 2, 3, 1, 2, 3, 1, 2, 3, 1, 2, 3, 1, 2, 3, 1, 2, 3, 1, 2, 3, 1, 2, 3, 1, 2, 3, 1, 2, 3, 1, 2, 3, 1, 2, 3, 1, 2, 3, 1, 2, 3, 1, 2, 3, 1, 2, 3, 1, 2, 3, 1, 2, 3, 1, 2, 3, 1, 2, 3, 1, 2, 3, 1, 2, 3, 1, 2, 3, 1, 2, 3, 1, 2, 3, 1, 2, 3, 1, 2, 1, 2, 3, 1, 2, 3, 1, 2, 3, 1, 2, 3, 1, 2, 3, 1, 2, 3, 1, 2, 3, 1, 2, 3, 1, 2, 3, 1, 2, 3, 1, 2, 3, 1, 2, 3, 1, 2, 3, 1, 2, 3, 1, 2, 3, 1, 2, 3, 1, 2, 3, 1, 2, 3, 1, 2, 3, 1, 2, 3, 1, 2, 3, 1, 2, 3, 1, 2, 3, 1, 2, 3, 1, 2, 3, 1, 2, 3, 1, 2, 3, 1, 2, 3, 1, 2, 3, 1, 2, 3, 1, 2, 3, 1, 2, 3, 1, 2, 3, 1, 2, 3, 1, 2, 3, 1, 2, 3, 1, 2, 3, 1, 2, 3, 1, 2, 3, 1, 2, 3, 1, 2, 3, 1, 2, 3, 1, 2, 3, 1, 2, 3, 1, 2, 3, 1, 2, 3, 1, 2, 3, 1, 2, 3, 1, 2, 3, 1, 2, 3, 1, 2, 3, 1, 2, 3, 1, 2, 3, 1, 2, 3, 1, 2, 3, 1, 2, 3, 1, 2, 3, 1, 2, 3, 1, 2, 3, 1, 2, 3, 1, 2, 3, 1, 2, 3, 1, 2, 3, 1, 2, 3, 1, 2, 3, 1, 2, 3, 1, 2, 3, 1, 2, 3, 1, 2, 3, 1, 2, 3, 1, 2, 3, 1, 2, 3], \"Freq\": [0.22746181150699085, 0.3184465361097872, 0.4498689160916041, 0.1848187248882236, 0.6283836646199602, 0.1848187248882236, 0.5123375848614313, 0.2763884547294732, 0.21143079947047258, 0.17310638279782772, 0.6184484445255726, 0.20861538439738211, 0.2032782687910588, 0.5728751211384384, 0.2032782687910588, 0.2093940312867639, 0.25840114499217676, 0.530167866449466, 0.19126216987804556, 0.31877028313007594, 0.4462783963821063, 0.37866214182442626, 0.18933107091221313, 0.437420060383389, 0.4763724437957474, 0.30276597126810345, 0.22084106139555781, 0.45957364772769, 0.16054974593107074, 0.3792987747621546, 0.7285834015892755, 0.12372170970383922, 0.14777870881291907, 0.7105766270255941, 0.12181313606153042, 0.16241751474870722, 0.4295837411970021, 0.3370153737390675, 0.2331762070497276, 0.32821529265218596, 0.3930894720197483, 0.2786386049626537, 0.15460440023234534, 0.3092088004646907, 0.463813200697036, 0.3059535136766141, 0.543917357647314, 0.14905427589373507, 0.7099737767106387, 0.14199475534212772, 0.14199475534212772, 0.2628372204481007, 0.3003853947978294, 0.4380620340801678, 0.35393531359568114, 0.38877389411511665, 0.25712722259477183, 0.4615788971465195, 0.3038534448552465, 0.23473258488054158, 0.21510277789810464, 0.322654166847157, 0.4302055557962093, 0.28545789603807986, 0.5508445337609823, 0.16280020633421743, 0.25520269926424344, 0.487934720605849, 0.25520269926424344, 0.5145680074130845, 0.2695356229306633, 0.21588198012158144, 0.35737587035171553, 0.35737587035171553, 0.35737587035171553, 0.1840797864220437, 0.6224553602724776, 0.1954661649636134, 0.1825356658192698, 0.6160578721400356, 0.20535262404667853, 0.20970663178536897, 0.6116443427073261, 0.17475552648780748, 0.24414418294269677, 0.5696697601996258, 0.16276278862846452, 0.3813156355929757, 0.4987916647403066, 0.12132770223412864, 0.3957542619057509, 0.2925530371457478, 0.31162282867748753, 0.6298904842978355, 0.16711380195656858, 0.199251071563601, 0.6439149391732438, 0.23384279369975697, 0.12369944884117579, 0.4467893454141869, 0.30838912452385003, 0.24484301955022292, 0.647055727115518, 0.17817476543760638, 0.17817476543760638, 0.49145812443312953, 0.25674394437261383, 0.2517224539779444, 0.35255575724937777, 0.5005902188568513, 0.14706055067584542, 0.2892823615686621, 0.24395701459477032, 0.46658445414300337, 0.26489145723444124, 0.5662358672993102, 0.1676835830199674, 0.6540251338592206, 0.19481599731976781, 0.15306971217981757, 0.3144661699353209, 0.3564313260618715, 0.3291812246809945, 0.46441074251454156, 0.3387043500493242, 0.19697815724393614, 0.35575624453640736, 0.17787812226820368, 0.5336343668046111, 0.31212854295956255, 0.2229489592568304, 0.49048771036502686, 0.20782040034834853, 0.593772572423853, 0.1929760860377522, 0.3664027474055997, 0.19559845914133517, 0.4407852600368117, 0.20271353588985835, 0.2702847145198112, 0.47299825040966953, 0.17965087618946485, 0.17965087618946485, 0.5389526285683945, 0.6664724425963909, 0.19349199946346832, 0.134369444071853, 0.6467151323388054, 0.16510055627167916, 0.1873420819870349, 0.30850152976444695, 0.5625616130998738, 0.12703004166771345, 0.5993738807092829, 0.19979129356976097, 0.19979129356976097, 0.30314365158642675, 0.28776679969436164, 0.40858492170344474, 0.2543867506542207, 0.5405718451402189, 0.2146388208644987, 0.7112327490047108, 0.1546158150010241, 0.12369265200081926, 0.4491577720954592, 0.31939462409117414, 0.23133586967841185, 0.4590913642753663, 0.26182933641083633, 0.27914437905358014, 0.220993082882291, 0.584981689982535, 0.194993896660845, 0.5175951190680411, 0.24379875471381915, 0.2388900549544805, 0.3979838350254768, 0.2962908046246452, 0.30591607087657574, 0.34280988074333657, 0.25121945459053674, 0.4056147443909707, 0.34039879430838743, 0.27372274181499195, 0.3860192512775527, 0.4948905487455841, 0.22955854794564357, 0.2869481849320545, 0.483712654599749, 0.30782206111036414, 0.30782206111036414, 0.46173309166554616, 0.6471916528296672, 0.17853562836680473, 0.17853562836680473, 0.644407026333379, 0.14320156140741755, 0.14320156140741755, 0.15764539126503724, 0.601918766648324, 0.23885665343187462, 0.375363270942422, 0.34091766104639754, 0.2837249502756399, 0.3767167007746017, 0.37638855033838686, 0.246769128033537, 0.4248126709617649, 0.3433844038138803, 0.23182923476711303, 0.6172048454226219, 0.24859639607300046, 0.13287048755625888, 0.37285792058892425, 0.3218468468075655, 0.30496548426121656, 0.32294127037836756, 0.465459953080558, 0.2122618678543261, 0.6296706397707431, 0.21901587470286715, 0.15057341385822118, 0.72685142935798, 0.1431677057826324, 0.1266483551154056, 0.6835719733347968, 0.12428581333359942, 0.12428581333359942, 0.30003772375925064, 0.6000754475185013, 0.15001886187962532, 0.3577375467272271, 0.4797142166036862, 0.1620287107314158, 0.636787728149977, 0.18193935089999344, 0.18193935089999344, 0.45180308701426325, 0.3127155837764252, 0.2354618818671604, 0.3506215254528771, 0.3880988856556787, 0.2612310811173059, 0.40747775327062674, 0.17350665623136363, 0.4206221969245179, 0.23784345723388564, 0.23784345723388564, 0.4756869144677713, 0.4572160585522043, 0.3085108814692611, 0.23415829292778947, 0.6771824822996899, 0.15160801842530372, 0.18192962211036445, 0.46441481917790384, 0.29645498320815106, 0.23913722100308857, 0.26986292518064303, 0.26986292518064303, 0.4047943877709646, 0.3576918317508834, 0.317591850612892, 0.3245425140101439, 0.6828553781676399, 0.18209476751137063, 0.18209476751137063, 0.37991034141882307, 0.4387351684772215, 0.18137655009672846, 0.2656991036137503, 0.5978229831309382, 0.19927432771031275, 0.5907953918495097, 0.2294922338857657, 0.18006313735652385, 0.27410810323575946, 0.5259050817895384, 0.20080012213782378, 0.6765723497493559, 0.16930525722395193, 0.15373695770910578, 0.2146883416180396, 0.2629516122143431, 0.5225747230082515, 0.6939153388418127, 0.13430619461454438, 0.15669056038363513, 0.5887112235152044, 0.2715534164806049, 0.13888609850534753, 0.4443175929509419, 0.31787680134809815, 0.23782619369247388, 0.2383180477044352, 0.28328371708263056, 0.4766360954088704, 0.1690860318337327, 0.6465054158348603, 0.188978506167113, 0.20062334666482406, 0.6018700399944722, 0.20062334666482406, 0.2126805729875923, 0.5671481946335795, 0.2126805729875923, 0.642841942567275, 0.16099593943514348, 0.19525039463411017, 0.4370687157827073, 0.32251596529612264, 0.2402532518594477, 0.4258610765028617, 0.3056117713004507, 0.26843425685359174, 0.42719774222256557, 0.2553693170174892, 0.3170756575607487, 0.38736286162984845, 0.39154136632981085, 0.2210738505146778, 0.3298036489274748, 0.2936607832915872, 0.37724116007457736, 0.188879645882151, 0.5981188786268116, 0.188879645882151, 0.21289677756593076, 0.5677247401758153, 0.21289677756593076, 0.41160808869817667, 0.34994050832523876, 0.23838661666553612, 0.31857030519047025, 0.27493053735615924, 0.40584984085909226, 0.49312410444105104, 0.2659891344703371, 0.24073392754558204, 0.5538004850263567, 0.27945399969050677, 0.16635903898024945, 0.6662328394638132, 0.1665582098659533, 0.1665582098659533, 0.18445804369570645, 0.5902657398262606, 0.18445804369570645, 0.2054964493275567, 0.33270853700652037, 0.45992062468548406, 0.7431536095751848, 0.24771786985839495, 0.24771786985839495, 0.2672248531860302, 0.2672248531860302, 0.40083727977904526, 0.4643818253275701, 0.3079493424494783, 0.2275644436692389, 0.3277489132195214, 0.4961754380684421, 0.17449594916780073, 0.5128788753336027, 0.23279608525780546, 0.25416603839670554, 0.4179042113445836, 0.3430836775842768, 0.23911892680116265, 0.293285683947114, 0.5616590704160948, 0.14494427623641157, 0.2733816226557168, 0.5858177628336788, 0.15621807008898103, 0.2081694215000646, 0.5755272241472374, 0.22041468158830368, 0.6645323060520699, 0.33226615302603496, 0.44253577383142434, 0.29271505421173494, 0.26470836692604427, 0.15357687303790937, 0.6143074921516375, 0.23036530955686405, 0.3096318747446159, 0.5338804143323832, 0.156692494188942, 0.6315295507960208, 0.21050985026534028, 0.1578823876990052, 0.6130708981201486, 0.19689868260793095, 0.19242371254865978, 0.6457925242953394, 0.20832016912752885, 0.1458241183892702, 0.5473824842831851, 0.27326691463439634, 0.1790662080368249, 0.3788002508701166, 0.2039693658531397, 0.41822290141316043, 0.2075989273145724, 0.33555298314367993, 0.4569787708182412, 0.47397255534061566, 0.3015830366690809, 0.2246586519071832, 0.2724936014440431, 0.44966258612850923, 0.2782708509446235, 0.29787207917565395, 0.26808487125808855, 0.44680811876348087, 0.630167598000325, 0.14034300217474488, 0.22840135648046714, 0.204551769181071, 0.272735692241428, 0.545471384482856, 0.2970463888472452, 0.5461820698159024, 0.16289640678719897, 0.44936250554049256, 0.2884726637326529, 0.2619399529783776, 0.4870186880439325, 0.28069326620036705, 0.2321727823822099, 0.31411511153047694, 0.3261964619739568, 0.35942017569352647, 0.33761090783298786, 0.5111492249434022, 0.1514516222054525, 0.24972537241760093, 0.5111096101137343, 0.23919478442408762, 0.37171161155427107, 0.23703349142591199, 0.39056654837224136, 0.2747343740768839, 0.25183984290381023, 0.4807851546345468, 0.37206885277749957, 0.3547235549789425, 0.27312736533502596, 0.31583848369105605, 0.19739905230691004, 0.4737577255365841, 0.40089802881926034, 0.41129691937796703, 0.18784555905247766, 0.19542860596986028, 0.5618572421633483, 0.24428575746232534, 0.7244974561355124, 0.13172681020645682, 0.13172681020645682, 0.486742981913333, 0.30563576414159144, 0.2074551284736029, 0.3528175180280869, 0.20994100246299388, 0.4373770884645706, 0.264094150491672, 0.19807061286875402, 0.528188300983344, 0.27295511816431267, 0.29115212604193347, 0.43672818906290023, 0.5597243138062369, 0.24743177820619056, 0.19338114704464407, 0.6388954842012436, 0.1767157722258759, 0.19030929316632791, 0.6591604730465874, 0.20061405701417875, 0.1432957550101277, 0.21462766691787732, 0.5580319339864811, 0.2575532003014528, 0.17740278545120738, 0.5322083563536222, 0.17740278545120738, 0.44778108912321646, 0.3051067616088056, 0.24708032228443155, 0.41868104546859486, 0.30379396576082807, 0.2775221471706672, 0.19117988159046004, 0.6097088115587644, 0.1989304173306138, 0.6460671912898499, 0.17620014307904996, 0.17620014307904996, 0.6266815291770088, 0.12533630583540176, 0.12533630583540176, 0.45771015882687266, 0.32295415117225706, 0.21939403143768535, 0.2462746933911356, 0.5746409512459831, 0.16418312892742376, 0.3324484719969058, 0.2451387722805467, 0.42311623708697105, 0.4700182713090762, 0.2889755469452621, 0.2408433422805623, 0.20434067806086137, 0.28979223434085793, 0.5052787675686754, 0.3077836381259981, 0.3077836381259981, 0.46167545718899716, 0.4102552340023144, 0.33721385930872566, 0.25249328003215193, 0.38136154158756347, 0.35821256190421324, 0.2603663591189185, 0.24657804872939426, 0.5753487803685866, 0.16438536581959617, 0.45569535375882864, 0.311475004506877, 0.2329024273634002, 0.521437917088149, 0.26053496492477735, 0.2180324388671336, 0.4003478586725939, 0.36526582981984085, 0.23422413381102788, 0.21003756014665478, 0.3447786364671503, 0.44781593012399984, 0.268433734177254, 0.268433734177254, 0.402650601265881, 0.7213707981456478, 0.13647555640593337, 0.13647555640593337, 0.7233325535545003, 0.18083313838862508, 0.18083313838862508, 0.28050139675178354, 0.22707255927525336, 0.4927326122835563, 0.2993424580338605, 0.5013986172067164, 0.20018526881014423, 0.4288115693445773, 0.2882924899164984, 0.2826502324251224, 0.4783985300087854, 0.28924041675223516, 0.23241619328409693, 0.1340952451602157, 0.5363809806408628, 0.2681904903204314, 0.15528572116216602, 0.31057144232433204, 0.465857163486498, 0.40945812362683354, 0.35644480608741386, 0.23390963791515876, 0.39003135222068624, 0.3757499011924036, 0.2341665504809802, 0.4168446711621385, 0.3737133954295794, 0.2093777752333728, 0.24820889095299029, 0.24820889095299029, 0.49641778190598057, 0.6532442544992326, 0.1921306630880096, 0.11527839785280576, 0.22466282045523017, 0.617822756251883, 0.16849711534142264, 0.6481977877932792, 0.16995429801896955, 0.18181157462494416, 0.6576726046159478, 0.16441815115398695, 0.16441815115398695, 0.42283900854490264, 0.31485464113054756, 0.26217933995281334], \"Term\": [\"abby\", \"abby\", \"abby\", \"ackerman\", \"ackerman\", \"ackerman\", \"across\", \"across\", \"across\", \"angier\", \"angier\", \"angier\", \"angiers\", \"angiers\", \"angiers\", \"anton\", \"anton\", \"anton\", \"antons\", \"antons\", \"antons\", \"arlington\", \"arlington\", \"arlington\", \"around\", \"around\", \"around\", \"arthur\", \"arthur\", \"arthur\", \"aurora\", \"aurora\", \"aurora\", \"auroras\", \"auroras\", \"auroras\", \"away\", \"away\", \"away\", \"back\", \"back\", \"back\", \"balvenie\", \"balvenie\", \"balvenie\", \"barnes\", \"barnes\", \"barnes\", \"bartop\", \"bartop\", \"bartop\", \"beem\", \"beem\", \"beem\", \"begin\", \"begin\", \"begin\", \"behind\", \"behind\", \"behind\", \"benning\", \"benning\", \"benning\", \"beth\", \"beth\", \"beth\", \"bill\", \"bill\", \"bill\", \"black\", \"black\", \"black\", \"blorp\", \"blorp\", \"blorp\", \"borden\", \"borden\", \"borden\", \"bordens\", \"bordens\", \"bordens\", \"brenda\", \"brenda\", \"brenda\", \"buttles\", \"buttles\", \"buttles\", \"clive\", \"clive\", \"clive\", \"close\", \"close\", \"close\", \"cobb\", \"cobb\", \"cobb\", \"colter\", \"colter\", \"colter\", \"come\", \"come\", \"come\", \"concourse\", \"concourse\", \"concourse\", \"continue\", \"continue\", \"continue\", \"cooper\", \"cooper\", \"cooper\", \"cris\", \"cris\", \"cris\", \"cutter\", \"cutter\", \"cutter\", \"darkman\", \"darkman\", \"darkman\", \"david\", \"david\", \"david\", \"day\", \"day\", \"day\", \"dayelaine\", \"dayelaine\", \"dayelaine\", \"dayviktor\", \"dayviktor\", \"dayviktor\", \"diseased\", \"diseased\", \"diseased\", \"draft\", \"draft\", \"draft\", \"duckie\", \"duckie\", \"duckie\", \"duckies\", \"duckies\", \"duckies\", \"durant\", \"durant\", \"durant\", \"eddie\", \"eddie\", \"eddie\", \"edmunds\", \"edmunds\", \"edmunds\", \"ejections\", \"ejections\", \"ejections\", \"elaine\", \"elaine\", \"elaine\", \"ethan\", \"ethan\", \"ethan\", \"excelsior\", \"excelsior\", \"excelsior\", \"eye\", \"eye\", \"eye\", \"face\", \"face\", \"face\", \"fallon\", \"fallon\", \"fallon\", \"feel\", \"feel\", \"feel\", \"feet\", \"feet\", \"feet\", \"ferris\", \"ferris\", \"ferris\", \"flynn\", \"flynn\", \"flynn\", \"friendtell\", \"gary\", \"gary\", \"gary\", \"garys\", \"garys\", \"garys\", \"gennady\", \"gennady\", \"gennady\", \"gennadys\", \"gennadys\", \"gennadys\", \"gerty\", \"gerty\", \"gerty\", \"get\", \"get\", \"get\", \"give\", \"give\", \"give\", \"go\", \"go\", \"go\", \"goodwin\", \"goodwin\", \"goodwin\", \"grab\", \"grab\", \"grab\", \"grant\", \"grant\", \"grant\", \"gregory\", \"gregory\", \"gregory\", \"gus\", \"gus\", \"gus\", \"guss\", \"guss\", \"guss\", \"haggards\", \"haggards\", \"haggards\", \"harry\", \"harry\", \"harry\", \"hastings\", \"hastings\", \"hastings\", \"head\", \"head\", \"head\", \"hear\", \"hear\", \"hear\", \"hellboy\", \"hellboy\", \"hellboy\", \"hepburn\", \"hepburn\", \"hepburn\", \"hes\", \"hes\", \"hes\", \"hibernation\", \"hibernation\", \"hibernation\", \"hold\", \"hold\", \"hold\", \"holn\", \"holn\", \"holn\", \"ill\", \"ill\", \"ill\", \"infomat\", \"infomat\", \"infomat\", \"jack\", \"jack\", \"jack\", \"jaffe\", \"jaffe\", \"jaffe\", \"jake\", \"jake\", \"jake\", \"jill\", \"jill\", \"jill\", \"jim\", \"jim\", \"jim\", \"jimmy\", \"jimmy\", \"jimmy\", \"jims\", \"jims\", \"jims\", \"julie\", \"julie\", \"julie\", \"know\", \"know\", \"know\", \"krod\", \"krod\", \"krod\", \"kylie\", \"kylie\", \"kylie\", \"kylies\", \"kylies\", \"kylies\", \"layton\", \"layton\", \"layton\", \"lenny\", \"lenny\", \"lenny\", \"light\", \"light\", \"light\", \"like\", \"like\", \"like\", \"logan\", \"logan\", \"logan\", \"look\", \"look\", \"look\", \"luke\", \"luke\", \"luke\", \"magician\", \"magician\", \"magician\", \"magicians\", \"magicians\", \"magicians\", \"make\", \"make\", \"make\", \"malcolm\", \"malcolm\", \"malcolm\", \"man\", \"man\", \"man\", \"max\", \"max\", \"max\", \"mdt\", \"mdt\", \"mdt\", \"merrit\", \"merrit\", \"merrit\", \"milkshake\", \"milkshake\", \"milkshake\", \"mocha\", \"mocha\", \"mocha\", \"mone\", \"mone\", \"mone\", \"move\", \"move\", \"move\", \"mulder\", \"mulder\", \"mulder\", \"next\", \"next\", \"next\", \"night\", \"night\", \"night\", \"norman\", \"norman\", \"norman\", \"normans\", \"normans\", \"normans\", \"olivia\", \"olivia\", \"olivia\", \"omega\", \"omega\", \"open\", \"open\", \"open\", \"pardy\", \"pardy\", \"pardy\", \"paul\", \"paul\", \"paul\", \"paulys\", \"paulys\", \"paulys\", \"peyton\", \"peyton\", \"peyton\", \"peytons\", \"peytons\", \"peytons\", \"picard\", \"picard\", \"picard\", \"plissken\", \"plissken\", \"plissken\", \"postman\", \"postman\", \"postman\", \"pull\", \"pull\", \"pull\", \"ray\", \"ray\", \"ray\", \"recreation\", \"recreation\", \"recreation\", \"reese\", \"reese\", \"reese\", \"regina\", \"regina\", \"regina\", \"reverend\", \"reverend\", \"reverend\", \"right\", \"right\", \"right\", \"run\", \"run\", \"run\", \"rush\", \"rush\", \"rush\", \"ruth\", \"ruth\", \"ruth\", \"sam\", \"sam\", \"sam\", \"samantha\", \"samantha\", \"samantha\", \"sanitation\", \"sanitation\", \"sanitation\", \"say\", \"say\", \"say\", \"sayer\", \"sayer\", \"sayer\", \"see\", \"see\", \"see\", \"shelby\", \"shelby\", \"shelby\", \"shipcard\", \"shipcard\", \"shipcard\", \"shoot\", \"shoot\", \"shoot\", \"simone\", \"simone\", \"simone\", \"simones\", \"simones\", \"simones\", \"sinclair\", \"sinclair\", \"sinclair\", \"smith\", \"smith\", \"smith\", \"spreg\", \"spreg\", \"spreg\", \"sr\", \"sr\", \"sr\", \"stagehand\", \"stagehand\", \"stagehand\", \"stagehands\", \"stagehands\", \"stagehands\", \"stand\", \"stand\", \"stand\", \"star\", \"star\", \"star\", \"starla\", \"starla\", \"starla\", \"subdeck\", \"subdeck\", \"subdeck\", \"sweeper\", \"sweeper\", \"sweeper\", \"take\", \"take\", \"take\", \"teslas\", \"teslas\", \"teslas\", \"theodore\", \"theodore\", \"theodore\", \"think\", \"think\", \"think\", \"tilda\", \"tilda\", \"tilda\", \"tildas\", \"tildas\", \"tildas\", \"time\", \"time\", \"time\", \"try\", \"try\", \"try\", \"tubule\", \"tubule\", \"tubule\", \"turn\", \"turn\", \"turn\", \"two\", \"two\", \"two\", \"us\", \"us\", \"us\", \"valentina\", \"valentina\", \"valentina\", \"valentinas\", \"valentinas\", \"valentinas\", \"vern\", \"vern\", \"vern\", \"vienna\", \"vienna\", \"vienna\", \"viktor\", \"viktor\", \"viktor\", \"vince\", \"vince\", \"vince\", \"walk\", \"walk\", \"walk\", \"wall\", \"wall\", \"wall\", \"warders\", \"warders\", \"warders\", \"wass\", \"wass\", \"wass\", \"watch\", \"watch\", \"watch\", \"way\", \"way\", \"way\", \"well\", \"well\", \"well\", \"wendi\", \"wendi\", \"wendi\", \"westlake\", \"westlake\", \"westlake\", \"wheelsy\", \"wheelsy\", \"wheelsy\", \"willie\", \"willie\", \"willie\", \"xanadu\", \"xanadu\", \"xanadu\", \"youre\", \"youre\", \"youre\"]}, \"R\": 30, \"lambda.step\": 0.01, \"plot.opts\": {\"xlab\": \"PC1\", \"ylab\": \"PC2\"}, \"topic.order\": [1, 2, 3]};\n",
       "\n",
       "function LDAvis_load_lib(url, callback){\n",
       "  var s = document.createElement('script');\n",
       "  s.src = url;\n",
       "  s.async = true;\n",
       "  s.onreadystatechange = s.onload = callback;\n",
       "  s.onerror = function(){console.warn(\"failed to load library \" + url);};\n",
       "  document.getElementsByTagName(\"head\")[0].appendChild(s);\n",
       "}\n",
       "\n",
       "if(typeof(LDAvis) !== \"undefined\"){\n",
       "   // already loaded: just create the visualization\n",
       "   !function(LDAvis){\n",
       "       new LDAvis(\"#\" + \"ldavis_el59591398223612440484505158067\", ldavis_el59591398223612440484505158067_data);\n",
       "   }(LDAvis);\n",
       "}else if(typeof define === \"function\" && define.amd){\n",
       "   // require.js is available: use it to load d3/LDAvis\n",
       "   require.config({paths: {d3: \"https://d3js.org/d3.v5\"}});\n",
       "   require([\"d3\"], function(d3){\n",
       "      window.d3 = d3;\n",
       "      LDAvis_load_lib(\"https://cdn.jsdelivr.net/gh/bmabey/pyLDAvis@3.3.1/pyLDAvis/js/ldavis.v3.0.0.js\", function(){\n",
       "        new LDAvis(\"#\" + \"ldavis_el59591398223612440484505158067\", ldavis_el59591398223612440484505158067_data);\n",
       "      });\n",
       "    });\n",
       "}else{\n",
       "    // require.js not available: dynamically load d3 & LDAvis\n",
       "    LDAvis_load_lib(\"https://d3js.org/d3.v5.js\", function(){\n",
       "         LDAvis_load_lib(\"https://cdn.jsdelivr.net/gh/bmabey/pyLDAvis@3.3.1/pyLDAvis/js/ldavis.v3.0.0.js\", function(){\n",
       "                 new LDAvis(\"#\" + \"ldavis_el59591398223612440484505158067\", ldavis_el59591398223612440484505158067_data);\n",
       "            })\n",
       "         });\n",
       "}\n",
       "</script>"
      ],
      "text/plain": [
       "PreparedData(topic_coordinates=              x         y  topics  cluster       Freq\n",
       "topic                                                \n",
       "0     -0.003842 -0.001134       1        1  42.670945\n",
       "1      0.002960 -0.002578       2        1  32.207402\n",
       "2      0.000882  0.003712       3        1  25.121653, topic_info=         Term          Freq         Total Category  logprob  loglift\n",
       "376      back  12485.000000  12485.000000  Default  30.0000  30.0000\n",
       "1762      get  13847.000000  13847.000000  Default  29.0000  29.0000\n",
       "2547     look  12923.000000  12923.000000  Default  28.0000  28.0000\n",
       "3787      see  12020.000000  12020.000000  Default  27.0000  27.0000\n",
       "14009     sam   2658.000000   2658.000000  Default  26.0000  26.0000\n",
       "...       ...           ...           ...      ...      ...      ...\n",
       "280    around   1426.306016   6457.132523   Topic3  -5.9389  -0.1287\n",
       "4072    stand   1187.605904   4808.153029   Topic3  -6.1220  -0.0169\n",
       "365      away   1262.363972   5412.216006   Topic3  -6.0610  -0.0742\n",
       "4652      two   1184.776479   5434.971081   Topic3  -6.1244  -0.1419\n",
       "1094      day   1204.857204   6117.429551   Topic3  -6.1076  -0.2433\n",
       "\n",
       "[287 rows x 6 columns], token_table=       Topic      Freq      Term\n",
       "term                            \n",
       "11927      1  0.227462      abby\n",
       "11927      2  0.318447      abby\n",
       "11927      3  0.449869      abby\n",
       "66185      1  0.184819  ackerman\n",
       "66185      2  0.628384  ackerman\n",
       "...      ...       ...       ...\n",
       "64557      2  0.164418    xanadu\n",
       "64557      3  0.164418    xanadu\n",
       "5073       1  0.422839     youre\n",
       "5073       2  0.314855     youre\n",
       "5073       3  0.262179     youre\n",
       "\n",
       "[597 rows x 3 columns], R=30, lambda_step=0.01, plot_opts={'xlab': 'PC1', 'ylab': 'PC2'}, topic_order=[1, 2, 3])"
      ]
     },
     "execution_count": 134,
     "metadata": {},
     "output_type": "execute_result"
    }
   ],
   "source": [
    "import pickle \n",
    "import pyLDAvis\n",
    "import pyLDAvis.gensim_models\n",
    "import os\n",
    "\n",
    "# Visualize the topics\n",
    "pyLDAvis.enable_notebook()\n",
    "\n",
    "LDAvis_data_filepath = os.path.join('Data/prepared_'+str(num_topics))\n",
    "\n",
    "# # this is a bit time consuming - make the if statement True\n",
    "# # if you want to execute visualization prep yourself\n",
    "if 1 == 1:\n",
    "    LDAvis_prepared = pyLDAvis.gensim_models.prepare(lda_model, corpus, id2word, sort_topics=False)\n",
    "    with open(LDAvis_data_filepath, 'wb') as f:\n",
    "        pickle.dump(LDAvis_prepared, f)\n",
    "\n",
    "# load the pre-prepared pyLDAvis data from disk\n",
    "with open(LDAvis_data_filepath, 'rb') as f:\n",
    "    LDAvis_prepared = pickle.load(f)\n",
    "\n",
    "pyLDAvis.save_html(LDAvis_prepared, 'Data/prepared_'+ str(num_topics) +'.html')\n",
    "\n",
    "LDAvis_prepared"
   ]
  },
  {
   "cell_type": "code",
   "execution_count": 135,
   "id": "1d84392a",
   "metadata": {},
   "outputs": [
    {
     "name": "stderr",
     "output_type": "stream",
     "text": [
      "/home/anna/anaconda3/lib/python3.8/site-packages/ipykernel/ipkernel.py:287: DeprecationWarning: `should_run_async` will not call `transform_cell` automatically in the future. Please pass the result to `transformed_cell` argument and any exception that happen during thetransform in `preprocessing_exc_tuple` in IPython 7.17 and above.\n",
      "  and should_run_async(code)\n"
     ]
    },
    {
     "data": {
      "image/png": "[encoded data removed]",
      "text/plain": [
       "<Figure size 720x720 with 3 Axes>"
      ]
     },
     "metadata": {
      "needs_background": "light"
     },
     "output_type": "display_data"
    }
   ],
   "source": [
    "from matplotlib import pyplot as plt\n",
    "from wordcloud import WordCloud, STOPWORDS\n",
    "import matplotlib.colors as mcolors\n",
    "\n",
    "cols = [color for name, color in mcolors.TABLEAU_COLORS.items()]  # more colors: 'mcolors.XKCD_COLORS'\n",
    "\n",
    "cloud = WordCloud(stopwords=stop_words,\n",
    "                  background_color='white',\n",
    "                  width=2500,\n",
    "                  height=1800,\n",
    "                  max_words=10,\n",
    "                  colormap='tab10',\n",
    "                  color_func=lambda *args, **kwargs: cols[i],\n",
    "                  prefer_horizontal=1.0)\n",
    "\n",
    "topics = lda_model.show_topics(formatted=False)\n",
    "\n",
    "fig, axes = plt.subplots(1, 3, figsize=(10,10), sharex=True, sharey=True)\n",
    "\n",
    "for i, ax in enumerate(axes.flatten()):\n",
    "    fig.add_subplot(ax)\n",
    "    topic_words = dict(topics[i][1])\n",
    "    cloud.generate_from_frequencies(topic_words, max_font_size=300)\n",
    "    plt.gca().imshow(cloud)\n",
    "    plt.gca().set_title('Topic ' + str(i), fontdict=dict(size=16))\n",
    "    plt.gca().axis('off')\n",
    "\n",
    "\n",
    "plt.subplots_adjust(wspace=0, hspace=0)\n",
    "plt.axis('off')\n",
    "plt.margins(x=0, y=0)\n",
    "plt.tight_layout()\n",
    "plt.show()"
   ]
  },
  {
   "cell_type": "code",
   "execution_count": 136,
   "id": "b92555aa",
   "metadata": {},
   "outputs": [
    {
     "name": "stderr",
     "output_type": "stream",
     "text": [
      "/home/anna/anaconda3/lib/python3.8/site-packages/ipykernel/ipkernel.py:287: DeprecationWarning: `should_run_async` will not call `transform_cell` automatically in the future. Please pass the result to `transformed_cell` argument and any exception that happen during thetransform in `preprocessing_exc_tuple` in IPython 7.17 and above.\n",
      "  and should_run_async(code)\n"
     ]
    }
   ],
   "source": [
    "topic_scores = [[topic_score[1] for topic_score in sent] for sent in doc_lda]"
   ]
  },
  {
   "cell_type": "code",
   "execution_count": 137,
   "id": "13af3758",
   "metadata": {},
   "outputs": [
    {
     "name": "stderr",
     "output_type": "stream",
     "text": [
      "/home/anna/anaconda3/lib/python3.8/site-packages/ipykernel/ipkernel.py:287: DeprecationWarning: `should_run_async` will not call `transform_cell` automatically in the future. Please pass the result to `transformed_cell` argument and any exception that happen during thetransform in `preprocessing_exc_tuple` in IPython 7.17 and above.\n",
      "  and should_run_async(code)\n"
     ]
    }
   ],
   "source": [
    "df_topics = pd.DataFrame(topic_scores)"
   ]
  },
  {
   "cell_type": "code",
   "execution_count": 138,
   "id": "9f4d0ba2",
   "metadata": {},
   "outputs": [
    {
     "name": "stderr",
     "output_type": "stream",
     "text": [
      "/home/anna/anaconda3/lib/python3.8/site-packages/ipykernel/ipkernel.py:287: DeprecationWarning: `should_run_async` will not call `transform_cell` automatically in the future. Please pass the result to `transformed_cell` argument and any exception that happen during thetransform in `preprocessing_exc_tuple` in IPython 7.17 and above.\n",
      "  and should_run_async(code)\n"
     ]
    }
   ],
   "source": [
    "df_topics.fillna(0,  inplace=True)"
   ]
  },
  {
   "cell_type": "code",
   "execution_count": 139,
   "id": "96e0d99d",
   "metadata": {},
   "outputs": [
    {
     "name": "stderr",
     "output_type": "stream",
     "text": [
      "/home/anna/anaconda3/lib/python3.8/site-packages/ipykernel/ipkernel.py:287: DeprecationWarning: `should_run_async` will not call `transform_cell` automatically in the future. Please pass the result to `transformed_cell` argument and any exception that happen during thetransform in `preprocessing_exc_tuple` in IPython 7.17 and above.\n",
      "  and should_run_async(code)\n"
     ]
    },
    {
     "data": {
      "text/plain": [
       "0    0.714540\n",
       "1    0.274629\n",
       "2    0.010831\n",
       "Name: 4, dtype: float64"
      ]
     },
     "execution_count": 139,
     "metadata": {},
     "output_type": "execute_result"
    }
   ],
   "source": [
    "df_topics.loc[4,:]   #scores dos topicos do script 4 "
   ]
  },
  {
   "cell_type": "markdown",
   "id": "b8e03431",
   "metadata": {},
   "source": [
    "# Dataframe concat\n",
    "## Concatenating the dataset with the raw script and the movie name (df_parcial) with Dataframe with scores of each topic (df_topics)"
   ]
  },
  {
   "cell_type": "code",
   "execution_count": 140,
   "id": "e3c74432",
   "metadata": {},
   "outputs": [
    {
     "name": "stderr",
     "output_type": "stream",
     "text": [
      "/home/anna/anaconda3/lib/python3.8/site-packages/ipykernel/ipkernel.py:287: DeprecationWarning: `should_run_async` will not call `transform_cell` automatically in the future. Please pass the result to `transformed_cell` argument and any exception that happen during thetransform in `preprocessing_exc_tuple` in IPython 7.17 and above.\n",
      "  and should_run_async(code)\n"
     ]
    }
   ],
   "source": [
    "df_concat = pd.concat([text, df_topics], axis=1) "
   ]
  },
  {
   "cell_type": "code",
   "execution_count": 141,
   "id": "2d41af12",
   "metadata": {},
   "outputs": [
    {
     "name": "stderr",
     "output_type": "stream",
     "text": [
      "/home/anna/anaconda3/lib/python3.8/site-packages/ipykernel/ipkernel.py:287: DeprecationWarning: `should_run_async` will not call `transform_cell` automatically in the future. Please pass the result to `transformed_cell` argument and any exception that happen during thetransform in `preprocessing_exc_tuple` in IPython 7.17 and above.\n",
      "  and should_run_async(code)\n"
     ]
    },
    {
     "data": {
      "text/html": [
       "<div>\n",
       "<style scoped>\n",
       "    .dataframe tbody tr th:only-of-type {\n",
       "        vertical-align: middle;\n",
       "    }\n",
       "\n",
       "    .dataframe tbody tr th {\n",
       "        vertical-align: top;\n",
       "    }\n",
       "\n",
       "    .dataframe thead th {\n",
       "        text-align: right;\n",
       "    }\n",
       "</style>\n",
       "<table border=\"1\" class=\"dataframe\">\n",
       "  <thead>\n",
       "    <tr style=\"text-align: right;\">\n",
       "      <th></th>\n",
       "      <th>movie_name</th>\n",
       "      <th>script</th>\n",
       "      <th>0</th>\n",
       "      <th>1</th>\n",
       "      <th>2</th>\n",
       "    </tr>\n",
       "  </thead>\n",
       "  <tbody>\n",
       "    <tr>\n",
       "      <th>0</th>\n",
       "      <td>12 Monkeys</td>\n",
       "      <td>Twelve MonkeysTWELVE MONKEYS              An o...</td>\n",
       "      <td>0.657004</td>\n",
       "      <td>0.333385</td>\n",
       "      <td>0.000000</td>\n",
       "    </tr>\n",
       "    <tr>\n",
       "      <th>1</th>\n",
       "      <td>2001 A Space Odyssey</td>\n",
       "      <td>2001: A SPACE ODYSSEY    Screenplay   ...</td>\n",
       "      <td>0.012915</td>\n",
       "      <td>0.883567</td>\n",
       "      <td>0.103518</td>\n",
       "    </tr>\n",
       "    <tr>\n",
       "      <th>2</th>\n",
       "      <td>2012</td>\n",
       "      <td>...</td>\n",
       "      <td>0.311166</td>\n",
       "      <td>0.588064</td>\n",
       "      <td>0.100770</td>\n",
       "    </tr>\n",
       "    <tr>\n",
       "      <th>3</th>\n",
       "      <td>28 Days Later</td>\n",
       "      <td>28 DAYS LATER       ...</td>\n",
       "      <td>0.951329</td>\n",
       "      <td>0.046018</td>\n",
       "      <td>0.000000</td>\n",
       "    </tr>\n",
       "    <tr>\n",
       "      <th>4</th>\n",
       "      <td>9</td>\n",
       "      <td>...</td>\n",
       "      <td>0.714540</td>\n",
       "      <td>0.274629</td>\n",
       "      <td>0.010831</td>\n",
       "    </tr>\n",
       "  </tbody>\n",
       "</table>\n",
       "</div>"
      ],
      "text/plain": [
       "             movie_name                                             script  \\\n",
       "0            12 Monkeys  Twelve MonkeysTWELVE MONKEYS              An o...   \n",
       "1  2001 A Space Odyssey          2001: A SPACE ODYSSEY    Screenplay   ...   \n",
       "2                  2012                                                ...   \n",
       "3         28 Days Later                            28 DAYS LATER       ...   \n",
       "4                     9                                                ...   \n",
       "\n",
       "          0         1         2  \n",
       "0  0.657004  0.333385  0.000000  \n",
       "1  0.012915  0.883567  0.103518  \n",
       "2  0.311166  0.588064  0.100770  \n",
       "3  0.951329  0.046018  0.000000  \n",
       "4  0.714540  0.274629  0.010831  "
      ]
     },
     "execution_count": 141,
     "metadata": {},
     "output_type": "execute_result"
    }
   ],
   "source": [
    "df_concat.head()"
   ]
  },
  {
   "cell_type": "code",
   "execution_count": 142,
   "id": "10c919ee",
   "metadata": {},
   "outputs": [
    {
     "name": "stderr",
     "output_type": "stream",
     "text": [
      "/home/anna/anaconda3/lib/python3.8/site-packages/ipykernel/ipkernel.py:287: DeprecationWarning: `should_run_async` will not call `transform_cell` automatically in the future. Please pass the result to `transformed_cell` argument and any exception that happen during thetransform in `preprocessing_exc_tuple` in IPython 7.17 and above.\n",
      "  and should_run_async(code)\n"
     ]
    }
   ],
   "source": [
    "topics = df_concat.loc[:, [0, 1, 2]]"
   ]
  },
  {
   "cell_type": "code",
   "execution_count": 143,
   "id": "cccdc9c6",
   "metadata": {},
   "outputs": [
    {
     "name": "stderr",
     "output_type": "stream",
     "text": [
      "/home/anna/anaconda3/lib/python3.8/site-packages/ipykernel/ipkernel.py:287: DeprecationWarning: `should_run_async` will not call `transform_cell` automatically in the future. Please pass the result to `transformed_cell` argument and any exception that happen during thetransform in `preprocessing_exc_tuple` in IPython 7.17 and above.\n",
      "  and should_run_async(code)\n"
     ]
    }
   ],
   "source": [
    "df_concat['Topic'] = topics.idxmax(axis=1)"
   ]
  },
  {
   "cell_type": "code",
   "execution_count": 144,
   "id": "e1565782",
   "metadata": {},
   "outputs": [
    {
     "name": "stderr",
     "output_type": "stream",
     "text": [
      "/home/anna/anaconda3/lib/python3.8/site-packages/ipykernel/ipkernel.py:287: DeprecationWarning: `should_run_async` will not call `transform_cell` automatically in the future. Please pass the result to `transformed_cell` argument and any exception that happen during thetransform in `preprocessing_exc_tuple` in IPython 7.17 and above.\n",
      "  and should_run_async(code)\n"
     ]
    },
    {
     "data": {
      "text/html": [
       "<div>\n",
       "<style scoped>\n",
       "    .dataframe tbody tr th:only-of-type {\n",
       "        vertical-align: middle;\n",
       "    }\n",
       "\n",
       "    .dataframe tbody tr th {\n",
       "        vertical-align: top;\n",
       "    }\n",
       "\n",
       "    .dataframe thead th {\n",
       "        text-align: right;\n",
       "    }\n",
       "</style>\n",
       "<table border=\"1\" class=\"dataframe\">\n",
       "  <thead>\n",
       "    <tr style=\"text-align: right;\">\n",
       "      <th></th>\n",
       "      <th>movie_name</th>\n",
       "      <th>script</th>\n",
       "      <th>0</th>\n",
       "      <th>1</th>\n",
       "      <th>2</th>\n",
       "      <th>Topic</th>\n",
       "    </tr>\n",
       "  </thead>\n",
       "  <tbody>\n",
       "    <tr>\n",
       "      <th>0</th>\n",
       "      <td>12 Monkeys</td>\n",
       "      <td>Twelve MonkeysTWELVE MONKEYS              An o...</td>\n",
       "      <td>0.657004</td>\n",
       "      <td>0.333385</td>\n",
       "      <td>0.000000</td>\n",
       "      <td>0.0</td>\n",
       "    </tr>\n",
       "    <tr>\n",
       "      <th>1</th>\n",
       "      <td>2001 A Space Odyssey</td>\n",
       "      <td>2001: A SPACE ODYSSEY    Screenplay   ...</td>\n",
       "      <td>0.012915</td>\n",
       "      <td>0.883567</td>\n",
       "      <td>0.103518</td>\n",
       "      <td>1.0</td>\n",
       "    </tr>\n",
       "    <tr>\n",
       "      <th>2</th>\n",
       "      <td>2012</td>\n",
       "      <td>...</td>\n",
       "      <td>0.311166</td>\n",
       "      <td>0.588064</td>\n",
       "      <td>0.100770</td>\n",
       "      <td>1.0</td>\n",
       "    </tr>\n",
       "    <tr>\n",
       "      <th>3</th>\n",
       "      <td>28 Days Later</td>\n",
       "      <td>28 DAYS LATER       ...</td>\n",
       "      <td>0.951329</td>\n",
       "      <td>0.046018</td>\n",
       "      <td>0.000000</td>\n",
       "      <td>0.0</td>\n",
       "    </tr>\n",
       "    <tr>\n",
       "      <th>4</th>\n",
       "      <td>9</td>\n",
       "      <td>...</td>\n",
       "      <td>0.714540</td>\n",
       "      <td>0.274629</td>\n",
       "      <td>0.010831</td>\n",
       "      <td>0.0</td>\n",
       "    </tr>\n",
       "  </tbody>\n",
       "</table>\n",
       "</div>"
      ],
      "text/plain": [
       "             movie_name                                             script  \\\n",
       "0            12 Monkeys  Twelve MonkeysTWELVE MONKEYS              An o...   \n",
       "1  2001 A Space Odyssey          2001: A SPACE ODYSSEY    Screenplay   ...   \n",
       "2                  2012                                                ...   \n",
       "3         28 Days Later                            28 DAYS LATER       ...   \n",
       "4                     9                                                ...   \n",
       "\n",
       "          0         1         2  Topic  \n",
       "0  0.657004  0.333385  0.000000    0.0  \n",
       "1  0.012915  0.883567  0.103518    1.0  \n",
       "2  0.311166  0.588064  0.100770    1.0  \n",
       "3  0.951329  0.046018  0.000000    0.0  \n",
       "4  0.714540  0.274629  0.010831    0.0  "
      ]
     },
     "execution_count": 144,
     "metadata": {},
     "output_type": "execute_result"
    }
   ],
   "source": [
    "df_concat.head()"
   ]
  },
  {
   "cell_type": "code",
   "execution_count": 145,
   "id": "c5540c23",
   "metadata": {},
   "outputs": [
    {
     "name": "stderr",
     "output_type": "stream",
     "text": [
      "/home/anna/anaconda3/lib/python3.8/site-packages/ipykernel/ipkernel.py:287: DeprecationWarning: `should_run_async` will not call `transform_cell` automatically in the future. Please pass the result to `transformed_cell` argument and any exception that happen during thetransform in `preprocessing_exc_tuple` in IPython 7.17 and above.\n",
      "  and should_run_async(code)\n"
     ]
    },
    {
     "data": {
      "text/html": [
       "<div>\n",
       "<style scoped>\n",
       "    .dataframe tbody tr th:only-of-type {\n",
       "        vertical-align: middle;\n",
       "    }\n",
       "\n",
       "    .dataframe tbody tr th {\n",
       "        vertical-align: top;\n",
       "    }\n",
       "\n",
       "    .dataframe thead th {\n",
       "        text-align: right;\n",
       "    }\n",
       "</style>\n",
       "<table border=\"1\" class=\"dataframe\">\n",
       "  <thead>\n",
       "    <tr style=\"text-align: right;\">\n",
       "      <th></th>\n",
       "      <th>movie_name</th>\n",
       "      <th>script</th>\n",
       "      <th>0</th>\n",
       "      <th>1</th>\n",
       "      <th>2</th>\n",
       "      <th>Topic</th>\n",
       "    </tr>\n",
       "  </thead>\n",
       "  <tbody>\n",
       "    <tr>\n",
       "      <th>165</th>\n",
       "      <td>X Files Fight the Future, The</td>\n",
       "      <td>\"The X Files\", production draft, by Chris C...</td>\n",
       "      <td>NaN</td>\n",
       "      <td>NaN</td>\n",
       "      <td>NaN</td>\n",
       "      <td>NaN</td>\n",
       "    </tr>\n",
       "    <tr>\n",
       "      <th>166</th>\n",
       "      <td>X Men</td>\n",
       "      <td>\"X-MEN\" -- early draft by Ed Solomon, Chris Mc...</td>\n",
       "      <td>NaN</td>\n",
       "      <td>NaN</td>\n",
       "      <td>NaN</td>\n",
       "      <td>NaN</td>\n",
       "    </tr>\n",
       "    <tr>\n",
       "      <th>167</th>\n",
       "      <td>X Men Origins Wolverine</td>\n",
       "      <td>X-MEN ORIGINS: WO...</td>\n",
       "      <td>NaN</td>\n",
       "      <td>NaN</td>\n",
       "      <td>NaN</td>\n",
       "      <td>NaN</td>\n",
       "    </tr>\n",
       "  </tbody>\n",
       "</table>\n",
       "</div>"
      ],
      "text/plain": [
       "                        movie_name  \\\n",
       "165  X Files Fight the Future, The   \n",
       "166                          X Men   \n",
       "167        X Men Origins Wolverine   \n",
       "\n",
       "                                                script   0   1   2  Topic  \n",
       "165     \"The X Files\", production draft, by Chris C... NaN NaN NaN    NaN  \n",
       "166  \"X-MEN\" -- early draft by Ed Solomon, Chris Mc... NaN NaN NaN    NaN  \n",
       "167                               X-MEN ORIGINS: WO... NaN NaN NaN    NaN  "
      ]
     },
     "execution_count": 145,
     "metadata": {},
     "output_type": "execute_result"
    }
   ],
   "source": [
    "df_concat[df_concat['Topic'].isna()]"
   ]
  },
  {
   "cell_type": "code",
   "execution_count": 146,
   "id": "e45abced",
   "metadata": {},
   "outputs": [
    {
     "name": "stderr",
     "output_type": "stream",
     "text": [
      "/home/anna/anaconda3/lib/python3.8/site-packages/ipykernel/ipkernel.py:287: DeprecationWarning: `should_run_async` will not call `transform_cell` automatically in the future. Please pass the result to `transformed_cell` argument and any exception that happen during thetransform in `preprocessing_exc_tuple` in IPython 7.17 and above.\n",
      "  and should_run_async(code)\n"
     ]
    }
   ],
   "source": [
    "df_concat.dropna(subset=['Topic'], how='all', inplace=True)"
   ]
  },
  {
   "cell_type": "code",
   "execution_count": 147,
   "id": "dc5f04b2",
   "metadata": {},
   "outputs": [
    {
     "name": "stderr",
     "output_type": "stream",
     "text": [
      "/home/anna/anaconda3/lib/python3.8/site-packages/ipykernel/ipkernel.py:287: DeprecationWarning: `should_run_async` will not call `transform_cell` automatically in the future. Please pass the result to `transformed_cell` argument and any exception that happen during thetransform in `preprocessing_exc_tuple` in IPython 7.17 and above.\n",
      "  and should_run_async(code)\n"
     ]
    },
    {
     "data": {
      "text/html": [
       "<div>\n",
       "<style scoped>\n",
       "    .dataframe tbody tr th:only-of-type {\n",
       "        vertical-align: middle;\n",
       "    }\n",
       "\n",
       "    .dataframe tbody tr th {\n",
       "        vertical-align: top;\n",
       "    }\n",
       "\n",
       "    .dataframe thead th {\n",
       "        text-align: right;\n",
       "    }\n",
       "</style>\n",
       "<table border=\"1\" class=\"dataframe\">\n",
       "  <thead>\n",
       "    <tr style=\"text-align: right;\">\n",
       "      <th></th>\n",
       "      <th>movie_name</th>\n",
       "      <th>script</th>\n",
       "      <th>0</th>\n",
       "      <th>1</th>\n",
       "      <th>2</th>\n",
       "      <th>Topic</th>\n",
       "    </tr>\n",
       "  </thead>\n",
       "  <tbody>\n",
       "  </tbody>\n",
       "</table>\n",
       "</div>"
      ],
      "text/plain": [
       "Empty DataFrame\n",
       "Columns: [movie_name, script, 0, 1, 2, Topic]\n",
       "Index: []"
      ]
     },
     "execution_count": 147,
     "metadata": {},
     "output_type": "execute_result"
    }
   ],
   "source": [
    "df_concat[df_concat['Topic'].isna()]"
   ]
  },
  {
   "cell_type": "code",
   "execution_count": 148,
   "id": "01653e34",
   "metadata": {},
   "outputs": [
    {
     "name": "stderr",
     "output_type": "stream",
     "text": [
      "/home/anna/anaconda3/lib/python3.8/site-packages/ipykernel/ipkernel.py:287: DeprecationWarning: `should_run_async` will not call `transform_cell` automatically in the future. Please pass the result to `transformed_cell` argument and any exception that happen during thetransform in `preprocessing_exc_tuple` in IPython 7.17 and above.\n",
      "  and should_run_async(code)\n"
     ]
    }
   ],
   "source": [
    "df_concat[['Topic']] = df_concat[['Topic']].astype(int)"
   ]
  },
  {
   "cell_type": "code",
   "execution_count": 149,
   "id": "7cc6ab8c",
   "metadata": {},
   "outputs": [
    {
     "name": "stderr",
     "output_type": "stream",
     "text": [
      "/home/anna/anaconda3/lib/python3.8/site-packages/ipykernel/ipkernel.py:287: DeprecationWarning: `should_run_async` will not call `transform_cell` automatically in the future. Please pass the result to `transformed_cell` argument and any exception that happen during thetransform in `preprocessing_exc_tuple` in IPython 7.17 and above.\n",
      "  and should_run_async(code)\n"
     ]
    },
    {
     "data": {
      "text/html": [
       "<div>\n",
       "<style scoped>\n",
       "    .dataframe tbody tr th:only-of-type {\n",
       "        vertical-align: middle;\n",
       "    }\n",
       "\n",
       "    .dataframe tbody tr th {\n",
       "        vertical-align: top;\n",
       "    }\n",
       "\n",
       "    .dataframe thead th {\n",
       "        text-align: right;\n",
       "    }\n",
       "</style>\n",
       "<table border=\"1\" class=\"dataframe\">\n",
       "  <thead>\n",
       "    <tr style=\"text-align: right;\">\n",
       "      <th></th>\n",
       "      <th>movie_name</th>\n",
       "      <th>script</th>\n",
       "      <th>0</th>\n",
       "      <th>1</th>\n",
       "      <th>2</th>\n",
       "      <th>Topic</th>\n",
       "    </tr>\n",
       "  </thead>\n",
       "  <tbody>\n",
       "    <tr>\n",
       "      <th>0</th>\n",
       "      <td>12 Monkeys</td>\n",
       "      <td>Twelve MonkeysTWELVE MONKEYS              An o...</td>\n",
       "      <td>0.657004</td>\n",
       "      <td>0.333385</td>\n",
       "      <td>0.000000</td>\n",
       "      <td>0</td>\n",
       "    </tr>\n",
       "    <tr>\n",
       "      <th>1</th>\n",
       "      <td>2001 A Space Odyssey</td>\n",
       "      <td>2001: A SPACE ODYSSEY    Screenplay   ...</td>\n",
       "      <td>0.012915</td>\n",
       "      <td>0.883567</td>\n",
       "      <td>0.103518</td>\n",
       "      <td>1</td>\n",
       "    </tr>\n",
       "    <tr>\n",
       "      <th>2</th>\n",
       "      <td>2012</td>\n",
       "      <td>...</td>\n",
       "      <td>0.311166</td>\n",
       "      <td>0.588064</td>\n",
       "      <td>0.100770</td>\n",
       "      <td>1</td>\n",
       "    </tr>\n",
       "    <tr>\n",
       "      <th>3</th>\n",
       "      <td>28 Days Later</td>\n",
       "      <td>28 DAYS LATER       ...</td>\n",
       "      <td>0.951329</td>\n",
       "      <td>0.046018</td>\n",
       "      <td>0.000000</td>\n",
       "      <td>0</td>\n",
       "    </tr>\n",
       "    <tr>\n",
       "      <th>4</th>\n",
       "      <td>9</td>\n",
       "      <td>...</td>\n",
       "      <td>0.714540</td>\n",
       "      <td>0.274629</td>\n",
       "      <td>0.010831</td>\n",
       "      <td>0</td>\n",
       "    </tr>\n",
       "  </tbody>\n",
       "</table>\n",
       "</div>"
      ],
      "text/plain": [
       "             movie_name                                             script  \\\n",
       "0            12 Monkeys  Twelve MonkeysTWELVE MONKEYS              An o...   \n",
       "1  2001 A Space Odyssey          2001: A SPACE ODYSSEY    Screenplay   ...   \n",
       "2                  2012                                                ...   \n",
       "3         28 Days Later                            28 DAYS LATER       ...   \n",
       "4                     9                                                ...   \n",
       "\n",
       "          0         1         2  Topic  \n",
       "0  0.657004  0.333385  0.000000      0  \n",
       "1  0.012915  0.883567  0.103518      1  \n",
       "2  0.311166  0.588064  0.100770      1  \n",
       "3  0.951329  0.046018  0.000000      0  \n",
       "4  0.714540  0.274629  0.010831      0  "
      ]
     },
     "execution_count": 149,
     "metadata": {},
     "output_type": "execute_result"
    }
   ],
   "source": [
    "df_concat.head()"
   ]
  },
  {
   "cell_type": "code",
   "execution_count": 150,
   "id": "2626bc9c",
   "metadata": {},
   "outputs": [
    {
     "name": "stderr",
     "output_type": "stream",
     "text": [
      "/home/anna/anaconda3/lib/python3.8/site-packages/ipykernel/ipkernel.py:287: DeprecationWarning: `should_run_async` will not call `transform_cell` automatically in the future. Please pass the result to `transformed_cell` argument and any exception that happen during thetransform in `preprocessing_exc_tuple` in IPython 7.17 and above.\n",
      "  and should_run_async(code)\n"
     ]
    }
   ],
   "source": [
    "df_concat.to_csv('Data/df_concat.csv',  sep=';',index=False)"
   ]
  },
  {
   "cell_type": "code",
   "execution_count": null,
   "id": "388d1557",
   "metadata": {},
   "outputs": [],
   "source": []
  },
  {
   "cell_type": "code",
   "execution_count": null,
   "id": "ce6ff8cf",
   "metadata": {},
   "outputs": [],
   "source": []
  },
  {
   "cell_type": "code",
   "execution_count": null,
   "id": "8176aacd",
   "metadata": {},
   "outputs": [],
   "source": []
  }
 ],
 "metadata": {
  "kernelspec": {
   "display_name": "Python 3",
   "language": "python",
   "name": "python3"
  },
  "language_info": {
   "codemirror_mode": {
    "name": "ipython",
    "version": 3
   },
   "file_extension": ".py",
   "mimetype": "text/x-python",
   "name": "python",
   "nbconvert_exporter": "python",
   "pygments_lexer": "ipython3",
   "version": "3.8.8"
  }
 },
 "nbformat": 4,
 "nbformat_minor": 5
}
